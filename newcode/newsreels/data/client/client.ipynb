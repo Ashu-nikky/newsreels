{
 "cells": [
  {
   "cell_type": "code",
   "execution_count": 7,
   "metadata": {},
   "outputs": [
    {
     "ename": "ModuleNotFoundError",
     "evalue": "No module named 'ms'",
     "output_type": "error",
     "traceback": [
      "\u001b[1;31m---------------------------------------------------------------------------\u001b[0m",
      "\u001b[1;31mModuleNotFoundError\u001b[0m                       Traceback (most recent call last)",
      "\u001b[1;32m<ipython-input-7-d9a7578ce1fa>\u001b[0m in \u001b[0;36m<module>\u001b[1;34m\u001b[0m\n\u001b[0;32m      5\u001b[0m \u001b[1;31m# import dslib.setup()\u001b[0m\u001b[1;33m\u001b[0m\u001b[1;33m\u001b[0m\u001b[1;33m\u001b[0m\u001b[0m\n\u001b[0;32m      6\u001b[0m \u001b[1;31m# dslib.setup.load_env()\u001b[0m\u001b[1;33m\u001b[0m\u001b[1;33m\u001b[0m\u001b[1;33m\u001b[0m\u001b[0m\n\u001b[1;32m----> 7\u001b[1;33m \u001b[1;32mimport\u001b[0m \u001b[0mms\u001b[0m\u001b[1;33m.\u001b[0m\u001b[0mversion\u001b[0m\u001b[1;33m\u001b[0m\u001b[1;33m\u001b[0m\u001b[0m\n\u001b[0m\u001b[0;32m      8\u001b[0m \u001b[1;32mimport\u001b[0m \u001b[0margparse\u001b[0m\u001b[1;33m\u001b[0m\u001b[1;33m\u001b[0m\u001b[0m\n\u001b[0;32m      9\u001b[0m \u001b[1;32mimport\u001b[0m \u001b[0mlogging\u001b[0m\u001b[1;33m\u001b[0m\u001b[1;33m\u001b[0m\u001b[0m\n",
      "\u001b[1;31mModuleNotFoundError\u001b[0m: No module named 'ms'"
     ]
    }
   ],
   "source": [
    "import sys\n",
    "import os\n",
    "sys.path.append('')\n",
    "import dslib\n",
    "import dslib.setup()\n",
    "dslib.setup.load_env()\n",
    "import ms.version\n",
    "import argparse\n",
    "import logging\n",
    "import itertools\n",
    "import pandas as pd\n",
    "import re\n",
    "sys.getdefaultencoding()\n",
    "import argparse\n",
    "import json\n",
    "import csv\n",
    "\n",
    "\n",
    "\n",
    "file_path = globals()[\"__file__\"]\n"
   ]
  },
  {
   "cell_type": "code",
   "execution_count": 8,
   "metadata": {},
   "outputs": [
    {
     "ename": "NameError",
     "evalue": "name 'filepath' is not defined",
     "output_type": "error",
     "traceback": [
      "\u001b[1;31m---------------------------------------------------------------------------\u001b[0m",
      "\u001b[1;31mNameError\u001b[0m                                 Traceback (most recent call last)",
      "\u001b[1;32m<ipython-input-8-36b73240ffb8>\u001b[0m in \u001b[0;36m<module>\u001b[1;34m\u001b[0m\n\u001b[0;32m      1\u001b[0m \u001b[1;31m#File path for client sector profile view\u001b[0m\u001b[1;33m\u001b[0m\u001b[1;33m\u001b[0m\u001b[1;33m\u001b[0m\u001b[0m\n\u001b[1;32m----> 2\u001b[1;33m sector_profile_view_file = os.path.join(os.path.dirname(os.path.dirname(os.path.dirname(os.path.dirname(filepath)))),\n\u001b[0m\u001b[0;32m      3\u001b[0m                                        \"data/client/new_sector_profile_view_shortlisted_clients.csv\")\n\u001b[0;32m      4\u001b[0m product_profile_view_file = os.path.join(os.path.dirname(os.path.dirname(os.path.dirname(os.path.dirname(filepath)))),\n\u001b[0;32m      5\u001b[0m                                        \"data/client/new_product_profile_view_shortlisted_clients.csv\")\n",
      "\u001b[1;31mNameError\u001b[0m: name 'filepath' is not defined"
     ]
    }
   ],
   "source": [
    "#File path for client sector profile view\n",
    "sector_profile_view_file = os.path.join(os.path.dirname(os.path.dirname(os.path.dirname(os.path.dirname(filepath)))),\n",
    "                                       \"data/client/new_sector_profile_view_shortlisted_clients.csv\")\n",
    "product_profile_view_file = os.path.join(os.path.dirname(os.path.dirname(os.path.dirname(os.path.dirname(filepath)))),\n",
    "                                       \"data/client/new_product_profile_view_shortlisted_clients.csv\")\n",
    "shortlisted_client_profile_file = os.path.join(os.path.dirname(os.path.dirname(os.path.dirname(os.path.dirname(filepath)))),\n",
    "                                       \"data/client/shortlisted_client_profile.csv\")\n"
   ]
  },
  {
   "cell_type": "code",
   "execution_count": 9,
   "metadata": {},
   "outputs": [],
   "source": [
    "#To retrieve client unique IDS\n",
    "def get_client_ids():\n",
    "    client_s = pandas.read_csv(sector_profile_view_file)\n",
    "    return list(client_s[\"idn_party\"].unique())"
   ]
  },
  {
   "cell_type": "code",
   "execution_count": 10,
   "metadata": {},
   "outputs": [],
   "source": [
    "#Retrieve sector view for a given client.\n",
    "def get_client_sectors(client_id):\n",
    "    sectors = pandas.read_csv(sector_profile_view_file)\n",
    "    client_sector = sectors[sectors[\"idn_party\"] == client_id]\n",
    "    return client_sector\n",
    "\n"
   ]
  },
  {
   "cell_type": "code",
   "execution_count": 11,
   "metadata": {},
   "outputs": [],
   "source": [
    "#Retrieve product view for a given client.\n",
    "def get_client_products(client_id):\n",
    "    products = pandas.read_csv(product_profile_view_file)\n",
    "    client_product = products[products[\"idn_party\"] == client_id]\n",
    "    return client_product"
   ]
  },
  {
   "cell_type": "code",
   "execution_count": 12,
   "metadata": {},
   "outputs": [],
   "source": [
    "#To retrieve shortlisted full profile having product, sector and location info\n",
    "def client_profile(client_id):\n",
    "    sector_profile_df = pandas.read_csv(sector_profile_view_file)\n",
    "    product_profile_df = pandas.read_csv(product_profile_view_file)\n",
    "    shortlisted_client_profile = pandas.read_csv(shortlisted_client_profile_file)\n",
    "    shortlisted_client_profile = shortlisted_client_profile[shortlisted_client_profile[\"idn_party\"] == client_id]\n",
    "    return shortlisted_client_profile, sector_profile_df, product_profile_df"
   ]
  },
  {
   "cell_type": "code",
   "execution_count": null,
   "metadata": {},
   "outputs": [],
   "source": []
  }
 ],
 "metadata": {
  "kernelspec": {
   "display_name": "Python 3",
   "language": "python",
   "name": "python3"
  },
  "language_info": {
   "codemirror_mode": {
    "name": "ipython",
    "version": 3
   },
   "file_extension": ".py",
   "mimetype": "text/x-python",
   "name": "python",
   "nbconvert_exporter": "python",
   "pygments_lexer": "ipython3",
   "version": "3.7.4"
  }
 },
 "nbformat": 4,
 "nbformat_minor": 2
}

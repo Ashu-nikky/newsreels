{
 "cells": [
  {
   "cell_type": "code",
   "execution_count": 1,
   "metadata": {},
   "outputs": [],
   "source": [
    "from newsapi import NewsApiClient"
   ]
  },
  {
   "cell_type": "code",
   "execution_count": 11,
   "metadata": {},
   "outputs": [],
   "source": [
    "import requests\n",
    "import json"
   ]
  },
  {
   "cell_type": "code",
   "execution_count": 12,
   "metadata": {},
   "outputs": [],
   "source": [
    "url = (\"\"\"https://newsapi.org/v2/everything?language=en&from=2019-10-01&sources=cnbc&apiKey=749e4a9b92e046a386a4420df0de07ee\"\"\")\n",
    "\n",
    "response = requests.get(url)\n"
   ]
  },
  {
   "cell_type": "code",
   "execution_count": 14,
   "metadata": {},
   "outputs": [],
   "source": [
    "json_response=response.json()"
   ]
  },
  {
   "cell_type": "code",
   "execution_count": 17,
   "metadata": {},
   "outputs": [
    {
     "data": {
      "text/plain": [
       "{'status': 'ok',\n",
       " 'totalResults': 713,\n",
       " 'articles': [{'source': {'id': 'cnbc', 'name': 'CNBC'},\n",
       "   'author': 'David Reid',\n",
       "   'title': 'UK house prices grow at slowest rate in six years, survey says',\n",
       "   'description': 'On a month-to-month basis, house prices fell by 0.4% in September to reach an average value across the U.K. of $286,209.',\n",
       "   'url': 'https://www.cnbc.com/2019/10/07/uk-house-prices-grow-at-slowest-rate-in-six-years-survey-says.html',\n",
       "   'urlToImage': 'https://image.cnbcfm.com/api/v1/image/104001186-GettyImages-525528728.jpg?v=1532564015',\n",
       "   'publishedAt': '2019-10-07T11:18:00Z',\n",
       "   'content': 'House prices in the United Kingdom are rising at their slowest rate in six-and-a-half years, according to a well-watched barometer of the property market.\\r\\nThe Halifax House Price Index, which is owned and collated by IHS Markit, revealed Monday that house pr… [+2168 chars]'},\n",
       "  {'source': {'id': 'cnbc', 'name': 'CNBC'},\n",
       "   'author': 'Michael Bloom',\n",
       "   'title': \"Citi upgrades Uber to buy: 'The risk/reward has tilted favorably'\",\n",
       "   'description': \"Citi said in its upgrade of Uber that despite various overhangs from the company's IPO, it expects revenue growth to accelerate.\",\n",
       "   'url': 'https://www.cnbc.com/2019/10/07/citi-said-it-sees-an-improved-riskreward-for-uber.html',\n",
       "   'urlToImage': 'https://image.cnbcfm.com/api/v1/image/105907227-1557517008579gettyimages-1142583642.jpeg?v=1570408080',\n",
       "   'publishedAt': '2019-10-07T11:02:00Z',\n",
       "   'content': None},\n",
       "  {'source': {'id': 'cnbc', 'name': 'CNBC'},\n",
       "   'author': 'Reuters',\n",
       "   'title': 'GE to freeze pension plans for about 20,000 US employees in a bid to cut debt',\n",
       "   'description': 'General Electric said on Monday it was freezing the pension plan for about 20,000 U.S. employees with salaried benefits, as the industrial conglomerate looks to cut its huge debt pile.',\n",
       "   'url': 'https://www.cnbc.com/2019/10/07/ge-to-freeze-pension-plans-for-about-20000-us-employees-in-a-bid-to-cut-debt.html',\n",
       "   'urlToImage': 'https://image.cnbcfm.com/api/v1/image/106060637-1565032528469gettyimages-1158652518.jpeg?v=1567744659',\n",
       "   'publishedAt': '2019-10-07T10:45:00Z',\n",
       "   'content': 'General Electric said on Monday it was freezing the pension plan for about 20,000 U.S. employees with salaried benefits, as the industrial conglomerate looks to cut its huge debt pile.\\r\\nThe action also includes supplementary pension benefits for about 700 emp… [+158 chars]'},\n",
       "  {'source': {'id': 'cnbc', 'name': 'CNBC'},\n",
       "   'author': 'The Associated Press',\n",
       "   'title': \"US troops begin pullout from along Turkey's border in Syria, infuriating Syrian Kurds\",\n",
       "   'description': 'U.S.-backed Kurdish-led forces said American troops began pulling back Monday from positions along the border in northeast Syria ahead of an expected Turkish invasion.',\n",
       "   'url': 'https://www.cnbc.com/2019/10/07/us-troops-begin-pullout-from-along-turkeys-border-in-syria.html',\n",
       "   'urlToImage': 'https://image.cnbcfm.com/api/v1/image/105824430-1554066804130rts2fs65.jpg?v=1561353977',\n",
       "   'publishedAt': '2019-10-07T10:25:00Z',\n",
       "   'content': 'U.S.-backed Kurdish-led forces said American troops began pulling back Monday from positions along the border in northeast Syria ahead of an expected Turkish invasion that the Syrian Kurds say will overturn five years of achievements in the battle against the… [+4031 chars]'},\n",
       "  {'source': {'id': 'cnbc', 'name': 'CNBC'},\n",
       "   'author': 'Jessica Bursztynsky',\n",
       "   'title': 'What to watch today: Dow to fall, US-China trade talks near and the second whistleblower',\n",
       "   'description': 'Stocks are set to fall at the opening bell, on reports that China is seeking to limit the scope of trade talks set to get underway this week.',\n",
       "   'url': 'https://www.cnbc.com/2019/10/07/dow-to-fall-us-china-trade-talks-near-and-the-second-whistleblower.html',\n",
       "   'urlToImage': 'https://image.cnbcfm.com/api/v1/image/106162935-1570119471988rtx75wr8.jpg?v=1570119548',\n",
       "   'publishedAt': '2019-10-07T10:19:00Z',\n",
       "   'content': 'BY THE NUMBERS\\r\\nStocks were set to fall at the opening bell, on reports that China is seeking to limit the scope of trade talks set to get underway this week. The major averages have a modest two-day win streak going, with the Dow and S&amp;P 500 chalking up … [+5417 chars]'},\n",
       "  {'source': {'id': 'cnbc', 'name': 'CNBC'},\n",
       "   'author': 'Reuters',\n",
       "   'title': 'London police arrest 21 climate change protesters as mass action starts',\n",
       "   'description': 'Police have so far arrested 21 climate activists, they said on Monday, at the start of two weeks of planned peaceful civil disobedience in London.',\n",
       "   'url': 'https://www.cnbc.com/2019/10/07/climate-change-london-police-arrest-21-protesters.html',\n",
       "   'urlToImage': 'https://image.cnbcfm.com/api/v1/image/106167482-1570443277014gettyimages-1174204769.jpeg?v=1570443335',\n",
       "   'publishedAt': '2019-10-07T10:16:00Z',\n",
       "   'content': 'Police have so far arrested 21 climate activists,\\xa0they said on Monday, at the start of two weeks of planned peaceful civil disobedience in London that will call for urgent government action to curb carbon emissions. \\r\\n The protests, which organizers expect to… [+2673 chars]'},\n",
       "  {'source': {'id': 'cnbc', 'name': 'CNBC'},\n",
       "   'author': 'Elliot Smith',\n",
       "   'title': \"Schwarzman: Europe could enter Japan-style stagnation if governments don't start spending\",\n",
       "   'description': 'The euro zone economy risks entering a period of prolonged economic stagnation similar to that experienced in Japan unless governments provide fiscal stimulus, Blackstone CEO Stephen Schwarzman has warned.',\n",
       "   'url': 'https://www.cnbc.com/2019/10/07/schwarzman-europe-could-enter-japan-style-stagnation-without-stimulus.html',\n",
       "   'urlToImage': 'https://image.cnbcfm.com/api/v1/image/106089923-1566396863285steve-schwarzman-da-2019-headshot_blackstone.jpg?v=1566396926',\n",
       "   'publishedAt': '2019-10-07T09:48:10Z',\n",
       "   'content': 'The euro zone economy risks entering a period of prolonged economic stagnation similar to that experienced in Japan unless governments provide fiscal stimulus, Blackstone CEO Stephen Schwarzman has warned.\\r\\nSpeaking to CNBC\\'s \"Squawk Box Europe\" on Monday, Sc… [+2673 chars]'},\n",
       "  {'source': {'id': 'cnbc', 'name': 'CNBC'},\n",
       "   'author': 'John Schoen',\n",
       "   'title': \"Economists warn the risk of recession is rising because of Trump's trade war\",\n",
       "   'description': \"The main threat to the economy is the Trump administration's ongoing trade war, according to a survey of business economists.\",\n",
       "   'url': 'https://www.cnbc.com/2019/10/07/nabe-economists-lower-outlook-see-rising-risk-of-recession.html',\n",
       "   'urlToImage': 'https://image.cnbcfm.com/api/v1/image/106121934-1568130490594rts2o42y.jpg?v=1568130591',\n",
       "   'publishedAt': '2019-10-07T09:27:00Z',\n",
       "   'content': 'The risk of a recession is rising, and the main threat to the economy is the Trump administration\\'s ongoing trade war, according to a panel of economists surveyed by the National Association for Business Economics released Monday.\\r\\n\"The rise in protectionism,… [+4022 chars]'},\n",
       "  {'source': {'id': 'cnbc', 'name': 'CNBC'},\n",
       "   'author': 'CNBC Asia Source',\n",
       "   'title': \"Oil observers seem to have 'short-term memory loss': Strategist\",\n",
       "   'description': \"John Driscoll of JTD Energy Services says it's almost like oil watchers have forgotten all the concerns that were raised in the wake of the attacks on Saudi Arabia's oil facilities. He also says the Saudis were resilient, agile and focused on preserving marke…\",\n",
       "   'url': 'https://www.cnbc.com/video/2019/10/07/oil-observers-seem-to-have-short-term-memory-loss-strategist.html',\n",
       "   'urlToImage': 'https://fm.cnbc.com/applications/cnbc.com/resources/img/editorial/2019/10/07/106167362-15704379322ED3-SSA-100719-JohnDriscoll.600x400.jpg',\n",
       "   'publishedAt': '2019-10-07T09:03:00Z',\n",
       "   'content': None},\n",
       "  {'source': {'id': 'cnbc', 'name': 'CNBC'},\n",
       "   'author': 'Sam Meredith',\n",
       "   'title': \"Convicted pedophile Gary Glitter set to earn big royalties from 'Joker' movie\",\n",
       "   'description': 'The contentious inclusion of a song by convicted pedophile Gary Glitter in \"Joker\" has sparked a wave of criticism from moviegoers.',\n",
       "   'url': 'https://www.cnbc.com/2019/10/07/joker-convicted-pedophile-gary-glitter-set-to-earn-big-royalties.html',\n",
       "   'urlToImage': 'https://image.cnbcfm.com/api/v1/image/106148171-1569417005838joker3cropped.jpg?v=1569417009',\n",
       "   'publishedAt': '2019-10-07T09:00:00Z',\n",
       "   'content': 'The contentious inclusion of a song by convicted pedophile Gary Glitter in \"Joker\" has sparked a wave of criticism from moviegoers, with many concerned the disgraced former glam rock singer will be entitled to lucrative music royalties.\\r\\nThe R-rated comic boo… [+1763 chars]'},\n",
       "  {'source': {'id': 'cnbc', 'name': 'CNBC'},\n",
       "   'author': 'Holly Ellyatt',\n",
       "   'title': \"Only geopolitics can sink the US into recession, Blackstone's Schwarzman says\",\n",
       "   'description': 'The U.S. economy is actually looking \"quite robust\" thanks to a healthy labor market and higher consumer spending, Steve Schwarzman, the co-founder, chairman and CEO of Blackstone Group, told CNBC Monday.',\n",
       "   'url': 'https://www.cnbc.com/2019/10/07/us-economy-is-robust-but-geopolitics-could-damage-it-schwarzman-says.html',\n",
       "   'urlToImage': 'https://image.cnbcfm.com/api/v1/image/104137277-GettyImages-625786680.jpg?v=1532563972',\n",
       "   'publishedAt': '2019-10-07T08:26:00Z',\n",
       "   'content': 'The U.S. economy is actually looking \"quite robust\" thanks to a healthy labor market and higher consumer spending, Steve Schwarzman, the co-founder, chairman and CEO of Blackstone Group, told CNBC Monday.\\r\\nA slew of disappointing economic data last week sugge… [+2904 chars]'},\n",
       "  {'source': {'id': 'cnbc', 'name': 'CNBC'},\n",
       "   'author': 'Sam Meredith',\n",
       "   'title': 'US Treasury yields tick higher as traders monitor US-China trade talks',\n",
       "   'description': \"U.S. government debt yields edged higher on Monday morning as traders digested last week's jobs report and monitored trade developments between Washington and Beijing.\",\n",
       "   'url': 'https://www.cnbc.com/2019/10/07/bonds-treasury-yields-tick-higher-as-traders-monitor-trade-talks.html',\n",
       "   'urlToImage': 'https://image.cnbcfm.com/api/v1/image/106046375-1564427483144gettyimages-137703782.jpeg?v=1564427546',\n",
       "   'publishedAt': '2019-10-07T07:28:01Z',\n",
       "   'content': \"U.S. government debt yields edged higher on Monday morning as traders digested last week's jobs report and monitored trade developments between Washington and Beijing.At around 3:10 a.m. ET, the yield on the benchmark 10-year Treasury note, which moves invers… [+1482 chars]\"},\n",
       "  {'source': {'id': 'cnbc', 'name': 'CNBC'},\n",
       "   'author': 'CNBC Asia Source',\n",
       "   'title': 'Oil supply will be much tighter at the end of 2019: S&P Global Platts',\n",
       "   'description': 'Oil prices will be supported in the end of 2019 because OPEC supply will be down \"substantially\" and that cannot be fully offset by growth in the U.S. and non-OPEC areas, says Kang Wu of S&P Global Platts.',\n",
       "   'url': 'https://www.cnbc.com/video/2019/10/07/oil-supply-will-be-much-tighter-at-the-end-of-2019-sp-global-platts.html',\n",
       "   'urlToImage': 'https://fm.cnbc.com/applications/cnbc.com/resources/img/editorial/2019/10/06/106166924-15704176941ED1-ASB-KangWu-100619.600x400.jpg',\n",
       "   'publishedAt': '2019-10-07T07:22:00Z',\n",
       "   'content': None},\n",
       "  {'source': {'id': 'cnbc', 'name': 'CNBC'},\n",
       "   'author': 'Grace Shao',\n",
       "   'title': 'Violent protests continue in Hong Kong after anti-mask law comes into effect',\n",
       "   'description': 'Pro-democracy lawmaker, Claudia Mo, says \"the Chief Executive has no power to enact regulations in the manner she has.\"',\n",
       "   'url': 'https://www.cnbc.com/2019/10/07/hong-kong-protests-continue-after-anti-mask-law-comes-into-effect.html',\n",
       "   'urlToImage': 'https://image.cnbcfm.com/api/v1/image/106166870-1570408631759gettyimages-1173911134.jpeg?v=1570408674',\n",
       "   'publishedAt': '2019-10-07T07:18:00Z',\n",
       "   'content': \"Pro-democracy protesters set barricade on fire at a demonstration in Causeway Bay district on October 6, 2019 in Hong Kong, China.\\r\\nHong Kong's anti-mask law incited another weekend of mass protests.\\r\\nThe city's chief executive Carrie Lam invoked emergency po… [+4931 chars]\"},\n",
       "  {'source': {'id': 'cnbc', 'name': 'CNBC'},\n",
       "   'author': 'CNBC Asia Source',\n",
       "   'title': 'CCTV Script 07/10/19',\n",
       "   'description': \"This is the script of CNBC's news report for China's CCTV on October 7, 2019, Monday.\",\n",
       "   'url': 'https://www.cnbc.com/2019/10/07/cctv-script-071019.html',\n",
       "   'urlToImage': 'https://sc.cnbcfm.com/applications/cnbc.com/staticcontent/img/cnbc_logo.gif?v=1524171804',\n",
       "   'publishedAt': '2019-10-07T07:08:57Z',\n",
       "   'content': \"This is the script of CNBC's news report for China's CCTV on October 7, 2019, Monday.\\r\\nThe latest research note from Raymond James offers a new perspective to understand the change in U.S. economy structure. U.S. millennials is saving more than the free-spend… [+1507 chars]\"},\n",
       "  {'source': {'id': 'cnbc', 'name': 'CNBC'},\n",
       "   'author': 'CNBC Asia Source',\n",
       "   'title': 'CCTV Script 27/09/19',\n",
       "   'description': \"This is the script of CNBC's news report for China's CCTV on September 27, 2019, Friday.\",\n",
       "   'url': 'https://www.cnbc.com/2019/10/07/cctv-script-270919.html',\n",
       "   'urlToImage': 'https://sc.cnbcfm.com/applications/cnbc.com/staticcontent/img/cnbc_logo.gif?v=1524171804',\n",
       "   'publishedAt': '2019-10-07T07:07:32Z',\n",
       "   'content': \"This is the script of CNBC's news report for China's CCTV on September 27, 2019, Friday.\\r\\nThe United States and the European Union have been locked in a 15-year battle at the world trade organization over alleged illegal subsidies to aircraft manufacturers. I… [+1821 chars]\"},\n",
       "  {'source': {'id': 'cnbc', 'name': 'CNBC'},\n",
       "   'author': 'Sam Meredith',\n",
       "   'title': 'US futures point to lower open',\n",
       "   'description': 'Trade talks between the U.S. and China are set to resume in Washington, D.C., on Thursday.',\n",
       "   'url': 'https://www.cnbc.com/2019/10/07/stock-market-us-china-trade-talks-in-focus-on-wall-street.html',\n",
       "   'urlToImage': 'https://image.cnbcfm.com/api/v1/image/106090351-1566412094842gettyimages-1035842668.jpeg?v=1566412148',\n",
       "   'publishedAt': '2019-10-07T06:24:47Z',\n",
       "   'content': 'U.S. stock index futures\\xa0were lower Monday morning. \\r\\nAt around 02:20 a.m. ET,\\xa0Dow\\xa0futures fell 100 points, indicating a negative open of more than 88 points. Futures on the\\xa0S&amp;P\\xa0and\\xa0Nasdaq\\xa0were both slightly lower.\\r\\nThe moves in pre-market trade come afte… [+1234 chars]'},\n",
       "  {'source': {'id': 'cnbc', 'name': 'CNBC'},\n",
       "   'author': 'Elliot Smith',\n",
       "   'title': 'European stocks point to cautious open as focus turns to trade and Brexit',\n",
       "   'description': 'European markets looked set for a cautious open Monday morning as traders look for hints on the direction of Brexit and U.S.-China trade talks.',\n",
       "   'url': 'https://www.cnbc.com/2019/10/07/european-markets-investor-focus-turns-to-trade-and-brexit.html',\n",
       "   'urlToImage': 'https://image.cnbcfm.com/api/v1/image/104918777-GettyImages-94932533.jpg?v=1532563707',\n",
       "   'publishedAt': '2019-10-07T05:57:18Z',\n",
       "   'content': 'European markets looked set for a cautious open Monday morning as traders search for hints on the direction of Brexit and U.S.-China trade talks.\\r\\nThe FTSE 100 was seen around 12 points lower at 7,143, the DAX was expected to edge fractionally lower to 12,012… [+1889 chars]'},\n",
       "  {'source': {'id': 'cnbc', 'name': 'CNBC'},\n",
       "   'author': 'Reuters',\n",
       "   'title': \"Portugal's ruling Socialists win election but fall short of outright majority\",\n",
       "   'description': \"Portugal's ruling Socialists won Sunday's parliamentary election but fell short of an outright majority.\",\n",
       "   'url': 'https://www.cnbc.com/2019/10/07/portugal-election-socialists-win-but-fall-short-of-outright-majority.html',\n",
       "   'urlToImage': 'https://image.cnbcfm.com/api/v1/image/106163889-1570167301554gettyimages-1178194446.jpeg?v=1570167360',\n",
       "   'publishedAt': '2019-10-07T05:18:00Z',\n",
       "   'content': \"Portugal's ruling Socialists won Sunday's parliamentary election but fell short of an outright majority, meaning Prime Minister Antonio Costa will need to negotiate a new deal with one or both of his far-left allies in the previous legislature. \\r\\n A few weeks… [+4325 chars]\"},\n",
       "  {'source': {'id': 'cnbc', 'name': 'CNBC'},\n",
       "   'author': 'Michael Ivanovitch',\n",
       "   'title': 'Close the trade deal and move on to broader US-China relations',\n",
       "   'description': 'The latest data on U.S.-China trade indicate that Beijing is not doing what it should to reduce its excessive surpluses by buying more American products, writes Dr Michael Ivanovitch.',\n",
       "   'url': 'https://www.cnbc.com/2019/10/07/commentary-close-the-trade-deal-and-move-to-broader-us-china-relations.html',\n",
       "   'urlToImage': 'https://image.cnbcfm.com/api/v1/image/105982615-1561178736421gettyimages-1153550814.jpeg?v=1561178797',\n",
       "   'publishedAt': '2019-10-07T05:02:00Z',\n",
       "   'content': 'Aerial view of shipping containers sitting stacked at Lianyungang Port on June 3, 2019 in Lianyungang, Jiangsu Province of China.\\r\\nWashington deserves full support from the public opinion and its friends and allies in its effort to balance trade accounts with… [+6661 chars]'}]}"
      ]
     },
     "execution_count": 17,
     "metadata": {},
     "output_type": "execute_result"
    }
   ],
   "source": [
    "json_response"
   ]
  },
  {
   "cell_type": "code",
   "execution_count": 16,
   "metadata": {},
   "outputs": [
    {
     "name": "stdout",
     "output_type": "stream",
     "text": [
      "status\n",
      "totalResults\n",
      "articles\n"
     ]
    }
   ],
   "source": [
    "for entity in json_response:\n",
    "    print(entity)"
   ]
  },
  {
   "cell_type": "code",
   "execution_count": null,
   "metadata": {},
   "outputs": [],
   "source": []
  },
  {
   "cell_type": "code",
   "execution_count": 43,
   "metadata": {},
   "outputs": [
    {
     "data": {
      "text/plain": [
       "20"
      ]
     },
     "execution_count": 43,
     "metadata": {},
     "output_type": "execute_result"
    }
   ],
   "source": [
    "len(json_response['articles'])"
   ]
  },
  {
   "cell_type": "code",
   "execution_count": 44,
   "metadata": {},
   "outputs": [],
   "source": [
    "news_articles=[]\n",
    "for entity in json_response:\n",
    "    if(entity=='articles'):\n",
    "        for i in range(0,len(json_response[entity])):\n",
    "            news_articles.append(json_response['articles'][i]['content'])     "
   ]
  },
  {
   "cell_type": "code",
   "execution_count": 48,
   "metadata": {},
   "outputs": [
    {
     "data": {
      "text/plain": [
       "'House prices in the United Kingdom are rising at their slowest rate in six-and-a-half years, according to a well-watched barometer of the property market.\\r\\nThe Halifax House Price Index, which is owned and collated by IHS Markit, revealed Monday that house pr… [+2168 chars]'"
      ]
     },
     "execution_count": 48,
     "metadata": {},
     "output_type": "execute_result"
    }
   ],
   "source": [
    "news_articles[0]"
   ]
  },
  {
   "cell_type": "code",
   "execution_count": 47,
   "metadata": {},
   "outputs": [
    {
     "data": {
      "text/plain": [
       "20"
      ]
     },
     "execution_count": 47,
     "metadata": {},
     "output_type": "execute_result"
    }
   ],
   "source": [
    "len(news_articles)"
   ]
  },
  {
   "cell_type": "code",
   "execution_count": null,
   "metadata": {},
   "outputs": [],
   "source": []
  },
  {
   "cell_type": "code",
   "execution_count": null,
   "metadata": {},
   "outputs": [],
   "source": []
  },
  {
   "cell_type": "code",
   "execution_count": null,
   "metadata": {},
   "outputs": [],
   "source": [
    "#Text Format\n",
    "TRITTextResponse = TRITResponse.text\n",
    "#print(TRITTextResponse)\n",
    "\n",
    "#Json Format\n",
    "TRITJsonResponse = json.loads(TRITTextResponse)\n",
    "print(TRITJsonResponse)\n",
    "\n",
    "for entity in TRITJsonResponse:\n",
    "    for info in TRITJsonResponse[entity]:\n",
    "        topics={}\n",
    "        geography={}\n",
    "        organizations={}\n",
    "        persons={}\n",
    "        industries={}\n",
    "        currencies={}\n",
    "        market_index={}\n",
    "        \n",
    "        #Topics\n",
    "        if(info=='_typeGroup' and str(TRITJsonResponse[entity][info])=='topics'):\n",
    "            for companyinfo in (TRITJsonResponse[entity]):\n",
    "                if(companyinfo in ['_type','name','confidencelevel','score','relevance','permid']):\n",
    "                    topics[companyinfo]=str(TRITJsonResponse[entity][companyinfo])\n",
    "        if topics:\n",
    "            topics_list.append(topics)\n",
    "\n",
    "        \n",
    "        #Geographical Locations\n",
    "        if((info=='_type' and str(TRITJsonResponse[entity][info]) in ['Country','City','Continent','Region','ProvinceOrState'])):\n",
    "            for companyinfo in (TRITJsonResponse[entity]):\n",
    "                if(companyinfo in ['_type','name','confidencelevel','score','relevance','permid']):\n",
    "                    geography[companyinfo]=str(TRITJsonResponse[entity][companyinfo])\n",
    "                if(companyinfo=='resolutions'):\n",
    "                    if('permid' in TRITJsonResponse[entity][companyinfo][0]):  \n",
    "                        geography['permid']=str(TRITJsonResponse[entity][companyinfo][0]['permid'])\n",
    "                    if('id' in TRITJsonResponse[entity][companyinfo][0]):  \n",
    "                        geography['id']=str(TRITJsonResponse[entity][companyinfo][0]['id'])\n",
    "                    if('score' in TRITJsonResponse[entity][companyinfo][0]):  \n",
    "                        geography['score']=str(TRITJsonResponse[entity][companyinfo][0]['score'])\n",
    "                    if('ticker' in TRITJsonResponse[entity][companyinfo][0]):\n",
    "                        geography['ticker']=str(TRITJsonResponse[entity][companyinfo][0]['ticker'])\n",
    "        if geography:\n",
    "            geographical_list.append(geography)\n"
   ]
  }
 ],
 "metadata": {
  "kernelspec": {
   "display_name": "Python 3",
   "language": "python",
   "name": "python3"
  },
  "language_info": {
   "codemirror_mode": {
    "name": "ipython",
    "version": 3
   },
   "file_extension": ".py",
   "mimetype": "text/x-python",
   "name": "python",
   "nbconvert_exporter": "python",
   "pygments_lexer": "ipython3",
   "version": "3.7.3"
  }
 },
 "nbformat": 4,
 "nbformat_minor": 2
}

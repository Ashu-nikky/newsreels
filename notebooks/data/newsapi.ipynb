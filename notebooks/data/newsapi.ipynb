{
 "cells": [
  {
   "cell_type": "code",
   "execution_count": 6,
   "metadata": {},
   "outputs": [],
   "source": [
    "from newsapi import NewsApiClient"
   ]
  },
  {
   "cell_type": "code",
   "execution_count": 19,
   "metadata": {},
   "outputs": [
    {
     "name": "stdout",
     "output_type": "stream",
     "text": [
      "{'status': 'ok', 'totalResults': 811, 'articles': [{'source': {'id': 'the-jerusalem-post', 'name': 'The Jerusalem Post'}, 'author': 'Tamar Beeri', 'title': 'PA wipes peace agreements from schoolbooks, encourages incitement', 'description': 'The Palestinian Authority removed all mention of any agreements or meetings with Israel, with the exception of the Oslo Accords, in which Israel is mentioned in a negative light.', 'url': 'https://www.jpost.com/Arab-Israeli-Conflict/PA-wipes-peace-agreements-from-schoolbooks-encourages-incitement-and-intolerance-603938', 'urlToImage': 'https://images.jpost.com/image/upload/f_auto,fl_lossy/t_Article2016_ControlFaceDetect/445684', 'publishedAt': '2019-10-07T10:45:00Z', 'content': 'The Palestinian Authority has removed any mention of past agreements with Israel from their school textbooks, with the exception of the Oslo Accords, which are mentioned in far less detail than in previous editions of the schoolbooks, according to a new repor… [+2783 chars]'}, {'source': {'id': 'the-jerusalem-post', 'name': 'The Jerusalem Post'}, 'author': 'Eytan Halon', 'title': 'Government report: 28% increase in cancer-linked air pollution in 2018', 'description': 'According to the report, emissions from the industrial Haifa Bay area - traditionally a major source of pollution - continued to decrease last year.', 'url': 'https://www.jpost.com/Israel-News/Government-report-28-percent-increase-in-cancer-linked-air-pollution-in-2018-603937', 'urlToImage': 'https://images.jpost.com/image/upload/f_auto,fl_lossy/t_Article2016_ControlFaceDetect/447445', 'publishedAt': '2019-10-07T10:33:00Z', 'content': 'Emissions of suspected or recognized carcinogenic substances in Israel increased by 28% in 2018 due to the burning of landfill waste, according to annual data published Monday by the Ministry of Environmental Protection.\\r\\nRoutine emissions, excluding landfill… [+4168 chars]'}, {'source': {'id': 'the-jerusalem-post', 'name': 'The Jerusalem Post'}, 'author': None, 'title': 'IDF soldier: Gay people deserve a bullet in the head', 'description': 'IDF soldiers on base in Haifa made homophobic remarks towards another LGBTQ soldier. \"The IDF leads a zero tolerance policy towards offenses that harm the value of human dignity,\" the IDF responded.', 'url': 'https://www.jpost.com/Israel-News/IDF-solider-Gay-people-deserve-a-bullet-in-the-head-603936', 'urlToImage': 'https://images.jpost.com/image/upload/f_auto,fl_lossy/t_Article2016_ControlFaceDetect/432703', 'publishedAt': '2019-10-07T10:31:00Z', 'content': 'An LGBTQIDF soldier who was serving at the Israeli Air Force base in Haifa was subject to offensive homophobic language from the other soldiers serving with him. Yair (pseudonym), another LGBTQ soldier who did not tell the others of his sexual preferences, de… [+2278 chars]'}, {'source': {'id': 'the-jerusalem-post', 'name': 'The Jerusalem Post'}, 'author': 'Maayan Jaffe-Hoffman', 'title': 'Israeli blood cancer treatment could also kill solid tumors - new study', 'description': 'The study was led by Dr. Yaron Carmi of Tel Aviv University’s Sackler Faculty of Medicine.', 'url': 'https://www.jpost.com/HEALTH-SCIENCE/Israeli-blood-cancer-treatment-could-also-kill-solid-tumors-new-study-603934', 'urlToImage': 'https://images.jpost.com/image/upload/f_auto,fl_lossy/t_Article2016_ControlFaceDetect/447444', 'publishedAt': '2019-10-07T10:18:00Z', 'content': 'Israel’s revolution CAR-T cancer treatment, which has proven successful in treating the blood cancer leukaemia, might now also be effective in killing solid tumor cells coated in specific antibodies, according to research published this month in the Journal o… [+3008 chars]'}, {'source': {'id': 'the-jerusalem-post', 'name': 'The Jerusalem Post'}, 'author': None, 'title': \"Solomon Tekah's sister makes aliyah\", 'description': \"During the Shiva, Minister Uri Ariel first heard that Solomon's sister, Masrat Verika, was waiting on approval to make an aliyah along with her two children, Habtamo and Tadillo.\", 'url': 'https://www.jpost.com/Israel-News/Police-shooting-victims-sister-lands-in-Israel-603923', 'urlToImage': 'https://images.jpost.com/image/upload/f_auto,fl_lossy/t_Article2016_ControlFaceDetect/447441', 'publishedAt': '2019-10-07T08:20:00Z', 'content': 'Following an appeal by Minister Uri Ariel of the Yamina Party to Prime Minister Benjamin Netanyahu and Minister of the Interior Aryeh Deri, the sister of police shooting victim Solomon Tekah landed in Israel along with her two children on Sunday evening. They… [+1649 chars]'}, {'source': {'id': 'the-jerusalem-post', 'name': 'The Jerusalem Post'}, 'author': 'Seth J. Frantzman', 'title': 'Trump gives green light to Turkey to takeover Syria, displace US partner', 'description': 'The White House looks at the overall picture in eastern Syria, not as one in which the US fought and sacrificed alongside Kurdish partner forces, but as a simple transactional issue.', 'url': 'https://www.jpost.com/Middle-East/Trump-gives-green-light-to-Turkey-to-takeover-Syria-displace-US-partners-603927', 'urlToImage': 'https://images.jpost.com/image/upload/f_auto,fl_lossy/t_Article2016_ControlFaceDetect/426579', 'publishedAt': '2019-10-07T08:11:00Z', 'content': 'For four years the US and mostly Kurdish fighters in eastern Syria have fought and defeated Islamic State in northeast Syria. On October 6 the White House decided to give the green light to a Turkish invasion of the same area to defeat to displace the partner… [+3179 chars]'}, {'source': {'id': 'cbc-news', 'name': 'CBC News'}, 'author': 'CBC News', 'title': 'Liberals want to create municipal immigration program, but Quebec could opt out | CBC News', 'description': 'The Liberal Party of Canada has made a promise to help small, rural Quebec municipalities access more immigrant workers. But because the provincial government pledged to curb immigration in the province, even if the federal Liberals are elected, the program m…', 'url': 'http://www.cbc.ca/news/canada/montreal/municipal-nominee-program-liberals-2019-1.5309009', 'urlToImage': 'https://i.cbc.ca/1.5309011.1570203676!/fileImage/httpImage/image.jpeg_gen/derivatives/16x9_620/claude-morin.jpeg', 'publishedAt': '2019-10-07T08:08:28.9255932Z', 'content': \"In Beauce, Que., the face of the region's largest town is changing.\\r\\nOver the past five years, Saint-Georges, Que., has welcomed thousands of immigrants. After local officials tried and failed to address an acute labour shortage with local workers, it started… [+4278 chars]\"}, {'source': {'id': 'cbc-news', 'name': 'CBC News'}, 'author': 'CBC News', 'title': 'Negative attacks: Gloves come off as election campaign heats up | CBC News', 'description': 'The Conservatives lead other major federal parties in the amount of negative attacks on Twitter and in press releases this campaign, but at the midpoint of a close race the Liberals are increasingly turning negative,\\xa0an analysis by CBC News shows.', 'url': 'http://www.cbc.ca/news/politics/liberal-conservative-2019-federal-election-1.5309670', 'urlToImage': 'https://i.cbc.ca/1.5289012.1569006390!/fileImage/httpImage/image.jpg_gen/derivatives/16x9_620/social-media.jpg', 'publishedAt': '2019-10-07T08:08:27.1609003Z', 'content': 'The Conservatives lead other major federal parties in the amount of negative attacks on Twitter and in press releases this campaign, but at the midpoint of a close race the Liberals are increasingly turning negative,\\xa0an analysis by CBC News shows.\\r\\nCBC\\xa0News a… [+5741 chars]'}, {'source': {'id': 'cbc-news', 'name': 'CBC News'}, 'author': 'CBC News', 'title': 'Why is this online banking security feature common in other countries, but not Canada? | CBC News', 'description': 'Some experts say Canada is lagging behind other countries when it comes to online banking security.', 'url': 'http://www.cbc.ca/news/canada/nova-scotia/two-factor-verification-online-banking-security-1.5306052', 'urlToImage': 'https://i.cbc.ca/1.5307683.1570124780!/fileImage/httpImage/image.jpg_gen/derivatives/16x9_620/two-step-verification-banks-yvonne-colbert-story.jpg', 'publishedAt': '2019-10-07T08:08:14.0953695Z', 'content': \"Google offers it,\\xa0some video games require it,\\xa0but three\\xa0of Canada's big five\\xa0banks don't even want to talk about\\xa0two-factor authentication (2FA), an extra layer of online security that some experts say banks should be required to provide to help protect cons… [+5119 chars]\"}, {'source': {'id': 'cbc-news', 'name': 'CBC News'}, 'author': 'CBC News', 'title': 'Politicians and voters will be watching the latest Canadian indicators as election nears: Don Pittis | CBC News', 'description': 'As the world still worries about recession, Canadian jobs figures will offer a fresh reading.', 'url': 'http://www.cbc.ca/news/business/jobs-economy-election-1.5298115', 'urlToImage': 'https://i.cbc.ca/1.5309380.1570212742!/fileImage/httpImage/image.jpg_gen/derivatives/16x9_620/now-hiring-cafe-at-st-lawrence-market-toronto.jpg', 'publishedAt': '2019-10-07T08:08:09.6511075Z', 'content': \"When Canada's jobs numbers come out on Friday there will only be 10 days before Canadians vote in the federal election.\\r\\nThose who are already a little sick of wall-to-wall election coverage may find that an encouraging milestone. But for politicians who have… [+4725 chars]\"}, {'source': {'id': 'cbc-news', 'name': 'CBC News'}, 'author': 'CBC News', 'title': \"Where are the voters that leaders need to reach in tonight's debate? | CBC News\", 'description': \"Each party leader has a smaller slice of the electorate they need to target in tonight's English-language leaders debate.\", 'url': 'http://www.cbc.ca/news/politics/grenier-debate-targets-1.5311092', 'urlToImage': 'https://i.cbc.ca/1.5285707.1568687461!/fileImage/httpImage/image.jpg_gen/derivatives/16x9_620/six-leaders.jpg', 'publishedAt': '2019-10-07T08:08:03.3490625Z', 'content': \"Tonight's debate between the six major federal party leaders might be their best and last opportunity to move the needle in a campaign that has not seen any significant swings in Canadians' voting intentions.\\r\\nWhile each of the leaders would prefer to speak t… [+6894 chars]\"}, {'source': {'id': 'financial-times', 'name': 'Financial Times'}, 'author': None, 'title': 'Facebook questioned by Brussels over Libra risks', 'description': 'European Commission worried by digital coin project’s possible impact on financial stability', 'url': 'https://www.ft.com/content/5c44826e-e78c-11e9-a240-3b065ef5fc55', 'urlToImage': 'https://www.ft.com/__origami/service/image/v2/images/raw/http%3A%2F%2Fprod-upp-image-read.ft.com%2Fac1e7170-e82a-11e9-aefb-a946d2463e4b?source=next-opengraph&fit=scale-down&width=900', 'publishedAt': '2019-10-07T08:08:02.2800368Z', 'content': 'Brussels is questioning Facebook over potential financial risks posed by its Libra coin project as the EU prepares\\xa0to overhaul regulation of digital currencies.\\r\\nThe European Commission has asked Facebook and the Libra Association to respond to a series of qu… [+3706 chars]'}, {'source': {'id': 'cbc-news', 'name': 'CBC News'}, 'author': 'CBC News', 'title': \"6 leaders to take the stage tonight for the campaign's last English debate | CBC News\", 'description': \"The federal leaders in tonight's final English-language debate of the campaign will have to cut through a crowded stage with sharp-elbowed performances if they hope to stand out.\", 'url': 'http://www.cbc.ca/news/politics/english-leaders-debate-federal-election-campaign-1.5311056', 'urlToImage': 'https://i.cbc.ca/1.5310117.1570229199!/fileImage/httpImage/image.jpg_gen/derivatives/16x9_620/leaders-composite-debates.jpg', 'publishedAt': '2019-10-07T08:07:43.1607002Z', 'content': \"The federal leaders in tonight's final English-language debate of the campaign will have to cut through a crowded stage with sharp-elbowed performances if they hope to stand out.\\r\\nLeaders from each of the six parties that have any hope of winning a seat on Oc… [+6837 chars]\"}, {'source': {'id': 'financial-times', 'name': 'Financial Times'}, 'author': None, 'title': 'Nissan’s board in civil war over carmaker’s next leader', 'description': 'Internal factions wrestle for control of Japanese company', 'url': 'https://www.ft.com/content/4483fa7e-e813-11e9-a240-3b065ef5fc55', 'urlToImage': 'https://www.ft.com/__origami/service/image/v2/images/raw/http%3A%2F%2Fprod-upp-image-read.ft.com%2F44e0af7e-e847-11e9-aefb-a946d2463e4b?source=next-opengraph&fit=scale-down&width=900', 'publishedAt': '2019-10-07T08:07:40.5251726Z', 'content': 'Nissan’s struggle to fill the\\xa0leadership vacuum left by the arrest of\\xa0Carlos Ghosn has led to a boardroom civil war, as powerful internal factions wrestle for control of the Japanese carmaker.\\r\\nA rift has emerged between the head of Nissan’s nomination commit… [+3423 chars]'}, {'source': {'id': 'daily-mail', 'name': 'Daily Mail'}, 'author': None, 'title': 'Jeremy Clarkson plans to open a shop at his Cotswold country estate', 'description': 'Neighbours say the plans\\xa0could impact the village store and butcher. They also claim development would blight an area of outstanding natural beauty in West Oxfordshire.', 'url': 'https://www.dailymail.co.uk/news/article-7543983/Jeremy-Clarkson-plans-open-shop-Cotswold-country-estate.html', 'urlToImage': 'https://i.dailymail.co.uk/1s/2019/10/06/21/19369714-0-image-a-17_1570392072969.jpg', 'publishedAt': '2019-10-07T08:06:02+00:00', 'content': \"Jeremy Clarkson's plans to increase his country estate's earning power has garnered furious reaction from his neighbours. Clarkson pictured with his girlfriend Lisa Hogan\\r\\nHe gave his country estate the nickname Diddly Squat Farm because of its poor crop yiel… [+4523 chars]\"}, {'source': {'id': 'the-huffington-post', 'name': 'The Huffington Post'}, 'author': 'Ed Mazza', 'title': 'Former Trump Exec Barbara Res Has A Stark Prediction On How It Ends For The President', 'description': 'A longtime vice president at the Trump Organization has a \"gut feeling\" based on years of working alongside him.', 'url': 'https://www.huffpost.com/entry/barbara-res-trump-prediction_n_5d9abb93e4b09938980254d7', 'urlToImage': 'https://img.huffingtonpost.com/asset/5d9aea7f210000b103ab621e.jpeg?cache=90t2UiigHg&ops=1200_630', 'publishedAt': '2019-10-07T08:05:10Z', 'content': 'A former executive in the Trump Organization says President Donald Trump really doesn’t want to be impeached and may not let the process go much further as a result.\\xa0\\r\\nBarbara Res, who was vice president in charge of construction at Trump’s company, predicted… [+742 chars]'}, {'source': {'id': 'mirror', 'name': 'Mirror'}, 'author': 'Cathryn Wylie, Caitlin Morrison, Joe Gammie', 'title': \"Boris Johnson asked Jennifer Arcuri to 'show him a few things' on pole in flat\", 'description': \"Jennifer Arcuri refused to tell Piers Morgan on ITV's Good Morning Britain whether the PM had a go on the stripper pole at her London flat\", 'url': 'https://www.mirror.co.uk/news/politics/boris-johnson-asked-jennifer-arcuri-20528319', 'urlToImage': 'https://i2-prod.mirror.co.uk/incoming/article20528159.ece/ALTERNATES/s1200/0_Jennifer-Arcuri.jpg', 'publishedAt': '2019-10-07T08:04:12Z', 'content': 'The American businesswoman at the centre of a storm over her links to Boris Johnson revealed he asked her to \\'show him a few things\\' on the pole in her flat. \\r\\nJennifer Arcuri said she and Mr Johnson, who she saved on her phone as \"Alex the Great\", bonded ove… [+4251 chars]'}, {'source': {'id': 'reuters', 'name': 'Reuters'}, 'author': 'Reuters Editorial', 'title': 'Kurdish-led Syrian force: U.S. forces have quit Turkish border area', 'description': 'Kurdish-led forces in northeast Syria said on Monday U.S. forces had withdrawn from areas at the border with Turkey where a threatened Turkish offensive would hurt its war against Islamic State and roll back security achievements.', 'url': 'http://feeds.reuters.com/~r/reuters/topNews/~3/wBziPrlPfm8/kurdish-led-syrian-force-u-s-forces-have-quit-turkish-border-area-idUSKBN1WM0GL', 'urlToImage': 'https://s4.reutersmedia.net/resources_v2/images/rcom-default.png', 'publishedAt': '2019-10-07T08:03:52Z', 'content': 'BEIRUT (Reuters) - Kurdish-led forces in northeast Syria said on Monday U.S. forces had withdrawn from areas at the border with Turkey where a threatened Turkish offensive would hurt its war against Islamic State and roll back security achievements. \\r\\nThe Syr… [+1999 chars]'}, {'source': {'id': 'the-verge', 'name': 'The Verge'}, 'author': 'Sam Byford', 'title': 'PS4 Remote Play will fully support Android this week', 'description': 'Sony has announced version 7.00 of the PlayStation 4’s system software, which centers around updates to Remote Play and party functionality. The update will be available this week.', 'url': 'https://www.theverge.com/2019/10/7/20902406/sony-ps4-firmware-update-remote-play-android', 'urlToImage': 'https://cdn.vox-cdn.com/thumbor/8A-9LpMLVUAyVZaR2VSiADMj6DA=/0x145:2048x1217/fit-in/1200x630/cdn.vox-cdn.com/uploads/chorus_asset/file/678648/sony-xperia-z3-363.0.jpg', 'publishedAt': '2019-10-07T08:03:02Z', 'content': 'No longer Xperia-only\\r\\nPhoto by Vlad Savov / The Verge\\r\\nSony has announced version 7.00 of the PlayStation 4s system software, which centers around updates to Remote Play and party functionality. The update will be available this week.\\r\\nRemote Play will now l… [+749 chars]'}, {'source': {'id': 'daily-mail', 'name': 'Daily Mail'}, 'author': None, 'title': 'Royals in `television takeover´ for mental health campaign', 'description': 'The Every Mind Matters campaign aims to empower people to manage the early symptoms of poor mental health.', 'url': 'https://www.dailymail.co.uk/news/article-7544497/Royals-television-takeover-mental-health-campaign.html', 'urlToImage': 'https://i.dailymail.co.uk/1s/2019/10/07/00/wire-19374756-1570403159-391_636x382.jpg', 'publishedAt': '2019-10-07T08:01:17+00:00', 'content': 'Harry and Meghan today join forces with William and Kate to lead a government campaign that promises to revolutionise mental health.\\r\\nThe four royals have reunited to launch an NHS resource that will provide personalised advice for people struggling with stre… [+10443 chars]'}]}\n"
     ]
    }
   ],
   "source": [
    "# TOP HEADLINES \n",
    "import requests\n",
    "url = ('https://newsapi.org/v2/top-headlines?'\n",
    "       'language=en&'\n",
    "       'apiKey=749e4a9b92e046a386a4420df0de07ee')\n",
    "response = requests.get(url)\n",
    "print(response.json())"
   ]
  },
  {
   "cell_type": "code",
   "execution_count": 22,
   "metadata": {},
   "outputs": [
    {
     "name": "stdout",
     "output_type": "stream",
     "text": [
      "{'status': 'ok', 'totalResults': 7, 'articles': [{'source': {'id': 'cnbc', 'name': 'CNBC'}, 'author': 'Sam Meredith', 'title': 'US Treasury yields tick higher as traders monitor US-China trade talks', 'description': \"U.S. government debt yields edged higher on Monday morning as traders digested last week's jobs report and monitored trade developments between Washington and Beijing.\", 'url': 'https://www.cnbc.com/2019/10/07/bonds-treasury-yields-tick-higher-as-traders-monitor-trade-talks.html', 'urlToImage': 'https://image.cnbcfm.com/api/v1/image/106046375-1564427483144gettyimages-137703782.jpeg?v=1564427546', 'publishedAt': '2019-10-07T07:28:01Z', 'content': \"U.S. government debt yields edged higher on Monday morning as traders digested last week's jobs report and monitored trade developments between Washington and Beijing.At around 3:10 a.m. ET, the yield on the benchmark 10-year Treasury note, which moves invers… [+1482 chars]\"}, {'source': {'id': 'cnbc', 'name': 'CNBC'}, 'author': 'Sam Meredith', 'title': 'US futures point to lower open', 'description': 'Trade talks between the U.S. and China are set to resume in Washington, D.C., on Thursday.', 'url': 'https://www.cnbc.com/2019/10/07/stock-market-us-china-trade-talks-in-focus-on-wall-street.html', 'urlToImage': 'https://image.cnbcfm.com/api/v1/image/106090351-1566412094842gettyimages-1035842668.jpeg?v=1566412148', 'publishedAt': '2019-10-07T06:24:47Z', 'content': 'U.S. stock index futures\\xa0were lower Monday morning. \\r\\nAt around 02:20 a.m. ET,\\xa0Dow\\xa0futures fell 100 points, indicating a negative open of more than 88 points. Futures on the\\xa0S&amp;P\\xa0and\\xa0Nasdaq\\xa0were both slightly lower.\\r\\nThe moves in pre-market trade come afte… [+1234 chars]'}, {'source': {'id': 'cnbc', 'name': 'CNBC'}, 'author': 'Michael Ivanovitch', 'title': 'Close the trade deal and move on to broader US-China relations', 'description': 'The latest data on U.S.-China trade indicate that Beijing is not doing what it should to reduce its excessive surpluses by buying more American products, writes Dr Michael Ivanovitch.', 'url': 'https://www.cnbc.com/2019/10/07/commentary-close-the-trade-deal-and-move-to-broader-us-china-relations.html', 'urlToImage': 'https://image.cnbcfm.com/api/v1/image/105982615-1561178736421gettyimages-1153550814.jpeg?v=1561178797', 'publishedAt': '2019-10-07T05:02:43Z', 'content': 'Aerial view of shipping containers sitting stacked at Lianyungang Port on June 3, 2019 in Lianyungang, Jiangsu Province of China.\\r\\nWashington deserves full support from the public opinion and its friends and allies in its effort to balance trade accounts with… [+6661 chars]'}, {'source': {'id': 'cnbc', 'name': 'CNBC'}, 'author': 'Weizhen Tan', 'title': \"Budweiser wants to take on China, the world's largest beer market where local brews rule\", 'description': 'Leading brewer AB InBev is making a big push in China and other parts of Asia — but seeking to topple local brewers could prove challenging.', 'url': 'https://www.cnbc.com/2019/10/07/budweiser-seeks-growth-in-china-vietnam-india-south-korea-beer-markets.html', 'urlToImage': 'https://image.cnbcfm.com/api/v1/image/106015402-1562912067804gettyimages-1153657512.jpeg?v=1570416042', 'publishedAt': '2019-10-07T02:48:33Z', 'content': \"Budweiser beer products manufactured by Anheuser-Busch InBev NV sit on display during a news conference in Hong Kong, China, on Thursday, July 4, 2019.\\r\\nThe world's largest brewer is making a big push for China and other parts of Asia but it could prove chall… [+5157 chars]\"}, {'source': {'id': 'cnbc', 'name': 'CNBC'}, 'author': 'Reuters', 'title': 'Chinese soldiers in Hong Kong warn protesters as emergency rules fail to quell unrest', 'description': 'The stand-off with the PLA came after rallies attended by tens of thousands of protesters earlier on Sunday ended in violent clashes in several locations.', 'url': 'https://www.cnbc.com/2019/10/07/chinese-soldiers-in-hong-kong-warn-protesters-as-emergency-rules-fail-to-quell-unrest.html', 'urlToImage': 'https://image.cnbcfm.com/api/v1/image/106166867-1570407879593gettyimages-1173906113.jpeg?v=1570411711', 'publishedAt': '2019-10-07T00:40:23Z', 'content': 'Police fire from the Mongkok police station toward protesters after they marched from the Tsim Sha Tsui district to Mongkok in Hong Kong on October 6, 2019.\\r\\nChinese soldiers issued a warning to Hong Kong protesters on Sunday who shone lasers at their barrack… [+5695 chars]'}, {'source': {'id': 'cnbc', 'name': 'CNBC'}, 'author': 'Emma Newburger', 'title': 'China is reportedly reluctant to agree to a broad US trade deal with talks set to restart', 'description': \"China's offer to the U.S. will not include commitments on reforming Chinese industrial policy or government subsidies, the report said.\", 'url': 'https://www.cnbc.com/2019/10/06/china-is-reportedly-reluctant-to-agree-to-a-broad-us-trade-deal-with-talks-set-to-restart.html', 'urlToImage': 'https://image.cnbcfm.com/api/v1/image/106065754-15651863090702019-08-05t161946z_1578719930_rc1a28949a80_rtrmadp_3_usa-economy.jpg?v=1567130116', 'publishedAt': '2019-10-06T21:00:06Z', 'content': 'Chinese officials are growing hesitant to pursue a broad trade deal with the U.S. in negotiations set to begin this Thursday, people familiar with the matter told Bloomberg News.\\r\\nVice Premier Liu He, who will lead negotiations for China, told dignitaries tha… [+997 chars]'}, {'source': {'id': 'cnbc', 'name': 'CNBC'}, 'author': 'Fred Imbert', 'title': 'Dow and S&P 500 will try to snap a 3-week slide as US-China trade talks kick off in the week ahead', 'description': 'Stocks will try to regain their mojo as China and the U.S. hold long-awaited trade negotiations in Washington.', 'url': 'https://www.cnbc.com/2019/10/04/dow-sp-500-will-try-to-snap-a-3-week-slide-as-trade-talks-kick-off.html', 'urlToImage': 'https://image.cnbcfm.com/api/v1/image/106141584-1569008787669gettyimages-1158663945.jpeg?v=1569008838', 'publishedAt': '2019-10-04T20:29:25Z', 'content': 'Stocks will try to regain their mojo as China and the U.S. hold long-awaited trade negotiations in Washington.\\r\\nThe Dow Jones Industrial Average dropped 0.9% this week while the S&amp;P 500 slid about 0.3%. Overall, the two averages posted their first three-w… [+3437 chars]'}]}\n"
     ]
    }
   ],
   "source": [
    "# TOP HEADLINES for a particular source\n",
    "import requests\n",
    "url = ('https://newsapi.org/v2/top-headlines?'\n",
    "       'sources=cnbc&' \n",
    "       'language=en&'\n",
    "       'apiKey=749e4a9b92e046a386a4420df0de07ee')\n",
    "response = requests.get(url)\n",
    "print(response.json())"
   ]
  },
  {
   "cell_type": "code",
   "execution_count": 23,
   "metadata": {},
   "outputs": [
    {
     "name": "stdout",
     "output_type": "stream",
     "text": [
      "{'status': 'ok', 'totalResults': 377, 'articles': [{'source': {'id': None, 'name': 'Hipertextual.com'}, 'author': 'José María López', 'title': 'Alcanza tus objetivos controlando tus hábitos', 'description': 'Te proponemos una selección de aplicaciones móviles enfocadas a monitorizar, organizar y gestionar tus hábitos, propósitos y objetivos con naturalidad. Dice la Wikipedia que “se denomina hábito a cualquier conducta repetida regularmente, que requiere de un pe…', 'url': 'https://hipertextual.com/2019/10/apps-gestionar-objetivos-habitos', 'urlToImage': 'https://img-cdn.hipertextual.com/files/2019/09/hipertextual-alcanza-tus-objetivos-controlando-tus-habitos-2019913378.jpg?strip=all&lossy=1&quality=57&ssl=1', 'publishedAt': '2019-10-07T06:02:44Z', 'content': 'Dice la Wikipedia que se denomina\\xa0hábito\\xa0a cualquier\\xa0conducta\\xa0repetida regularmente, que requiere de un pequeño o de ningún\\xa0raciocinio\\xa0y que es aprendida, más que\\xa0innata. El hábito no nace, se hace.\\r\\nHay hábitos buenos y hábitos malos. Para adquirir los prime… [+3530 chars]'}, {'source': {'id': None, 'name': 'Xataka.com'}, 'author': 'María González', 'title': '\"Si hubiéramos venido antes a España, ya habríamos sido número uno\": Lei Jun, fundador y CEO global de Xiaomi', 'description': 'A un lado de la mesa está el CEO de una de las empresas tecnológicas más potentes del mundo. Al otro, una veintena de fans de esa marca. Esta escena tan poco habitual se desarrolla en las oficinas de Xiaomi en una plácida mañana de domingo en Madrid. El CEO e…', 'url': 'https://www.xataka.com/entrevistas/hubieramos-venido-antes-a-espana-habriamos-sido-numero-uno-lei-jun-fundador-ceo-global-xiaomi', 'urlToImage': 'https://i.blogs.es/edef09/_v7a5201/840_560.jpg', 'publishedAt': '2019-10-07T06:29:11Z', 'content': 'A un lado de la mesa está el CEO de una de las empresas tecnológicas más potentes del mundo. Al otro, una veintena de fans de esa marca. Esta escena tan poco habitual se desarrolla en las oficinas de Xiaomi en una plácida mañana de domingo en Madrid. El CEO e… [+18914 chars]'}, {'source': {'id': None, 'name': 'Techstage.de'}, 'author': 'Daniel Schraeder', 'title': 'TechStage | Ratgeber: Günstigste UHD-Monitore und ihre Haken', 'description': '4K- respektive UHD-Monitore gibt es mit Glück schon für gut 200 Euro. Wer sofort zuschlagen möchte, sollte kurz innehalten: Die günstigsten Geräte will eigentlich niemand.', 'url': 'https://www.techstage.de/ratgeber/Ratgeber-Guenstigste-UHD-Monitore-und-ihre-Haken-4267934.html', 'urlToImage': 'https://heise.cloudimg.io/width/1920/q90.png-lossy-90.webp-lossy-90.foil1/_www-techstage-de_/imgs/85/2/5/7/3/7/3/4/uhd-monitore-169-34c6623290c44a8e.jpeg', 'publishedAt': '2019-10-07T05:21:00Z', 'content': '0\\r\\nAnzeige: Sommer-Finale mit JBL mitmachen und gewinnen!\\r\\nDie letzen Sonnenstrahlen genießen auf einem Luftsofa, mit coolem Kopfhörer und starkem Bluetooth-Lautsprecher. Aber wo? Das entscheidet Ihr. Zeigt uns Euren Lieblings-Spot und gewinnt!\\r\\nNeueste Artik… [+13622 chars]'}, {'source': {'id': None, 'name': 'Lifehacker.jp'}, 'author': '島津健吾', 'title': 'Apple WatchとAirPodsとiPhoneを同時充電できる、コンパクトなモバイルバッテリー', 'description': 'ACEの「マルチモバイルバッテリー」はスマートフォンやiPhoneとApple WatchとAirPodsを同時充電できます。重さはたった156gで軽量かつコンパクトなので、バッグやポケットに入れてもかさばりません。', 'url': 'https://www.lifehacker.jp/2019/10/ace-multi-mobile-battery.html', 'urlToImage': 'https://assets.media-platform.com/lifehacker/dist/images/2019/09/27/%E3%82%B9%E3%82%AF%E3%83%AA%E3%83%BC%E3%83%B3%E3%82%B7%E3%83%A7%E3%83%83%E3%83%882019-09-2712.58.45-w960.jpg', 'publishedAt': '2019-10-07T04:00:00Z', 'content': None}, {'source': {'id': None, 'name': 'Gizmodo.jp'}, 'author': '小暮ひさのり', 'title': '最近「iPhone 6s」「iPhone 6s Plus」を買った人は要チェック。電源が入らなくなる不具合の修理プログラムがスタート', 'description': 'Image:GizmodoUSクリティカルな不具合、でも対象は…少ないかも。製品の不具合を無償で修理するApple（アップル）の修理プログラムに、新たにiPhoneに向けたものが発表されました。不具合の内容は、特定のiPhone6sやiPhone6sPlusで電源が入らなくなる可能性があるようです。この影響が確認されているのは、2018年10月から2019年8月までの間に製造され、シリアル番号が特', 'url': 'https://www.gizmodo.jp/2019/10/iphone-6s-6s-plus-no-power-issues-program.html', 'urlToImage': 'https://assets.media-platform.com/gizmodo/dist/images/2019/10/07/191007_iphone_6s_6s_plus_no_power_issues_program-w960.jpg', 'publishedAt': '2019-10-07T02:00:00Z', 'content': 'AppleiPhone\\r\\niPhone 6s iPhone 6s Plus20181020198\\r\\niPhone\\r\\niPhone 6s PlusiPhone 6s201591iPhone 6s\\r\\nSource: Apple'}, {'source': {'id': None, 'name': 'Gizmodo.jp'}, 'author': '塚本直樹', 'title': 'どう思う？ノイキャンな次期AirPodsのコンセプトデザイン', 'description': 'Image:MichaelRieplhuber耳穴にあうかな？Apple（アップル）のワイヤレスイヤホン「AirPods」の次期モデルで噂されている、ノイズキャンセリング機能やカナル型への進化。そんなアイディアを盛り込んだコンセプト画像が、海外から登場しました。デザイナーのMichaelRieplhuber氏が制作した画像は、これまでのリーク情報にもとづいたコンセプト画像です。樽のような円柱形のド', 'url': 'https://www.gizmodo.jp/2019/10/next-airpods.html', 'urlToImage': 'https://assets.media-platform.com/gizmodo/dist/images/2019/10/04/AirPods-Concept-w960.png', 'publishedAt': '2019-10-07T07:00:00Z', 'content': 'Copyright © mediagene Inc. All Rights Reserved.'}, {'source': {'id': None, 'name': 'Younghouselove.com'}, 'author': 'John Petersik', 'title': '#149: What’s Next For Our Master Bathroom Reno', 'description': 'We’re sharing how our bathroom reno went from zero to fifty percent (that’ll make more sense when you hear what we did) and how we gained a ton of insight about the right layout and the right size for the vanity, shower, tub, etc. Also… the houseplant struggl…', 'url': 'https://www.younghouselove.com/podcast-149/', 'urlToImage': 'https://www.younghouselove.com/wp-content/uploads//2019/10/ep149-Master-Bath-Inspiration-Design-Sixty-Five.jpg', 'publishedAt': '2019-10-07T05:00:42Z', 'content': 'Were sharing how our bathroom reno went from zero to fifty percent (thatll make more sense when you hear what we did) and how we gained a ton of insight about the right layout and the right size for the vanity, shower, tub, etc. Also the houseplant struggle i… [+5196 chars]'}, {'source': {'id': 'engadget', 'name': 'Engadget'}, 'author': 'Eric Chan', 'title': '开发者 Blix 指「Sign in with Apple」的匿名电邮功能是抄袭他们的', 'description': '在年初的 WWDC 2019 上发布的「Sign in with Apple」机制，有一个可让使用者利用匿名电邮来注册帐户的功能，用于保护使用者的真正电邮地址，听起来是相当聪明。但 Blue Mail 应用的开发者 Blix 就跑出来表示，苹果这功能是侵害了他在其 app 里的专利功能「Share Email」，效果同样是让使用者获得一个新的电邮地址来分享给大众，不必拿出自己私人的电邮地址。\\n\\n过去 Blix 也曾指控苹果不公平对待 Blue Mail，包括有意打压其搜寻排名至第 143 位（现在回到第 13 位…', 'url': 'https://cn.engadget.com/2019/10/06/blix-sign-in-with-apple-patent-lawsuit/', 'urlToImage': 'https://o.aolcdn.com/images/dims?resize=2000%2C2000%2Cshrink&image_uri=https%3A%2F%2Fo.aolcdn.com%2Fimages%2Fdims%3Fcrop%3D1600%252C1067%252C0%252C0%26quality%3D85%26format%3Djpg%26resize%3D1600%252C1067%26image_uri%3Dhttps%3A%2F%2Fs.yimg.com%2Fos%2Fcreatr-uploaded-images%2F2019-10%2Fce6ec2d0-e86f-11e9-9795-cf6cde4e8f24%26client%3Da1acac3e1b3290917d92%26signature%3D45cd508bea0206c594265bc388d87cb42eec1312&client=a1acac3e1b3290917d92&signature=f516819187b9111771c8c1d48a0a619838dba133', 'publishedAt': '2019-10-07T03:00:00Z', 'content': 'WWDC 2019 Sign in with Apple Blue Mail Blix app Share Email\\r\\nBlix Blue Mail 143 13 Mac App Store Blue Mail TypeApp TypeApp Blix \\r\\nBlix Sign in with Apple'}, {'source': {'id': 'engadget', 'name': 'Engadget'}, 'author': 'Kiyoshi Tane', 'title': 'アップルのプライバシー保護技術「Sign in with Apple」、特許侵害として提訴', 'description': '今年のWWDC19で発表された、アップルの新たなプライバシー保護への取り組み「Sign in with Apple」。この新機軸が、アプリ開発企業により特許侵害として提訴されたことが報じられています。原告となったBlixは、電子メールアプリBlue Mailを開発した企業です。同社はアップルが「本来のメールアドレスを隠す機能」を盗用し、「Sign in with Apple」に組み込んだと主張しています。\\n\\n「Sign in with Apple」とは、ウェブサービスに登録するメールアドレスが自動生成され、本来の…', 'url': 'https://japanese.engadget.com/2019/10/07/sign-in-with-apple/', 'urlToImage': 'https://o.aolcdn.com/images/dims?resize=2000%2C2000%2Cshrink&image_uri=https%3A%2F%2Fs.yimg.com%2Fos%2Fcreatr-uploaded-images%2F2019-10%2Fad27fed0-e8cd-11e9-afff-80d8524bb43d&client=a1acac3e1b3290917d92&signature=261529e32439240cd94c9cef222192bb442725e2', 'publishedAt': '2019-10-07T07:30:00Z', 'content': 'BlixBlue MailSign in with Apple\\r\\nSign in with Apple\\r\\nBlue MailBlix2017Share Email()\\r\\nBlixThe New York TimesApp StoreBlue Mail14313\\r\\nBlue MailSign in with AppleTypeAppMac App StoreBlixTypeAppBlue MailApp Store\\r\\nBlixSign in with AppleBlix'}, {'source': {'id': 'engadget', 'name': 'Engadget'}, 'author': '山本竜也(Tatsuya Yamamoto)', 'title': 'Galaxy Watch Active 2実機レビュー。ディスプレイが見やすくなりバッテリー持ちもアップ', 'description': 'SamsungがGalaxy Note10に先立って海外で発表した、新しいスマートウォッチGalaxy Watch Active 2。米国では9月末に発売されており、早速、米Amazonからグローバル版を購入してみました。Galaxy Watch Activeと比較しつつ、簡単なレビューをお届けします。\\n\\n \\n関連記事：\\nGalaxy Watch Active2発表。タッチベゼルにECGセンサーを搭載、LTEモデルも\\nフィットネストラッカーのようなスマートウォッチGalaxy Watch Active実機レビュー…', 'url': 'https://japanese.engadget.com/2019/10/06/galaxy-watch-active-2/', 'urlToImage': 'https://o.aolcdn.com/images/dims?resize=2000%2C2000%2Cshrink&image_uri=https%3A%2F%2Fs.yimg.com%2Fos%2Fcreatr-uploaded-images%2F2019-10%2Fabfc5980-e7f0-11e9-bfd7-f34f893a77bf&client=a1acac3e1b3290917d92&signature=4d7aca14a13c6999de255f621ca67a070360ae67', 'publishedAt': '2019-10-07T03:00:00Z', 'content': 'SamsungGalaxy Note10Galaxy Watch Active 29AmazonGalaxy Watch Active44mm40mmLTEGalaxy Watch Active 244mm1.41.140mm1.2360x360\\r\\nGalaxy Watch ActiveGalaxy Watch Active 2\\r\\nApple Watch Series 5Galaxy Watch Active 2\\r\\n12\\r\\nGalaxy Watch Active\\r\\n44mm\\r\\nECG\\r\\nGalaxy Watch … [+193 chars]'}, {'source': {'id': 'engadget', 'name': 'Engadget'}, 'author': 'Kiyoshi Tane', 'title': 'iPodの父、開発秘話をツイート。iTunesのWindows対応も振り返る', 'description': '後にiPhoneが開発される基礎となった、携帯デジタル音楽プレイヤーのiPod。その「父」（Father of the iPod)として知られるトニー・ファデル氏が、iPod開発の裏話についてTwitterでいくつか質問に答えています。ファデル氏は2001年にiPod開発の責任者としてアップルに入社し、2006年〜2008年にiPod上級副社長を務めた人物。そもそも同氏がHDDを搭載した携帯音楽プレイヤーを開発する会社Fuseを創業し、それがアップルに買収されたことがiPodの始まりとも言われています。\\n\\nまずフ…', 'url': 'https://japanese.engadget.com/2019/10/07/ipod-itunes-windows/', 'urlToImage': 'https://o.aolcdn.com/images/dims?resize=2000%2C2000%2Cshrink&image_uri=https%3A%2F%2Fs.yimg.com%2Fos%2Fcreatr-uploaded-images%2F2019-10%2F4bc437f0-e8c6-11e9-8def-120c0659cca4&client=a1acac3e1b3290917d92&signature=ef4f7af12b5021bba7e08165430a0f286807791c', 'publishedAt': '2019-10-07T06:30:00Z', 'content': '2001iPod20062008iPodHDDFuseiPod\\r\\niPodiPhone10CEO\\r\\nThe real reason why iPod &amp; iPhone were successful was based on the market timing &amp; the complete ground up design (HW+SW) That said, I pushed to ship the 1st iPod in &lt;10 months. Long timelines are th… [+1758 chars]'}, {'source': {'id': None, 'name': 'Applesfera.com'}, 'author': 'Cristian Rus', 'title': 'Ming-Chi Kuo predice una fuerte demanda de los nuevos iPhone 11 y 11 Pro, impulsada por el futuro iPhone SE 2', 'description': 'Buenas noticias para los inversores de Apple, el analista Ming-Chi Kuo, conocido por su buen historial de filtraciones sobre Apple, ha hecho su predicción para este trimestre fiscal de Apple. Según indica, Apple ha pedido a sus proveedores que aumenten la pro…', 'url': 'https://www.applesfera.com/iphone/ming-chi-kuo-predice-fuerte-demanda-nuevos-iphone-11-11-pro-impulsada-futuro-iphone-se-2', 'urlToImage': 'https://i.blogs.es/f7e4d1/71a169a4-f93c-40e2-81c3-29e358ffd383/840_560.jpeg', 'publishedAt': '2019-10-07T06:00:35Z', 'content': 'Buenas noticias para los inversores de Apple, el analista Ming-Chi Kuo, conocido por su buen historial de filtraciones sobre Apple, ha hecho su predicción para este trimestre fiscal de Apple. Según indica, Apple ha pedido a sus proveedores que aumenten la pro… [+1575 chars]'}, {'source': {'id': None, 'name': 'Applesfera.com'}, 'author': 'Cristian Rus', 'title': 'Tony Fadell, diseñador del iPod, hace públicos algunos detalles sobre la creación del reproductor', 'description': 'Tony Fadell es una de las personas más influyentes en el desarrollo de los actuales productos de Apple, junto a Steve Jobs y Jony Ive. Salió hace un tiempo de la empresa, aunque ha estado detrás de increíbles productos como el primer iPod. Si por algo se le c…', 'url': 'https://www.applesfera.com/ipad/tony-fadell-disenador-ipod-hace-publicos-algunos-detalles-creacion-reproductor', 'urlToImage': 'https://i.blogs.es/fef989/9e78e0be-a9d7-449f-994c-43c59ced2472/840_560.jpeg', 'publishedAt': '2019-10-07T08:00:35Z', 'content': 'Tony Fadell es una de las personas más influyentes en el desarrollo de los actuales productos de Apple, junto a Steve Jobs y Jony Ive. Salió hace un tiempo de la empresa, aunque ha estado detrás de increíbles productos como el primer iPod. Si por algo se le c… [+6208 chars]'}, {'source': {'id': None, 'name': 'Presse-citron.net'}, 'author': 'Hadrien Augusto', 'title': 'Si vous avez ce problème, Apple vous répare gratuitement votre iPhone 6s', 'description': 'Il se pourrait que votre iPhone 6s ou 6s Plus possède un problème d’allumage. Apple s’en occupe dans une campagne de rappel.', 'url': 'https://www.presse-citron.net/si-vous-avez-ce-probleme-apple-vous-repare-gratuitement-votre-iphone-6s/', 'urlToImage': 'https://www.presse-citron.net/wordpress_prod/wp-content/uploads/2019/10/iphone-6s.jpg', 'publishedAt': '2019-10-07T07:10:39Z', 'content': 'En seulement quatre ans, pas moins de 4 générations de liPhone sont apparues depuis liPhone 6, avec leur lot de déclinaisons. De quoi laisser liPhone 6 et ses versions 6s et 6s Plus rejoindre les rangs des dinosaures des smartphones, alors quils nont finaleme… [+1783 chars]'}, {'source': {'id': None, 'name': 'Presse-citron.net'}, 'author': 'Eric', 'title': 'Cette fonctionnalité méconnue d’iOS 13 permet enfin de transférer des fichiers entre une clé USB et un iPhone', 'description': \"C'est une nouveauté majeure d'iOS 13, mais elle est passée relativement inaperçue. Voici ce qu'il faut savoir et comment l'utiliser.\", 'url': 'https://www.presse-citron.net/cette-fonctionnalite-meconnue-dios-13-permet-enfin-de-transferer-des-fichiers-entre-une-cle-usb-et-un-iphone/', 'urlToImage': 'https://www.presse-citron.net/wordpress_prod/wp-content/uploads/2019/10/usb-iPhone.jpg', 'publishedAt': '2019-10-07T08:00:11Z', 'content': 'Ceux qui utilisent fréquemment leur iPhone pour des besoins professionnels et qui par ailleurs ne sont pas dans un environnement 100% Apple connaissent bien l’horreur que constitue le transfert de fichiers entre leur téléphone et des sources externes. Bien sû… [+2572 chars]'}, {'source': {'id': None, 'name': 'Avclub.com'}, 'author': 'Les Chappell on TV Club, shared by Les Chappell to The A.V. Club', 'title': \"A traditional yet entertaining Bob's Burgers finds the magic in a mushroom hunt\", 'description': 'Last week’s season premiere showed Bob’s Burgers in a wider state of mind—a grand caper adventure that was at its core about the deep affection that the Belcher family has for each other, and how truly bad they are at expressing it most of the time. By contra…', 'url': 'https://tv.avclub.com/a-traditional-yet-entertaining-bobs-burgers-finds-the-m-1838830268', 'urlToImage': 'https://i.kinja-img.com/gawker-media/image/upload/s--Ku0zmOxp--/c_fill,fl_progressive,g_center,h_900,q_80,w_1600/vexlorrkrtnytnasvsyo.jpg', 'publishedAt': '2019-10-07T04:00:00Z', 'content': 'Last weeks season premiere showed Bobs Burgers in a wider state of minda grand caper adventure that was at its core about the deep affection that the Belcher family has for each other, and how truly bad they are at expressing it most of the time. By contrast,… [+7097 chars]'}, {'source': {'id': 'techcrunch', 'name': 'TechCrunch'}, 'author': 'Brian Heater', 'title': 'HTCの新しいCEOはスマートフォンの革新を怠っていたことを認めた', 'description': '<p id=\"speakable-summary\"><span style=\"font-size:1rem;letter-spacing:-.1px;\">数カ月前のことだが、私たちはHTCの共同設立者でCEOのCher Wang（シェール・ワン、王雪紅）氏をTechCrunch Disruptのステージに招待した。しかし、人生がどうなるかはわからない。2週間前、同社はワン氏がその役職を辞任することを発表した。なお、その役職は、通信業界で長い経験を持つYves Maitres（イヴ・メイタース）氏によってすぐに引き…', 'url': 'https://jp.techcrunch.com/2019/10/07/2019-10-05-htc-stopped-innovating-on-smartphones-new-ceo-admits/', 'urlToImage': 'https://techcrunchjp.files.wordpress.com/2019/10/f4827741-57b5-47ea-acd2-b7bf8fdaadd4.png?w=800', 'publishedAt': '2019-10-07T00:00:09Z', 'content': 'HTCCEOCher WangTechCrunch Disrupt2Yves MaitresOrange\\r\\nOnePlusCarl Pei6OnePlus\\r\\nHTC25741201111\\r\\nHTC\\r\\nHTCAppleSamsungHuawei\\r\\nHTC\\r\\nR&amp;DXRViveVRHTCXR5\\r\\n5GHTCGDP\\r\\nHTC\\r\\nHTC\\r\\n5G20205G220232025\\r\\n[]\\r\\nsako'}, {'source': {'id': None, 'name': 'Vidaextra.com'}, 'author': 'R. Márquez', 'title': 'El juego remoto llega a Android con la actualización 7.00 de PS4', 'description': 'Habiéndo sido una de las grandes bazas de PS Vita, mucho ha tardado Sony en abrir puertas al campo para que otros dispositivos puedan aprovechar el juego remoto. Si el pasado mes de marzo esa oportunidad le llegaba a los usuarios de iOS, octubre será el mes d…', 'url': 'https://www.vidaextra.com/android/juego-remoto-llega-a-android-actualizacion-7-00-ps4', 'urlToImage': 'https://i.blogs.es/3c5356/remoto/840_560.jpeg', 'publishedAt': '2019-10-07T07:14:09Z', 'content': 'Habiéndo sido una de las grandes bazas de PS Vita, mucho ha tardado Sony en abrir puertas al campo para que otros dispositivos puedan aprovechar el juego remoto. Si el pasado mes de marzo esa oportunidad le llegaba a los usuarios de iOS, octubre será el mes d… [+1038 chars]'}, {'source': {'id': None, 'name': 'Stadt-bremerhaven.de'}, 'author': 'Sascha Ostermaier', 'title': 'Tidal HiFi 6 Monate lang kostenlos nutzen (120 Euro sparen)', 'description': 'Tidal ist einer der Musikstreamingdienste, die ihr eigenes Ding machen, sich nicht zwingend in die große Schlacht zwischen Spotify und Apple Music stürzen. Tidal bietet unterdessen nicht nur ein HiFi-Musik-Abo, sondern neben dem normalen Repertoire auch Inhal…', 'url': 'https://stadt-bremerhaven.de/tidal-hifi-6-monate-lang-kostenlos-nutzen-120-euro-sparen/', 'urlToImage': 'https://stadt-bremerhaven.de/wp-content/uploads/2017/12/tidal_logo.jpg', 'publishedAt': '2019-10-07T06:30:17Z', 'content': 'Tidal ist einer der Musikstreamingdienste, die ihr eigenes Ding machen, sich nicht zwingend in die große Schlacht zwischen Spotify und Apple Music stürzen. Tidal bietet unterdessen nicht nur ein HiFi-Musik-Abo, sondern neben dem normalen Repertoire auch Inhal… [+966 chars]'}, {'source': {'id': None, 'name': 'Frandroid.com'}, 'author': 'Cassim Ketfi', 'title': 'Apple AirPods 3 : iOS 12.3 révèle par erreur le design des nouveaux écouteurs', 'description': 'La nouvelle version du système iOS\\xa012.3 intègre une icône représentant les nouveaux écouteurs d’Apple. La firme proposera bientôt un nouveau design avec annulation de bruit. Concept basé sur l’icône. Crédit\\xa0: Riephuber Apple a lancé des écouteurs d’un genre n…', 'url': 'https://www.frandroid.com/produits-android/audio/ecouteurs-true-wireless/630328_apple-airpods-3-ios-12-3-revele-par-erreur-le-design-des-nouveaux-ecouteurs', 'urlToImage': 'https://images.frandroid.com/wp-content/uploads/2019/10/apple-airpods-3-design-concept-1200x1200.jpg', 'publishedAt': '2019-10-07T06:06:33Z', 'content': 'La nouvelle version du système iOS\\xa012.3 intègre une icône représentant les nouveaux écouteurs dApple. La firme proposera bientôt un nouveau design avec annulation de bruit.\\r\\nApple a lancé des écouteurs dun genre nouveau en 2016, les AirPods, ses premiers écou… [+1091 chars]'}]}\n"
     ]
    }
   ],
   "source": [
    "import requests\n",
    "\n",
    "url = ('https://newsapi.org/v2/everything?'\n",
    "       'q=Apple&'\n",
    "       'from=2019-10-07&'\n",
    "       'sortBy=popularity&'\n",
    "       'apiKey=749e4a9b92e046a386a4420df0de07ee')\n",
    "\n",
    "response = requests.get(url)\n",
    "\n",
    "print(response.json())"
   ]
  },
  {
   "cell_type": "code",
   "execution_count": 58,
   "metadata": {},
   "outputs": [
    {
     "name": "stdout",
     "output_type": "stream",
     "text": [
      "{'status': 'error', 'code': 'parametersIncompatible', 'message': 'You cannot mix the sources parameter with the country or category parameters.'}\n"
     ]
    }
   ],
   "source": [
    "url = (\"\"\"https://newsapi.org/v2/top-headlines?language=en&from=2019-10-01&sources=ccategory=sports&apiKey=749e4a9b92e046a386a4420df0de07ee\"\"\")\n",
    "\n",
    "response = requests.get(url)\n",
    "\n",
    "print(response.json())"
   ]
  },
  {
   "cell_type": "code",
   "execution_count": 56,
   "metadata": {},
   "outputs": [
    {
     "data": {
      "text/plain": [
       "{'status': 'ok',\n",
       " 'totalResults': 702,\n",
       " 'articles': [{'source': {'id': 'cnbc', 'name': 'CNBC'},\n",
       "   'author': 'Sam Meredith',\n",
       "   'title': 'US Treasury yields tick higher as traders monitor US-China trade talks',\n",
       "   'description': \"U.S. government debt yields edged higher on Monday morning as traders digested last week's jobs report and monitored trade developments between Washington and Beijing.\",\n",
       "   'url': 'https://www.cnbc.com/2019/10/07/bonds-treasury-yields-tick-higher-as-traders-monitor-trade-talks.html',\n",
       "   'urlToImage': 'https://image.cnbcfm.com/api/v1/image/106046375-1564427483144gettyimages-137703782.jpeg?v=1564427546',\n",
       "   'publishedAt': '2019-10-07T07:28:01Z',\n",
       "   'content': \"U.S. government debt yields edged higher on Monday morning as traders digested last week's jobs report and monitored trade developments between Washington and Beijing.At around 3:10 a.m. ET, the yield on the benchmark 10-year Treasury note, which moves invers… [+1482 chars]\"},\n",
       "  {'source': {'id': 'cnbc', 'name': 'CNBC'},\n",
       "   'author': 'CNBC Asia Source',\n",
       "   'title': 'Oil supply will be much tighter at the end of 2019: S&P Global Platts',\n",
       "   'description': 'Oil prices will be supported in the end of 2019 because OPEC supply will be down \"substantially\" and that cannot be fully offset by growth in the U.S. and non-OPEC areas, says Kang Wu of S&P Global Platts.',\n",
       "   'url': 'https://www.cnbc.com/video/2019/10/07/oil-supply-will-be-much-tighter-at-the-end-of-2019-sp-global-platts.html',\n",
       "   'urlToImage': 'https://fm.cnbc.com/applications/cnbc.com/resources/img/editorial/2019/10/06/106166924-15704176941ED1-ASB-KangWu-100619.600x400.jpg',\n",
       "   'publishedAt': '2019-10-07T07:22:00Z',\n",
       "   'content': None},\n",
       "  {'source': {'id': 'cnbc', 'name': 'CNBC'},\n",
       "   'author': 'Grace Shao',\n",
       "   'title': 'Violent protests continue in Hong Kong after anti-mask law comes into effect',\n",
       "   'description': 'Pro-democracy lawmaker, Claudia Mo, says \"the Chief Executive has no power to enact regulations in the manner she has.\"',\n",
       "   'url': 'https://www.cnbc.com/2019/10/07/hong-kong-protests-continue-after-anti-mask-law-comes-into-effect.html',\n",
       "   'urlToImage': 'https://image.cnbcfm.com/api/v1/image/106166870-1570408631759gettyimages-1173911134.jpeg?v=1570408674',\n",
       "   'publishedAt': '2019-10-07T07:18:00Z',\n",
       "   'content': \"Pro-democracy protesters set barricade on fire at a demonstration in Causeway Bay district on October 6, 2019 in Hong Kong, China.\\r\\nHong Kong's anti-mask law incited another weekend of mass protests.\\r\\nThe city's chief executive Carrie Lam invoked emergency po… [+4931 chars]\"},\n",
       "  {'source': {'id': 'cnbc', 'name': 'CNBC'},\n",
       "   'author': 'CNBC Asia Source',\n",
       "   'title': 'CCTV Script 07/10/19',\n",
       "   'description': \"This is the script of CNBC's news report for China's CCTV on October 7, 2019, Monday.\",\n",
       "   'url': 'https://www.cnbc.com/2019/10/07/cctv-script-071019.html',\n",
       "   'urlToImage': 'https://sc.cnbcfm.com/applications/cnbc.com/staticcontent/img/cnbc_logo.gif?v=1524171804',\n",
       "   'publishedAt': '2019-10-07T07:08:57Z',\n",
       "   'content': \"This is the script of CNBC's news report for China's CCTV on October 7, 2019, Monday.\\r\\nThe latest research note from Raymond James offers a new perspective to understand the change in U.S. economy structure. U.S. millennials is saving more than the free-spend… [+1507 chars]\"},\n",
       "  {'source': {'id': 'cnbc', 'name': 'CNBC'},\n",
       "   'author': 'CNBC Asia Source',\n",
       "   'title': 'CCTV Script 27/09/19',\n",
       "   'description': \"This is the script of CNBC's news report for China's CCTV on September 27, 2019, Friday.\",\n",
       "   'url': 'https://www.cnbc.com/2019/10/07/cctv-script-270919.html',\n",
       "   'urlToImage': 'https://sc.cnbcfm.com/applications/cnbc.com/staticcontent/img/cnbc_logo.gif?v=1524171804',\n",
       "   'publishedAt': '2019-10-07T07:07:32Z',\n",
       "   'content': \"This is the script of CNBC's news report for China's CCTV on September 27, 2019, Friday.\\r\\nThe United States and the European Union have been locked in a 15-year battle at the world trade organization over alleged illegal subsidies to aircraft manufacturers. I… [+1821 chars]\"},\n",
       "  {'source': {'id': 'cnbc', 'name': 'CNBC'},\n",
       "   'author': 'Sam Meredith',\n",
       "   'title': 'US futures point to lower open',\n",
       "   'description': 'Trade talks between the U.S. and China are set to resume in Washington, D.C., on Thursday.',\n",
       "   'url': 'https://www.cnbc.com/2019/10/07/stock-market-us-china-trade-talks-in-focus-on-wall-street.html',\n",
       "   'urlToImage': 'https://image.cnbcfm.com/api/v1/image/106090351-1566412094842gettyimages-1035842668.jpeg?v=1566412148',\n",
       "   'publishedAt': '2019-10-07T06:24:47Z',\n",
       "   'content': 'U.S. stock index futures\\xa0were lower Monday morning. \\r\\nAt around 02:20 a.m. ET,\\xa0Dow\\xa0futures fell 100 points, indicating a negative open of more than 88 points. Futures on the\\xa0S&amp;P\\xa0and\\xa0Nasdaq\\xa0were both slightly lower.\\r\\nThe moves in pre-market trade come afte… [+1234 chars]'},\n",
       "  {'source': {'id': 'cnbc', 'name': 'CNBC'},\n",
       "   'author': 'Elliot Smith',\n",
       "   'title': 'European stocks point to cautious open as focus turns to trade and Brexit',\n",
       "   'description': 'European markets looked set for a cautious open Monday morning as traders look for hints on the direction of Brexit and U.S.-China trade talks.',\n",
       "   'url': 'https://www.cnbc.com/2019/10/07/european-markets-investor-focus-turns-to-trade-and-brexit.html',\n",
       "   'urlToImage': 'https://image.cnbcfm.com/api/v1/image/104918777-GettyImages-94932533.jpg?v=1532563707',\n",
       "   'publishedAt': '2019-10-07T05:57:18Z',\n",
       "   'content': 'European markets looked set for a cautious open Monday morning as traders search for hints on the direction of Brexit and U.S.-China trade talks.\\r\\nThe FTSE 100 was seen around 12 points lower at 7,143, the DAX was expected to edge fractionally lower to 12,012… [+1889 chars]'},\n",
       "  {'source': {'id': 'cnbc', 'name': 'CNBC'},\n",
       "   'author': 'Reuters',\n",
       "   'title': \"Portugal's ruling Socialists win election but fall short of outright majority\",\n",
       "   'description': \"Portugal's ruling Socialists won Sunday's parliamentary election but fell short of an outright majority.\",\n",
       "   'url': 'https://www.cnbc.com/2019/10/07/portugal-election-socialists-win-but-fall-short-of-outright-majority.html',\n",
       "   'urlToImage': 'https://image.cnbcfm.com/api/v1/image/106163889-1570167301554gettyimages-1178194446.jpeg?v=1570167360',\n",
       "   'publishedAt': '2019-10-07T05:18:00Z',\n",
       "   'content': \"Portugal's ruling Socialists won Sunday's parliamentary election but fell short of an outright majority, meaning Prime Minister Antonio Costa will need to negotiate a new deal with one or both of his far-left allies in the previous legislature. \\r\\n A few weeks… [+4325 chars]\"},\n",
       "  {'source': {'id': 'cnbc', 'name': 'CNBC'},\n",
       "   'author': 'Michael Ivanovitch',\n",
       "   'title': 'Close the trade deal and move on to broader US-China relations',\n",
       "   'description': 'The latest data on U.S.-China trade indicate that Beijing is not doing what it should to reduce its excessive surpluses by buying more American products, writes Dr Michael Ivanovitch.',\n",
       "   'url': 'https://www.cnbc.com/2019/10/07/commentary-close-the-trade-deal-and-move-to-broader-us-china-relations.html',\n",
       "   'urlToImage': 'https://image.cnbcfm.com/api/v1/image/105982615-1561178736421gettyimages-1153550814.jpeg?v=1561178797',\n",
       "   'publishedAt': '2019-10-07T05:02:00Z',\n",
       "   'content': 'Aerial view of shipping containers sitting stacked at Lianyungang Port on June 3, 2019 in Lianyungang, Jiangsu Province of China.\\r\\nWashington deserves full support from the public opinion and its friends and allies in its effort to balance trade accounts with… [+6661 chars]'},\n",
       "  {'source': {'id': 'cnbc', 'name': 'CNBC'},\n",
       "   'author': 'Joanna Tan',\n",
       "   'title': 'Turkey to move ahead with its planned military operation in northern Syria, US says',\n",
       "   'description': 'Turkey will be launching a planned military operation in northern Syria, and the United States will withdraw its troops in the area ahead of the attack, a statement from U.S. press secretary Stephanie Grisham said.',\n",
       "   'url': 'https://www.cnbc.com/2019/10/07/turkey-to-move-ahead-with-planned-military-operation-in-north-syria-us-says.html',\n",
       "   'urlToImage': 'https://image.cnbcfm.com/api/v1/image/105521593-1540224670711gettyimages-1052684974.jpeg?v=1554871331',\n",
       "   'publishedAt': '2019-10-07T04:10:00Z',\n",
       "   'content': 'Turkey will be launching a planned military operation in northern Syria, and the United States will withdraw its troops in the area ahead of the attack,, a statement from U.S. press secretary Stephanie Grisham said.\\r\\n\"Turkey will soon be moving forward with i… [+1537 chars]'},\n",
       "  {'source': {'id': 'cnbc', 'name': 'CNBC'},\n",
       "   'author': 'Reuters',\n",
       "   'title': 'Malaysia probing 80 individuals, companies in 1MDB case',\n",
       "   'description': \"Latheefa Koya, the head of Malaysia's Anti-Corruption Commission, told reporters the agency was aiming to recover 420 million ringgit ($100 million) from the individuals and entities.\",\n",
       "   'url': 'https://www.cnbc.com/2019/10/07/malaysia-probing-80-individuals-companies-in-1mdb-case.html',\n",
       "   'urlToImage': 'https://image.cnbcfm.com/api/v1/image/104625371-GettyImages-642385958.jpg?v=1570415930',\n",
       "   'publishedAt': '2019-10-07T03:25:00Z',\n",
       "   'content': \"Malaysia has begun investigating about 80 individuals and entities for allegedly receiving money from 1MDB (1Malaysia Development Berhad), which is under scrutiny for corruption and money laundering, the country's anti-graft chief said on Monday.\\r\\nLatheefa Ko… [+356 chars]\"},\n",
       "  {'source': {'id': 'cnbc', 'name': 'CNBC'},\n",
       "   'author': 'Weizhen Tan',\n",
       "   'title': \"Budweiser wants to take on China, the world's largest beer market where local brews rule\",\n",
       "   'description': 'Leading brewer AB InBev is making a big push in China and other parts of Asia — but seeking to topple local brewers could prove challenging.',\n",
       "   'url': 'https://www.cnbc.com/2019/10/07/budweiser-seeks-growth-in-china-vietnam-india-south-korea-beer-markets.html',\n",
       "   'urlToImage': 'https://image.cnbcfm.com/api/v1/image/106015402-1562912067804gettyimages-1153657512.jpeg?v=1570416042',\n",
       "   'publishedAt': '2019-10-07T02:48:00Z',\n",
       "   'content': \"Budweiser beer products manufactured by Anheuser-Busch InBev NV sit on display during a news conference in Hong Kong, China, on Thursday, July 4, 2019.\\r\\nThe world's largest brewer is making a big push for China and other parts of Asia but it could prove chall… [+5053 chars]\"},\n",
       "  {'source': {'id': 'cnbc', 'name': 'CNBC'},\n",
       "   'author': 'Reuters',\n",
       "   'title': 'Oil prices slip again amid gathering gloom over global economy',\n",
       "   'description': \"Oil prices fell on Monday, extending last week's heavy losses, with traders fearing the global economic slowdown will weigh on future oil demand growth while pegging hopes for a rebound on progress in talks this week on ending the U.S.-China trade war.\",\n",
       "   'url': 'https://www.cnbc.com/2019/10/07/oil-markets-global-economy-in-focus.html',\n",
       "   'urlToImage': 'https://image.cnbcfm.com/api/v1/image/105862884-1555901143306gettyimages-1056285786.jpeg?v=1570407726',\n",
       "   'publishedAt': '2019-10-07T02:22:00Z',\n",
       "   'content': \"Oil prices fell on Monday, extending last week's heavy losses, with traders fearing the global economic slowdown will weigh on future oil demand growth while pegging hopes for a rebound on progress in talks this week on ending the U.S.-China trade war.\\r\\nBrent… [+1489 chars]\"},\n",
       "  {'source': {'id': 'cnbc', 'name': 'CNBC'},\n",
       "   'author': 'Saheli Roy Choudhury',\n",
       "   'title': 'Houston Rockets GM apologizes after Chinese anger over Hong Kong tweet',\n",
       "   'description': 'Houston Rockets general manager Daryl Morey killed a tweet that reportedly said, \"Fight for Freedom. Stand with Hong Kong.\"',\n",
       "   'url': 'https://www.cnbc.com/2019/10/07/houston-rockets-gm-morey-deletes-tweet-about-hong-kong.html',\n",
       "   'urlToImage': 'https://image.cnbcfm.com/api/v1/image/106166885-1570411369887gettyimages-1157815621.jpeg?v=1570413790',\n",
       "   'publishedAt': '2019-10-07T02:01:00Z',\n",
       "   'content': 'Houston Rockets general manager Daryl Morey apologized on Twitter over a now-deleted tweet that spoke in support of the Hong Kong protests, after his remarks were attacked by the Chinese Basketball Association and the Chinese Consulate-General in Houston.\\r\\nMo… [+2889 chars]'},\n",
       "  {'source': {'id': 'cnbc', 'name': 'CNBC'},\n",
       "   'author': 'Reuters',\n",
       "   'title': 'Chinese soldiers in Hong Kong warn protesters as emergency rules fail to quell unrest',\n",
       "   'description': 'The stand-off with the PLA came after rallies attended by tens of thousands of protesters earlier on Sunday ended in violent clashes in several locations.',\n",
       "   'url': 'https://www.cnbc.com/2019/10/07/chinese-soldiers-in-hong-kong-warn-protesters-as-emergency-rules-fail-to-quell-unrest.html',\n",
       "   'urlToImage': 'https://image.cnbcfm.com/api/v1/image/106166867-1570407879593gettyimages-1173906113.jpeg?v=1570407992',\n",
       "   'publishedAt': '2019-10-07T00:40:00Z',\n",
       "   'content': 'Police fire from the Mongkok police station toward protesters after they marched from the Tsim Sha Tsui district to Mongkok in Hong Kong on October 6, 2019. - A Hong Kong judge on October 6 rejected a challenge to an emergency law criminalising protesters wea… [+6012 chars]'},\n",
       "  {'source': {'id': 'cnbc', 'name': 'CNBC'},\n",
       "   'author': 'Reuters',\n",
       "   'title': 'HSBC reportedly plans to cut up to 10,000 jobs in drive to slash costs',\n",
       "   'description': \"The plan represents HSBC's most ambitious attempt in years to cut costs, the Financial Times said, citing two people briefed on the matter. It said the cuts will focus mainly on high-paid roles.\",\n",
       "   'url': 'https://www.cnbc.com/2019/10/07/hsbc-reportedly-plans-to-cut-up-to-10000-jobs-in-drive-to-slash-costs.html',\n",
       "   'urlToImage': 'https://image.cnbcfm.com/api/v1/image/105715114-1549038082640gettyimages-677310692.jpeg?v=1570407018',\n",
       "   'publishedAt': '2019-10-07T00:17:00Z',\n",
       "   'content': \"HSBC Holdings\\xa0is planning to cut up to 10,000 jobs as interim Chief Executive Officer Noel Quinn seeks to reduce costs across the banking group, the Financial Times reported on Sunday.\\r\\nThe plan represents the lender's most ambitious attempt in years to cut c… [+1005 chars]\"},\n",
       "  {'source': {'id': 'cnbc', 'name': 'CNBC'},\n",
       "   'author': 'The Associated Press',\n",
       "   'title': 'Trump allies pressed Ukraine over gas firm',\n",
       "   'description': 'Last spring, a group of individuals with ties to the president and his personal lawyer were active in the former Soviet republic of Ukraine. Their aims were profit, not politics.',\n",
       "   'url': 'https://www.cnbc.com/2019/10/07/trump-allies-pressed-ukraine-over-gas-firm.html',\n",
       "   'urlToImage': 'https://image.cnbcfm.com/api/v1/image/105019770-Ukraine_gas.jpg?v=1570406135',\n",
       "   'publishedAt': '2019-10-07T00:15:00Z',\n",
       "   'content': \"A woman walks past the Naftogaz headquarters in Kyiv, Ukraine, on September 11, 2019.\\r\\nAs Rudy Giuliani was pushing Ukrainian officials last spring to investigate one of Donald Trump's main political rivals, a group of individuals with ties to the president a… [+15030 chars]\"},\n",
       "  {'source': {'id': 'cnbc', 'name': 'CNBC'},\n",
       "   'author': 'Eustance Huang',\n",
       "   'title': \"Asia markets to trade higher ahead of this week's US-China trade talks\",\n",
       "   'description': 'Principal-level trade negotiations between the United States and China are set to begin on Thursday in Washington.',\n",
       "   'url': 'https://www.cnbc.com/2019/10/07/asia-markets-october-7-us-china-trade-negotiations-set-to-resume.html',\n",
       "   'urlToImage': 'https://image.cnbcfm.com/api/v1/image/105502947-1539325710392gettyimages-1042142542.jpeg?v=1570404115',\n",
       "   'publishedAt': '2019-10-06T23:50:00Z',\n",
       "   'content': 'Asia markets looked set to trade higher on Monday as investors awaited a fresh round of U.S.-China trade negotiations to begin later this week.\\xa0\\r\\nFutures pointed to a higher open in Japan: Nikkei futures contract in Chicago traded at 21,475 while its counterp… [+2759 chars]'},\n",
       "  {'source': {'id': 'cnbc', 'name': 'CNBC'},\n",
       "   'author': 'Anmar Frangoul',\n",
       "   'title': \"Unilever says it wants to halve its use of 'virgin' plastic by 2025\",\n",
       "   'description': 'The way products are packaged could be about to change.',\n",
       "   'url': 'https://www.cnbc.com/2019/10/07/unilever-says-it-wants-to-halve-its-use-of-virgin-plastic-by-2025.html',\n",
       "   'urlToImage': 'https://image.cnbcfm.com/api/v1/image/106164884-1570198367308gettyimages-80476164.jpeg?v=1570198388',\n",
       "   'publishedAt': '2019-10-06T23:01:00Z',\n",
       "   'content': 'Unilever will halve its use of virgin plastic by 2025, the consumer goods giant said Monday. \\r\\nThe business, whose brands include Dove, Ben &amp; Jerry\\'s and Lipton, said it would achieve this by cutting its \"absolute use of plastic packaging\" by over 100,000… [+2125 chars]'},\n",
       "  {'source': {'id': 'cnbc', 'name': 'CNBC'},\n",
       "   'author': 'Kif Leswing',\n",
       "   'title': 'A new smaller, cheaper iPhone could boost sales in early 2020, top Apple analyst Kuo predicts',\n",
       "   'description': \"Kuo's estimates suggest that Apple is selling a higher proportion of low-cost iPhones than last year.\",\n",
       "   'url': 'https://www.cnbc.com/2019/10/06/ming-chi-kuo-a-new-smaller-cheaper-iphone-could-boost-sales-in-2020.html',\n",
       "   'urlToImage': 'https://image.cnbcfm.com/api/v1/image/104475750-GettyImages-516865736.jpg?v=1532563842',\n",
       "   'publishedAt': '2019-10-06T21:09:00Z',\n",
       "   'content': \"Apple's iPhone shipments could be up 10% year-over-year in the first quarter of 2020, according to a new estimate from TF Securities analyst Ming-Chi Kuo.\\r\\nKuo believes the growth will be partially driven by an unannounced new device he calls the iPhone SE, w… [+1068 chars]\"}]}"
      ]
     },
     "execution_count": 56,
     "metadata": {},
     "output_type": "execute_result"
    }
   ],
   "source": [
    "response.json()"
   ]
  },
  {
   "cell_type": "code",
   "execution_count": 48,
   "metadata": {},
   "outputs": [],
   "source": [
    "top_headlines = newsapi.get_top_headlines(\n",
    "                                          sources='cnbc'\n",
    "                                         )\n"
   ]
  },
  {
   "cell_type": "code",
   "execution_count": 49,
   "metadata": {},
   "outputs": [
    {
     "data": {
      "text/plain": [
       "{'status': 'ok',\n",
       " 'totalResults': 7,\n",
       " 'articles': [{'source': {'id': 'cnbc', 'name': 'CNBC'},\n",
       "   'author': 'Sam Meredith',\n",
       "   'title': 'US Treasury yields tick higher as traders monitor US-China trade talks',\n",
       "   'description': \"U.S. government debt yields edged higher on Monday morning as traders digested last week's jobs report and monitored trade developments between Washington and Beijing.\",\n",
       "   'url': 'https://www.cnbc.com/2019/10/07/bonds-treasury-yields-tick-higher-as-traders-monitor-trade-talks.html',\n",
       "   'urlToImage': 'https://image.cnbcfm.com/api/v1/image/106046375-1564427483144gettyimages-137703782.jpeg?v=1564427546',\n",
       "   'publishedAt': '2019-10-07T07:28:01Z',\n",
       "   'content': \"U.S. government debt yields edged higher on Monday morning as traders digested last week's jobs report and monitored trade developments between Washington and Beijing.At around 3:10 a.m. ET, the yield on the benchmark 10-year Treasury note, which moves invers… [+1482 chars]\"},\n",
       "  {'source': {'id': 'cnbc', 'name': 'CNBC'},\n",
       "   'author': 'Sam Meredith',\n",
       "   'title': 'US futures point to lower open',\n",
       "   'description': 'Trade talks between the U.S. and China are set to resume in Washington, D.C., on Thursday.',\n",
       "   'url': 'https://www.cnbc.com/2019/10/07/stock-market-us-china-trade-talks-in-focus-on-wall-street.html',\n",
       "   'urlToImage': 'https://image.cnbcfm.com/api/v1/image/106090351-1566412094842gettyimages-1035842668.jpeg?v=1566412148',\n",
       "   'publishedAt': '2019-10-07T06:24:47Z',\n",
       "   'content': 'U.S. stock index futures\\xa0were lower Monday morning. \\r\\nAt around 02:20 a.m. ET,\\xa0Dow\\xa0futures fell 100 points, indicating a negative open of more than 88 points. Futures on the\\xa0S&amp;P\\xa0and\\xa0Nasdaq\\xa0were both slightly lower.\\r\\nThe moves in pre-market trade come afte… [+1234 chars]'},\n",
       "  {'source': {'id': 'cnbc', 'name': 'CNBC'},\n",
       "   'author': 'Michael Ivanovitch',\n",
       "   'title': 'Close the trade deal and move on to broader US-China relations',\n",
       "   'description': 'The latest data on U.S.-China trade indicate that Beijing is not doing what it should to reduce its excessive surpluses by buying more American products, writes Dr Michael Ivanovitch.',\n",
       "   'url': 'https://www.cnbc.com/2019/10/07/commentary-close-the-trade-deal-and-move-to-broader-us-china-relations.html',\n",
       "   'urlToImage': 'https://image.cnbcfm.com/api/v1/image/105982615-1561178736421gettyimages-1153550814.jpeg?v=1561178797',\n",
       "   'publishedAt': '2019-10-07T05:02:43Z',\n",
       "   'content': 'Aerial view of shipping containers sitting stacked at Lianyungang Port on June 3, 2019 in Lianyungang, Jiangsu Province of China.\\r\\nWashington deserves full support from the public opinion and its friends and allies in its effort to balance trade accounts with… [+6661 chars]'},\n",
       "  {'source': {'id': 'cnbc', 'name': 'CNBC'},\n",
       "   'author': 'Weizhen Tan',\n",
       "   'title': \"Budweiser wants to take on China, the world's largest beer market where local brews rule\",\n",
       "   'description': 'Leading brewer AB InBev is making a big push in China and other parts of Asia — but seeking to topple local brewers could prove challenging.',\n",
       "   'url': 'https://www.cnbc.com/2019/10/07/budweiser-seeks-growth-in-china-vietnam-india-south-korea-beer-markets.html',\n",
       "   'urlToImage': 'https://image.cnbcfm.com/api/v1/image/106015402-1562912067804gettyimages-1153657512.jpeg?v=1570416042',\n",
       "   'publishedAt': '2019-10-07T02:48:33Z',\n",
       "   'content': \"Budweiser beer products manufactured by Anheuser-Busch InBev NV sit on display during a news conference in Hong Kong, China, on Thursday, July 4, 2019.\\r\\nThe world's largest brewer is making a big push for China and other parts of Asia but it could prove chall… [+5157 chars]\"},\n",
       "  {'source': {'id': 'cnbc', 'name': 'CNBC'},\n",
       "   'author': 'Reuters',\n",
       "   'title': 'Chinese soldiers in Hong Kong warn protesters as emergency rules fail to quell unrest',\n",
       "   'description': 'The stand-off with the PLA came after rallies attended by tens of thousands of protesters earlier on Sunday ended in violent clashes in several locations.',\n",
       "   'url': 'https://www.cnbc.com/2019/10/07/chinese-soldiers-in-hong-kong-warn-protesters-as-emergency-rules-fail-to-quell-unrest.html',\n",
       "   'urlToImage': 'https://image.cnbcfm.com/api/v1/image/106166867-1570407879593gettyimages-1173906113.jpeg?v=1570411711',\n",
       "   'publishedAt': '2019-10-07T00:40:23Z',\n",
       "   'content': 'Police fire from the Mongkok police station toward protesters after they marched from the Tsim Sha Tsui district to Mongkok in Hong Kong on October 6, 2019.\\r\\nChinese soldiers issued a warning to Hong Kong protesters on Sunday who shone lasers at their barrack… [+5695 chars]'},\n",
       "  {'source': {'id': 'cnbc', 'name': 'CNBC'},\n",
       "   'author': 'Emma Newburger',\n",
       "   'title': 'China is reportedly reluctant to agree to a broad US trade deal with talks set to restart',\n",
       "   'description': \"China's offer to the U.S. will not include commitments on reforming Chinese industrial policy or government subsidies, the report said.\",\n",
       "   'url': 'https://www.cnbc.com/2019/10/06/china-is-reportedly-reluctant-to-agree-to-a-broad-us-trade-deal-with-talks-set-to-restart.html',\n",
       "   'urlToImage': 'https://image.cnbcfm.com/api/v1/image/106065754-15651863090702019-08-05t161946z_1578719930_rc1a28949a80_rtrmadp_3_usa-economy.jpg?v=1567130116',\n",
       "   'publishedAt': '2019-10-06T21:00:06Z',\n",
       "   'content': 'Chinese officials are growing hesitant to pursue a broad trade deal with the U.S. in negotiations set to begin this Thursday, people familiar with the matter told Bloomberg News.\\r\\nVice Premier Liu He, who will lead negotiations for China, told dignitaries tha… [+997 chars]'},\n",
       "  {'source': {'id': 'cnbc', 'name': 'CNBC'},\n",
       "   'author': 'Fred Imbert',\n",
       "   'title': 'Dow and S&P 500 will try to snap a 3-week slide as US-China trade talks kick off in the week ahead',\n",
       "   'description': 'Stocks will try to regain their mojo as China and the U.S. hold long-awaited trade negotiations in Washington.',\n",
       "   'url': 'https://www.cnbc.com/2019/10/04/dow-sp-500-will-try-to-snap-a-3-week-slide-as-trade-talks-kick-off.html',\n",
       "   'urlToImage': 'https://image.cnbcfm.com/api/v1/image/106141584-1569008787669gettyimages-1158663945.jpeg?v=1569008838',\n",
       "   'publishedAt': '2019-10-04T20:29:25Z',\n",
       "   'content': 'Stocks will try to regain their mojo as China and the U.S. hold long-awaited trade negotiations in Washington.\\r\\nThe Dow Jones Industrial Average dropped 0.9% this week while the S&amp;P 500 slid about 0.3%. Overall, the two averages posted their first three-w… [+3437 chars]'}]}"
      ]
     },
     "execution_count": 49,
     "metadata": {},
     "output_type": "execute_result"
    }
   ],
   "source": [
    "top_headlines"
   ]
  },
  {
   "cell_type": "code",
   "execution_count": null,
   "metadata": {},
   "outputs": [],
   "source": []
  }
 ],
 "metadata": {
  "kernelspec": {
   "display_name": "Python 3",
   "language": "python",
   "name": "python3"
  },
  "language_info": {
   "codemirror_mode": {
    "name": "ipython",
    "version": 3
   },
   "file_extension": ".py",
   "mimetype": "text/x-python",
   "name": "python",
   "nbconvert_exporter": "python",
   "pygments_lexer": "ipython3",
   "version": "3.7.3"
  }
 },
 "nbformat": 4,
 "nbformat_minor": 2
}

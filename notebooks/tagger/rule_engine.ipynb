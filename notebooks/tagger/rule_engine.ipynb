{
 "cells": [
  {
   "cell_type": "code",
   "execution_count": 6,
   "metadata": {
    "collapsed": true
   },
   "outputs": [],
   "source": [
    "import refinitiv"
   ]
  },
  {
   "cell_type": "code",
   "execution_count": 7,
   "metadata": {
    "collapsed": true
   },
   "outputs": [],
   "source": [
    "contentText = \"\"\"\n",
    "The beauty of being a private company is you get to make up your own value when you've run out of investors to pump in \n",
    "more cash. Vice is paying about $400 million of mostly stock for Refinery, a digital media company focused on women's fashion, \n",
    "beauty and entertainment. The only two companies that needed to agree on value with this deal are Vice and Refinery29. \n",
    "Perhaps Vice thinks Refinery29 is actually worth $100 million and Refinery29 thinks Vice is worth $900 million. That's OK. \n",
    "They just agreed to publicly inflate each other by 4x. The stock isn't traded on a public exchange. \n",
    "At this point, while the relative values are meaningful, the overall value is virtually meaningless. I live in florida, and texas was my birth place. \n",
    "I am very much interested in Morgan Stanley's stocks.\n",
    "\"\"\""
   ]
  },
  {
   "cell_type": "code",
   "execution_count": 8,
   "metadata": {
    "collapsed": false
   },
   "outputs": [],
   "source": [
    "result123=refinitiv.tag(url='https://api.thomsonreuters.com/permid/calais',api_key='1tuJRbkEEOJ5SyERevb9pk5oDDVjQ4AQ',content=contentText)"
   ]
  },
  {
   "cell_type": "code",
   "execution_count": 9,
   "metadata": {
    "collapsed": false
   },
   "outputs": [
    {
     "data": {
      "text/plain": [
       "{'currency': [],\n",
       " 'industry': [{'_type': 'IndustryTerm',\n",
       "   'name': 'digital media',\n",
       "   'relevance': '0.2'}],\n",
       " 'market_index': [],\n",
       " 'organization': [{'_type': 'Company',\n",
       "   'confidencelevel': '0.999',\n",
       "   'id': 'https://permid.org/1-4295904557',\n",
       "   'name': 'Morgan Stanley',\n",
       "   'permid': '4295904557',\n",
       "   'relevance': '0.2',\n",
       "   'score': '0.99496794',\n",
       "   'ticker': 'MS'},\n",
       "  {'_type': 'Company',\n",
       "   'confidencelevel': '0.47',\n",
       "   'id': 'https://permid.org/1-5037654092',\n",
       "   'name': 'Refinery29',\n",
       "   'permid': '5037654092',\n",
       "   'relevance': '0.2',\n",
       "   'score': '0.019700773'}],\n",
       " 'person': [],\n",
       " 'region': [],\n",
       " 'topic': [{'name': 'Business_Finance', 'score': '1'}]}"
      ]
     },
     "execution_count": 9,
     "metadata": {},
     "output_type": "execute_result"
    }
   ],
   "source": [
    "result123"
   ]
  },
  {
   "cell_type": "code",
   "execution_count": 10,
   "metadata": {
    "collapsed": false
   },
   "outputs": [
    {
     "data": {
      "text/plain": [
       "dict"
      ]
     },
     "execution_count": 10,
     "metadata": {},
     "output_type": "execute_result"
    }
   ],
   "source": [
    "type(result123)"
   ]
  },
  {
   "cell_type": "code",
   "execution_count": 13,
   "metadata": {
    "collapsed": false
   },
   "outputs": [],
   "source": [
    "import fuzzywuzzy"
   ]
  },
  {
   "cell_type": "code",
   "execution_count": 14,
   "metadata": {
    "collapsed": false
   },
   "outputs": [],
   "source": [
    "#finding relevance between 2 strings\n",
    "\n",
    "from fuzzywuzzy import fuzz \n",
    "from fuzzywuzzy import process \n"
   ]
  },
  {
   "cell_type": "code",
   "execution_count": 61,
   "metadata": {
    "collapsed": false
   },
   "outputs": [
    {
     "name": "stdout",
     "output_type": "stream",
     "text": [
      "Business_Finance 1\n",
      "Morgan Stanley 0.2\n",
      "Refinery29 0.2\n",
      "digital media 0.2\n",
      "{'Business_Finance': '1', 'Morgan Stanley': '0.2', 'Refinery29': '0.2', 'digital media': '0.2'}\n"
     ]
    }
   ],
   "source": [
    "#bring all the details in one array\n",
    "news_tags={}\n",
    "for key in result123.keys():\n",
    "    for val in result123[key]:\n",
    "        if 'relevance' in val.keys():\n",
    "            print(val['name'],val['relevance'])\n",
    "            news_tags[val['name']]=val['relevance']\n",
    "        else:\n",
    "            print(val['name'],val['score'])\n",
    "            news_tags[val['name']]=val['score']\n",
    "\n",
    "print(news_tags)\n",
    "        "
   ]
  },
  {
   "cell_type": "code",
   "execution_count": 67,
   "metadata": {
    "collapsed": false,
    "scrolled": true
   },
   "outputs": [
    {
     "name": "stdout",
     "output_type": "stream",
     "text": [
      "Illinois\n",
      "morgan\n",
      "Davis new york Venture\n",
      "ishare core high dividend etf\n",
      "ishare select high dividend etf\n",
      "fulton FinL corp PA\n",
      "client_tags ['Illinois', 'morgan', 'Davis new york Venture', 'ishare core high dividend etf', 'ishare select high dividend etf', 'fulton FinL corp PA']\n",
      "choices dict_keys(['Business_Finance', 'Morgan Stanley', 'Refinery29', 'digital media'])\n",
      "('Business_Finance', 34)\n",
      "didnot contribute to article relvance Business_Finance\n",
      "<class 'tuple'>\n",
      "('Morgan Stanley', 90)\n",
      "<class 'float'>\n",
      "<class 'float'>\n",
      "<class 'tuple'>\n",
      "('Morgan Stanley', 34)\n",
      "didnot contribute to article relvance Morgan Stanley\n",
      "<class 'tuple'>\n",
      "('digital media', 37)\n",
      "didnot contribute to article relvance digital media\n",
      "<class 'tuple'>\n",
      "('Morgan Stanley', 34)\n",
      "didnot contribute to article relvance Morgan Stanley\n",
      "<class 'tuple'>\n",
      "('Refinery29', 36)\n",
      "didnot contribute to article relvance Refinery29\n",
      "<class 'tuple'>\n",
      "0.18000000000000002\n"
     ]
    }
   ],
   "source": [
    "choices=news_tags.keys()\n",
    "client_tags=[]\n",
    "for key in client_data.keys():\n",
    "    print(client_data[key])\n",
    "    client_tags.append(client_data[key])\n",
    "print('client_tags',client_tags)\n",
    "print('choices',choices)\n",
    "total_relevance_of_article=0.0\n",
    "for tag in client_tags:\n",
    "    \n",
    "    match=process.extractOne(tag, choices)\n",
    "    print(match)\n",
    "    if match[1]>70:\n",
    "        news_tag_relevance=float(news_tags[match[0]])\n",
    "        print(type(match[1]/100))\n",
    "        print(type(news_tag_relevance))\n",
    "        total_relevance_of_article=total_relevance_of_article+(match[1]/100)*(news_tag_relevance)\n",
    "    else:\n",
    "        print('didnot contribute to article relvance', match[0])\n",
    "    print(type(process.extractOne(tag, choices)))\n",
    "print(total_relevance_of_article)\n",
    "#print(fuzz.WRatio(org['name'],client_data['residence']))"
   ]
  },
  {
   "cell_type": "code",
   "execution_count": 60,
   "metadata": {
    "collapsed": true
   },
   "outputs": [],
   "source": [
    "client_data={'residence':'Illinois', 'top1':'morgan','top2':'Davis new york Venture','top3':'ishare core high dividend etf','top4':'ishare select high dividend etf','top5':'fulton FinL corp PA'}"
   ]
  },
  {
   "cell_type": "code",
   "execution_count": null,
   "metadata": {
    "collapsed": true
   },
   "outputs": [],
   "source": [
    "def get_relevance(result123, client_data):\n",
    "    relevance=0\n",
    "    for i in result123[region]:\n",
    "        "
   ]
  },
  {
   "cell_type": "code",
   "execution_count": null,
   "metadata": {
    "collapsed": true
   },
   "outputs": [],
   "source": [
    "algorithm is as following:\n",
    "get list of news articles, get the client information\n",
    "Iterate through each article and \n",
    "for each news article, call tagger, "
   ]
  },
  {
   "cell_type": "code",
   "execution_count": 78,
   "metadata": {
    "collapsed": false
   },
   "outputs": [],
   "source": [
    "news_articles=[]\n",
    "news_article={}\n",
    "news_article['id']=\"article_123\"\n",
    "news_article['text']=\"\"\"Hong Kong’s embattled leader Carrie Lam said on Tuesday her administration had no plans to use colonial-era emergency powers to introduce new laws, after a long weekend of violent protests saw widespread defiance of a ban on face masks.\n",
    "    Despite the violence, and the first interaction between Chinese troops stationed in the territory and the protesters, Lam said Hong Kong was equipped to handle the situation on its own, as it braced for more demonstrations through the week.\n",
    "    Lam’s comments came as the Asian financial hub got back to work after the weekend, with its metro rail system only partially functioning and authorities warning residents they may have trouble commuting due to widespread vandalism of infrastructure.\n",
    "    Speaking at a weekly news conference, Lam said tourist numbers had fallen sharply and the impact on the city’s third quarter economic data of the protests, which have been going on for about four months, would “surely be very bad”.\n",
    "    She appealed to property developers and landlords to offer relief to retailers whose businesses had been hit. \n",
    "    “For the first six days of October, during the so-called Golden Week holiday, visitors visiting Hong Kong plunged over 50%,” she said. Retail, catering, tourism and hotels had been severely hit, with some 600,000 people affected, she added.\n",
    "    The protests, which show no sign of abating, pose the biggest popular challenge to Chinese President Xi Jinping since he came to power in 2012 and are Hong Kong’s thorniest political crisis since Britain returned it to China in 1997.\n",
    "    What started as opposition to a now-withdrawn extradition bill has grown into a pro-democracy movement against what is seen as Beijing’s increasing grip on the city, which protesters say undermines a “one country, two systems” formula promised when Hong Kong returned to Chinese rule in 1997.\n",
    "    China dismisses such accusations, saying foreign governments, including Britain and the United States, have fanned anti-China sentiment.\n",
    "    U.S. President Donald Trump said on Monday that if anything bad happened in Hong Kong it would be bad for the U.S.-China trade talks.\n",
    "    And an increasing number of U.S. lawmakers voiced anger on Monday over the National Basketball Association’s response to a Houston Rockets official’s tweet backing the protests.\n",
    "    Lam, who has said she must serve both the central government and the people of Hong Kong, was in Beijing last week for Oct. 1 National Day celebrations but said she did not meet any central government officials to discuss “business”.\n",
    "    Asked under what circumstances she would call upon Beijing for help to quell the protests, Lam said Hong Kong should be able to find solutions on its own to manage the crisis.\n",
    "    “I cannot tell you categorically now under what circumstances we will do extra things, including ... calling on the central government to help,” she said.updating\n",
    "    On Sunday, personnel inside a People’s Liberation Army barracks in the territory issued warnings to protesters who had shined laser pointers at the building. It was the first time the Chinese military had engaged with the demonstrators.\n",
    "    On Friday, Lam invoked the emergency powers for the first time in more than 50 years to outlaw face masks, which protesters have used to shield their identities.\n",
    "    But the move inflamed demonstrations over the weekend and thousands took to the streets wearing masks in defiance. Rallies  deteriorated into running clashes with police firing tear gas and charging with batons to disperse protesters across the city.\n",
    "    Two teenage protesters have been shot and wounded, one in the chest and the other in the leg, during skirmishes with police in some of the recent violence.\n",
    "    ATMs, Chinese banks and scores of shops were vandalized during protests over the long weekend. Many restaurants and malls closed early over what is typically a very busy holiday period.\n",
    "    Hong Kong’s metro, which carries about 5 million passengers a day, said on Tuesday some stations would not open for service because damaged facilities needed to be repaired. Train service would also end at 8 p.m. (1200 GMT), more than four hours earlier than normal.\n",
    "    MTR was forced to shut down in an unprecedented move after arson attacks on Friday night and only partially operated during the weekend, with protesters again setting stations ablaze and destroying ticketing machines. The closures largely paralyzed transportation.\n",
    "    Lam said it was too early to say whether the mask ban would be ineffective and urged youth not to participate in what she called political actions.\n",
    "    The anti-mask law is also applicable in schools and universities, with the Education Bureau asking secondary schools to inform how many students wear masks to school on Tuesday, the first day of classes since the ban was implemented.\n",
    "    Lam, who is due to give a policy address next week, said it would not be the “usual comprehensive” address due to her team’s preoccupation with the situation. She did not elaborate.\"\"\"\n",
    "news_article1={}\n",
    "news_article1['id']=\"article_456\"\n",
    "news_article1['text']=\"\"\"\n",
    "The beauty of being a private company is you get to make up your own value when you've run out of investors to pump in \n",
    "more cash. Vice is paying about $400 million of mostly stock for Refinery, a digital media company focused on women's fashion, \n",
    "beauty and entertainment. The only two companies that needed to agree on value with this deal are Vice and Refinery29. \n",
    "Perhaps Vice thinks Refinery29 is actually worth $100 million and Refinery29 thinks Vice is worth $900 million. That's OK. \n",
    "They just agreed to publicly inflate each other by 4x. The stock isn't traded on a public exchange. \n",
    "At this point, while the relative values are meaningful, the overall value is virtually meaningless. I live in florida, and texas was my birth place. \n",
    "I am very much interested in Morgan Stanley's stocks.\n",
    "\"\"\"\n",
    "news_articles.append(news_article1)\n",
    "news_articles.append(news_article)"
   ]
  },
  {
   "cell_type": "code",
   "execution_count": 96,
   "metadata": {
    "collapsed": false
   },
   "outputs": [
    {
     "name": "stdout",
     "output_type": "stream",
     "text": [
      "Illinois\n",
      "morgan\n",
      "Davis new york Venture\n",
      "ishare core high dividend etf\n",
      "ishare select high dividend etf\n",
      "fulton FinL corp PA\n",
      "Business_Finance 1\n",
      "Morgan Stanley 0.2\n",
      "Refinery29 0.2\n",
      "digital media 0.2\n",
      "{'Business_Finance': '1', 'Morgan Stanley': '0.2', 'Refinery29': '0.2', 'digital media': '0.2'}\n",
      "news_id article_456\n",
      "matching_choices dict_keys(['Business_Finance', 'Morgan Stanley', 'Refinery29', 'digital media'])\n",
      "('Business_Finance', 34)\n",
      "didnot contribute to article relvance Business_Finance\n",
      "<class 'tuple'>\n",
      "('Morgan Stanley', 90)\n",
      "<class 'float'>\n",
      "<class 'float'>\n",
      "<class 'tuple'>\n",
      "('Morgan Stanley', 34)\n",
      "didnot contribute to article relvance Morgan Stanley\n",
      "<class 'tuple'>\n",
      "('digital media', 37)\n",
      "didnot contribute to article relvance digital media\n",
      "<class 'tuple'>\n",
      "('Morgan Stanley', 34)\n",
      "didnot contribute to article relvance Morgan Stanley\n",
      "<class 'tuple'>\n",
      "('Refinery29', 36)\n",
      "didnot contribute to article relvance Refinery29\n",
      "<class 'tuple'>\n",
      "0.18000000000000002\n",
      "Politics 0.767\n",
      "War_Conflict 0.516\n",
      "United Kingdom 0.2\n",
      "China 0.2\n",
      "United States 0.2\n",
      "Beijing 0.2\n",
      "Hong Kong 0.2\n",
      "Chinese military 0.2\n",
      "Liberation Army 0.2\n",
      "Education Bureau 0.2\n",
      "Houston Rockets 0.2\n",
      "National Basketball Association 0.2\n",
      "ATMs 0.2\n",
      "Carrie Lam 0.8\n",
      "Xi Jinping 0.2\n",
      "Donald Trump 0.2\n",
      "anti-mask law 0.2\n",
      "paralyzed transportation 0.2\n",
      "{'Politics': '0.767', 'War_Conflict': '0.516', 'United Kingdom': '0.2', 'China': '0.2', 'United States': '0.2', 'Beijing': '0.2', 'Hong Kong': '0.2', 'Chinese military': '0.2', 'Liberation Army': '0.2', 'Education Bureau': '0.2', 'Houston Rockets': '0.2', 'National Basketball Association': '0.2', 'ATMs': '0.2', 'Carrie Lam': '0.8', 'Xi Jinping': '0.2', 'Donald Trump': '0.2', 'anti-mask law': '0.2', 'paralyzed transportation': '0.2'}\n",
      "news_id article_123\n",
      "matching_choices dict_keys(['Politics', 'War_Conflict', 'United Kingdom', 'China', 'United States', 'Beijing', 'Hong Kong', 'Chinese military', 'Liberation Army', 'Education Bureau', 'Houston Rockets', 'National Basketball Association', 'ATMs', 'Carrie Lam', 'Xi Jinping', 'Donald Trump', 'anti-mask law', 'paralyzed transportation'])\n",
      "('Politics', 50)\n",
      "didnot contribute to article relvance Politics\n",
      "<class 'tuple'>\n",
      "('paralyzed transportation', 45)\n",
      "didnot contribute to article relvance paralyzed transportation\n",
      "<class 'tuple'>\n",
      "('ATMs', 45)\n",
      "didnot contribute to article relvance ATMs\n",
      "<class 'tuple'>\n",
      "('Donald Trump', 45)\n",
      "didnot contribute to article relvance Donald Trump\n",
      "<class 'tuple'>\n",
      "('China', 54)\n",
      "didnot contribute to article relvance China\n",
      "<class 'tuple'>\n",
      "('Hong Kong', 40)\n",
      "didnot contribute to article relvance Hong Kong\n",
      "<class 'tuple'>\n",
      "0.0\n",
      "relevance_list [{'id': 'article_456', 'relevance': 0.18000000000000002}, {'id': 'article_123', 'relevance': 0.0}]\n",
      "[{'id': 'article_456', 'relevance': 0.18000000000000002}, {'id': 'article_123', 'relevance': 0.0}]\n"
     ]
    }
   ],
   "source": [
    "#testing function getRelevantNewsArticles \n",
    "relevance_list=getRelevantNewsArticles(news_articles,client_data)\n",
    "print('relevance_list',relevance_list)\n",
    "print(sorted(relevance_list, key = lambda x : x['relevance'],reverse=True))\n"
   ]
  },
  {
   "cell_type": "code",
   "execution_count": 87,
   "metadata": {
    "collapsed": true
   },
   "outputs": [],
   "source": [
    "def getRelevantNewsArticles(news_articles,client_data):\n",
    "    client_tags=getClientProfile(client_data)\n",
    "    news_relevance_list=[]\n",
    "    \n",
    "    for news in news_articles:\n",
    "        news_relevance={}\n",
    "        news_relevance['id']=news['id']\n",
    "        news_tags=getNewstagswithRelevance(news['text'])\n",
    "        matching_choices=news_tags.keys()\n",
    "        print('news_id',news['id'])\n",
    "        print('matching_choices',matching_choices)\n",
    "        total_relevance_of_article=0.0\n",
    "        for tag in client_tags:\n",
    "    \n",
    "            match=process.extractOne(tag, matching_choices)\n",
    "            print(match)\n",
    "            if match[1]>70:\n",
    "                news_tag_relevance=float(news_tags[match[0]])\n",
    "                print(type(match[1]/100))\n",
    "                print(type(news_tag_relevance))\n",
    "                total_relevance_of_article=total_relevance_of_article+(match[1]/100)*(news_tag_relevance)\n",
    "            else:\n",
    "                print('didnot contribute to article relvance', match[0])\n",
    "            print(type(process.extractOne(tag, choices)))\n",
    "        news_relevance['relevance']=total_relevance_of_article\n",
    "        news_relevance_list.append(news_relevance)\n",
    "        print(total_relevance_of_article)\n",
    "    return news_relevance_list"
   ]
  },
  {
   "cell_type": "code",
   "execution_count": 89,
   "metadata": {
    "collapsed": true
   },
   "outputs": [],
   "source": [
    "def getClientProfile(client_data):\n",
    "    client_tags=[]\n",
    "    for key in client_data.keys():\n",
    "        print(client_data[key])\n",
    "        client_tags.append(client_data[key])\n",
    "    return client_tags"
   ]
  },
  {
   "cell_type": "code",
   "execution_count": 91,
   "metadata": {
    "collapsed": true
   },
   "outputs": [],
   "source": [
    "#captures all news tags and relevance in dict\n",
    "def getNewstagswithRelevance(data):\n",
    "    result=refinitiv.tag(url='https://api.thomsonreuters.com/permid/calais',api_key='1tuJRbkEEOJ5SyERevb9pk5oDDVjQ4AQ',content=data)\n",
    "    #bring all the details in one array\n",
    "    news_tags={}\n",
    "    for key in result.keys():\n",
    "        for val in result[key]:\n",
    "            if 'relevance' in val.keys():\n",
    "                print(val['name'],val['relevance'])\n",
    "                news_tags[val['name']]=val['relevance']\n",
    "            else:\n",
    "                print(val['name'],val['score'])\n",
    "                news_tags[val['name']]=val['score']\n",
    "\n",
    "    print(news_tags)\n",
    "    return news_tags"
   ]
  },
  {
   "cell_type": "code",
   "execution_count": null,
   "metadata": {
    "collapsed": true
   },
   "outputs": [],
   "source": [
    "#what if we get same relevance artilces?\n",
    "\n"
   ]
  }
 ],
 "metadata": {
  "kernelspec": {
   "display_name": "Python 3",
   "language": "python",
   "name": "python3"
  }
 },
 "nbformat": 4,
 "nbformat_minor": 2
}

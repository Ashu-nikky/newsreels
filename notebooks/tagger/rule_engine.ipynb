{
 "cells": [
  {
   "cell_type": "code",
   "execution_count": 1,
   "metadata": {},
   "outputs": [],
   "source": [
    "import sys"
   ]
  },
  {
   "cell_type": "code",
   "execution_count": 2,
   "metadata": {},
   "outputs": [],
   "source": [
    "import os"
   ]
  },
  {
   "cell_type": "code",
   "execution_count": 3,
   "metadata": {},
   "outputs": [],
   "source": [
    "import pandas"
   ]
  },
  {
   "cell_type": "code",
   "execution_count": 4,
   "metadata": {},
   "outputs": [],
   "source": [
    "from pandas import read_excel"
   ]
  },
  {
   "cell_type": "code",
   "execution_count": 5,
   "metadata": {},
   "outputs": [],
   "source": [
    "sys.path.append(\"../../newsreels/tagger/\")"
   ]
  },
  {
   "cell_type": "code",
   "execution_count": 6,
   "metadata": {},
   "outputs": [],
   "source": [
    "import refinitiv"
   ]
  },
  {
   "cell_type": "code",
   "execution_count": null,
   "metadata": {},
   "outputs": [],
   "source": [
    "contentText = \"\"\"\n",
    "The beauty of being a private company is you get to make up your own value when you've run out of investors to pump in \n",
    "more cash. Vice is paying about $400 million of mostly stock for Refinery, a digital media company focused on women's fashion, \n",
    "beauty and entertainment. The only two companies that needed to agree on value with this deal are Vice and Refinery29. \n",
    "Perhaps Vice thinks Refinery29 is actually worth $100 million and Refinery29 thinks Vice is worth $900 million. That's OK. \n",
    "They just agreed to publicly inflate each other by 4x. The stock isn't traded on a public exchange. \n",
    "At this point, while the relative values are meaningful, the overall value is virtually meaningless. I live in florida, and texas was my birth place. \n",
    "I am very much interested in Morgan Stanley's stocks.\n",
    "\"\"\""
   ]
  },
  {
   "cell_type": "code",
   "execution_count": null,
   "metadata": {},
   "outputs": [],
   "source": [
    "result123=refinitiv.tag(url='https://api.thomsonreuters.com/permid/calais',api_key='1tuJRbkEEOJ5SyERevb9pk5oDDVjQ4AQ',content=contentText)"
   ]
  },
  {
   "cell_type": "code",
   "execution_count": null,
   "metadata": {},
   "outputs": [],
   "source": [
    "result123"
   ]
  },
  {
   "cell_type": "code",
   "execution_count": null,
   "metadata": {},
   "outputs": [],
   "source": [
    "type(result123)"
   ]
  },
  {
   "cell_type": "code",
   "execution_count": 13,
   "metadata": {},
   "outputs": [],
   "source": [
    "import fuzzywuzzy"
   ]
  },
  {
   "cell_type": "code",
   "execution_count": 12,
   "metadata": {},
   "outputs": [
    {
     "name": "stderr",
     "output_type": "stream",
     "text": [
      "C:\\ProgramData\\Anaconda3\\lib\\site-packages\\fuzzywuzzy\\fuzz.py:11: UserWarning: Using slow pure-python SequenceMatcher. Install python-Levenshtein to remove this warning\n",
      "  warnings.warn('Using slow pure-python SequenceMatcher. Install python-Levenshtein to remove this warning')\n"
     ]
    }
   ],
   "source": [
    "#finding relevance between 2 strings\n",
    "\n",
    "from fuzzywuzzy import fuzz \n",
    "from fuzzywuzzy import process \n"
   ]
  },
  {
   "cell_type": "code",
   "execution_count": null,
   "metadata": {},
   "outputs": [],
   "source": [
    "#bring all the details in one array\n",
    "news_tags={}\n",
    "for key in result123.keys():\n",
    "    for val in result123[key]:\n",
    "        if 'relevance' in val.keys():\n",
    "            print(val['name'],val['relevance'])\n",
    "            news_tags[val['name']]=val['relevance']\n",
    "        else:\n",
    "            print(val['name'],val['score'])\n",
    "            news_tags[val['name']]=val['score']\n",
    "\n",
    "print(news_tags)\n",
    "        "
   ]
  },
  {
   "cell_type": "code",
   "execution_count": null,
   "metadata": {
    "scrolled": true
   },
   "outputs": [],
   "source": [
    "choices=news_tags.keys()\n",
    "client_tags=[]\n",
    "for key in client_data.keys():\n",
    "    print(client_data[key])\n",
    "    client_tags.append(client_data[key])\n",
    "print('client_tags',client_tags)\n",
    "print('choices',choices)\n",
    "total_relevance_of_article=0.0\n",
    "for tag in client_tags:\n",
    "    \n",
    "    match=process.extractOne(tag, choices)\n",
    "    print(match)\n",
    "    if match[1]>70:\n",
    "        news_tag_relevance=float(news_tags[match[0]])\n",
    "        print(type(match[1]/100))\n",
    "        print(type(news_tag_relevance))\n",
    "        total_relevance_of_article=total_relevance_of_article+(match[1]/100)*(news_tag_relevance)\n",
    "    else:\n",
    "        print('didnot contribute to article relvance', match[0])\n",
    "    print(type(process.extractOne(tag, choices)))\n",
    "print(total_relevance_of_article)\n",
    "#print(fuzz.WRatio(org['name'],client_data['residence']))"
   ]
  },
  {
   "cell_type": "code",
   "execution_count": null,
   "metadata": {},
   "outputs": [],
   "source": [
    "client_data={'residence':'Illinois', 'top1':'morgan','top2':'Davis new york Venture','top3':'ishare core high dividend etf','top4':'ishare select high dividend etf','top5':'fulton FinL corp PA'}"
   ]
  },
  {
   "cell_type": "code",
   "execution_count": null,
   "metadata": {},
   "outputs": [],
   "source": [
    "def get_relevance(result123, client_data):\n",
    "    relevance=0\n",
    "    for i in result123[region]:\n",
    "        "
   ]
  },
  {
   "cell_type": "code",
   "execution_count": null,
   "metadata": {},
   "outputs": [],
   "source": [
    "algorithm is as following:\n",
    "get list of news articles, get the client information\n",
    "Iterate through each article and \n",
    "for each news article, call tagger, "
   ]
  },
  {
   "cell_type": "code",
   "execution_count": null,
   "metadata": {},
   "outputs": [],
   "source": [
    "news_articles=[]\n",
    "news_article={}\n",
    "news_article['id']=\"article_123\"\n",
    "news_article['text']=\"\"\"Hong Kong’s embattled leader Carrie Lam said on Tuesday her administration had no plans to use colonial-era emergency powers to introduce new laws, after a long weekend of violent protests saw widespread defiance of a ban on face masks.\n",
    "    Despite the violence, and the first interaction between Chinese troops stationed in the territory and the protesters, Lam said Hong Kong was equipped to handle the situation on its own, as it braced for more demonstrations through the week.\n",
    "    Lam’s comments came as the Asian financial hub got back to work after the weekend, with its metro rail system only partially functioning and authorities warning residents they may have trouble commuting due to widespread vandalism of infrastructure.\n",
    "    Speaking at a weekly news conference, Lam said tourist numbers had fallen sharply and the impact on the city’s third quarter economic data of the protests, which have been going on for about four months, would “surely be very bad”.\n",
    "    She appealed to property developers and landlords to offer relief to retailers whose businesses had been hit. \n",
    "    “For the first six days of October, during the so-called Golden Week holiday, visitors visiting Hong Kong plunged over 50%,” she said. Retail, catering, tourism and hotels had been severely hit, with some 600,000 people affected, she added.\n",
    "    The protests, which show no sign of abating, pose the biggest popular challenge to Chinese President Xi Jinping since he came to power in 2012 and are Hong Kong’s thorniest political crisis since Britain returned it to China in 1997.\n",
    "    What started as opposition to a now-withdrawn extradition bill has grown into a pro-democracy movement against what is seen as Beijing’s increasing grip on the city, which protesters say undermines a “one country, two systems” formula promised when Hong Kong returned to Chinese rule in 1997.\n",
    "    China dismisses such accusations, saying foreign governments, including Britain and the United States, have fanned anti-China sentiment.\n",
    "    U.S. President Donald Trump said on Monday that if anything bad happened in Hong Kong it would be bad for the U.S.-China trade talks.\n",
    "    And an increasing number of U.S. lawmakers voiced anger on Monday over the National Basketball Association’s response to a Houston Rockets official’s tweet backing the protests.\n",
    "    Lam, who has said she must serve both the central government and the people of Hong Kong, was in Beijing last week for Oct. 1 National Day celebrations but said she did not meet any central government officials to discuss “business”.\n",
    "    Asked under what circumstances she would call upon Beijing for help to quell the protests, Lam said Hong Kong should be able to find solutions on its own to manage the crisis.\n",
    "    “I cannot tell you categorically now under what circumstances we will do extra things, including ... calling on the central government to help,” she said.updating\n",
    "    On Sunday, personnel inside a People’s Liberation Army barracks in the territory issued warnings to protesters who had shined laser pointers at the building. It was the first time the Chinese military had engaged with the demonstrators.\n",
    "    On Friday, Lam invoked the emergency powers for the first time in more than 50 years to outlaw face masks, which protesters have used to shield their identities.\n",
    "    But the move inflamed demonstrations over the weekend and thousands took to the streets wearing masks in defiance. Rallies  deteriorated into running clashes with police firing tear gas and charging with batons to disperse protesters across the city.\n",
    "    Two teenage protesters have been shot and wounded, one in the chest and the other in the leg, during skirmishes with police in some of the recent violence.\n",
    "    ATMs, Chinese banks and scores of shops were vandalized during protests over the long weekend. Many restaurants and malls closed early over what is typically a very busy holiday period.\n",
    "    Hong Kong’s metro, which carries about 5 million passengers a day, said on Tuesday some stations would not open for service because damaged facilities needed to be repaired. Train service would also end at 8 p.m. (1200 GMT), more than four hours earlier than normal.\n",
    "    MTR was forced to shut down in an unprecedented move after arson attacks on Friday night and only partially operated during the weekend, with protesters again setting stations ablaze and destroying ticketing machines. The closures largely paralyzed transportation.\n",
    "    Lam said it was too early to say whether the mask ban would be ineffective and urged youth not to participate in what she called political actions.\n",
    "    The anti-mask law is also applicable in schools and universities, with the Education Bureau asking secondary schools to inform how many students wear masks to school on Tuesday, the first day of classes since the ban was implemented.\n",
    "    Lam, who is due to give a policy address next week, said it would not be the “usual comprehensive” address due to her team’s preoccupation with the situation. She did not elaborate.\"\"\"\n",
    "news_article1={}\n",
    "news_article1['id']=\"article_456\"\n",
    "news_article1['text']=\"\"\"\n",
    "The beauty of being a private company is you get to make up your own value when you've run out of investors to pump in \n",
    "more cash. Vice is paying about $400 million of mostly stock for Refinery, a digital media company focused on women's fashion, \n",
    "beauty and entertainment. The only two companies that needed to agree on value with this deal are Vice and Refinery29. \n",
    "Perhaps Vice thinks Refinery29 is actually worth $100 million and Refinery29 thinks Vice is worth $900 million. That's OK. \n",
    "They just agreed to publicly inflate each other by 4x. The stock isn't traded on a public exchange. \n",
    "At this point, while the relative values are meaningful, the overall value is virtually meaningless. I live in florida, and texas was my birth place. \n",
    "I am very much interested in Morgan Stanley's stocks.\n",
    "\"\"\"\n",
    "news_articles.append(news_article1)\n",
    "news_articles.append(news_article)"
   ]
  },
  {
   "cell_type": "code",
   "execution_count": 32,
   "metadata": {
    "scrolled": true
   },
   "outputs": [
    {
     "name": "stderr",
     "output_type": "stream",
     "text": [
      "C:\\ProgramData\\Anaconda3\\lib\\site-packages\\ipykernel_launcher.py:2: DeprecationWarning: \n",
      ".ix is deprecated. Please use\n",
      ".loc for label based indexing or\n",
      ".iloc for positional indexing\n",
      "\n",
      "See the documentation here:\n",
      "http://pandas.pydata.org/pandas-docs/stable/indexing.html#ix-indexer-is-deprecated\n",
      "  \n"
     ]
    },
    {
     "name": "stdout",
     "output_type": "stream",
     "text": [
      "california\n",
      "wells fargo st muni BD INS\n",
      "Amer cent INC\n",
      "JANUS HENDERSON INTL\n",
      "American gw fd americal f2\n",
      "bank deposit program\n",
      "Politics 0.767\n",
      "War_Conflict 0.516\n",
      "United Kingdom 0.2\n",
      "China 0.2\n",
      "United States 0.2\n",
      "Beijing 0.2\n",
      "Hong Kong 0.2\n",
      "Chinese military 0.2\n",
      "Liberation Army 0.2\n",
      "Education Bureau 0.2\n",
      "Houston Rockets 0.2\n",
      "National Basketball Association 0.2\n",
      "ATMs 0.2\n",
      "Carrie Lam 0.8\n",
      "Xi Jinping 0.2\n",
      "Donald Trump 0.2\n",
      "anti-mask law 0.2\n",
      "paralyzed transportation 0.2\n",
      "{'Politics': '0.767', 'War_Conflict': '0.516', 'United Kingdom': '0.2', 'China': '0.2', 'United States': '0.2', 'Beijing': '0.2', 'Hong Kong': '0.2', 'Chinese military': '0.2', 'Liberation Army': '0.2', 'Education Bureau': '0.2', 'Houston Rockets': '0.2', 'National Basketball Association': '0.2', 'ATMs': '0.2', 'Carrie Lam': '0.8', 'Xi Jinping': '0.2', 'Donald Trump': '0.2', 'anti-mask law': '0.2', 'paralyzed transportation': '0.2'}\n",
      "news_id article_20191008_045842\n",
      "matching_choices dict_keys(['Politics', 'War_Conflict', 'United Kingdom', 'China', 'United States', 'Beijing', 'Hong Kong', 'Chinese military', 'Liberation Army', 'Education Bureau', 'Houston Rockets', 'National Basketball Association', 'ATMs', 'Carrie Lam', 'Xi Jinping', 'Donald Trump', 'anti-mask law', 'paralyzed transportation'])\n",
      "('Education Bureau', 53)\n",
      "('United Kingdom', 52)\n",
      "('ATMs', 45)\n",
      "('ATMs', 45)\n",
      "('ATMs', 45)\n",
      "('ATMs', 51)\n",
      "0.0\n",
      "Business_Finance 1\n",
      "United States 0.8\n",
      "Beijing 0.2\n",
      "China 0.2\n",
      "CEBM Group 0.2\n",
      "National Bureau of Statistics 0.2\n",
      "Zhong Zhengsheng 0.2\n",
      "manufacturing sector 0.2\n",
      "manufacturing 0.2\n",
      "composite manufacturing 0.2\n",
      "{'Business_Finance': '1', 'United States': '0.8', 'Beijing': '0.2', 'China': '0.2', 'CEBM Group': '0.2', 'National Bureau of Statistics': '0.2', 'Zhong Zhengsheng': '0.2', 'manufacturing sector': '0.2', 'manufacturing': '0.2', 'composite manufacturing': '0.2'}\n",
      "news_id article_20191008_045901\n",
      "matching_choices dict_keys(['Business_Finance', 'United States', 'Beijing', 'China', 'CEBM Group', 'National Bureau of Statistics', 'Zhong Zhengsheng', 'manufacturing sector', 'manufacturing', 'composite manufacturing'])\n",
      "('China', 36)\n",
      "('United States', 47)\n",
      "('Beijing', 39)\n",
      "('Zhong Zhengsheng', 39)\n",
      "('Beijing', 39)\n",
      "('composite manufacturing', 37)\n",
      "0.0\n",
      "Business_Finance 1\n",
      "Beijing 0.2\n",
      "London 0.2\n",
      "BOCOM INTERNATIONAL 0.2\n",
      "Refinitiv 0.8\n",
      "Hong Kong Exchanges and Clearing 0.2\n",
      "China Galaxy Securities 0\n",
      "Thomson Reuters 0.2\n",
      "THE LONDON METAL EXCHANGE 0\n",
      "London Stock Exchange Group 0.8\n",
      "Reuters 0.2\n",
      "HKEX 0.2\n",
      "Chi Man Wong 0.2\n",
      "Charles Li 0.2\n",
      "Hao Hong 0.2\n",
      "exchange operator 0.2\n",
      "HANG SENG INDEX 0.8\n",
      "{'Business_Finance': '1', 'Beijing': '0.2', 'London': '0.2', 'BOCOM INTERNATIONAL': '0.2', 'Refinitiv': '0.8', 'Hong Kong Exchanges and Clearing': '0.2', 'China Galaxy Securities': '0', 'Thomson Reuters': '0.2', 'THE LONDON METAL EXCHANGE': '0', 'London Stock Exchange Group': '0.8', 'Reuters': '0.2', 'HKEX': '0.2', 'Chi Man Wong': '0.2', 'Charles Li': '0.2', 'Hao Hong': '0.2', 'exchange operator': '0.2', 'HANG SENG INDEX': '0.8'}\n",
      "news_id article_20191008_045912\n",
      "matching_choices dict_keys(['Business_Finance', 'Beijing', 'London', 'BOCOM INTERNATIONAL', 'Refinitiv', 'Hong Kong Exchanges and Clearing', 'China Galaxy Securities', 'Thomson Reuters', 'THE LONDON METAL EXCHANGE', 'London Stock Exchange Group', 'Reuters', 'HKEX', 'Chi Man Wong', 'Charles Li', 'Hao Hong', 'exchange operator', 'HANG SENG INDEX'])\n",
      "('London', 45)\n",
      "('Hao Hong', 43)\n",
      "('HANG SENG INDEX', 50)\n",
      "('Reuters', 51)\n",
      "('exchange operator', 42)\n",
      "('HANG SENG INDEX', 38)\n",
      "0.0\n",
      "Business_Finance 0.983\n",
      "Shenzhen 0.2\n",
      "Asia 0.2\n",
      "Shanghai 0.2\n",
      "Hangzhou Hikvision 0.2\n",
      "Japan 0.2\n",
      "United States 0.2\n",
      "Beijing 0.2\n",
      "Australia 0.2\n",
      "Washington 0.2\n",
      "China 0.8\n",
      "South Korea 0.2\n",
      "Mizuho Bank 0.2\n",
      "SenseTime Group 0.2\n",
      "J.P. Morgan 0\n",
      "Federal Government 0.2\n",
      "HANGZHOU HIKVISION 0.2\n",
      "Westpac 0.2\n",
      "Samsung 0.2\n",
      "Commonwealth Bank 0.2\n",
      "ANZ 0.2\n",
      "IFLYTEK 0.2\n",
      "Huawei 0.2\n",
      "Zhejiang Dahua Technology 0.2\n",
      "Reuters 0\n",
      "National Australia Bank 0.2\n",
      "U.S. Commerce Department 0.2\n",
      "Rahul Khare 0.2\n",
      "Vishnu Varathan 0.2\n",
      "5G technology 0.2\n",
      "Oil prices 0.2\n",
      "KOREA SE KOSPI INDEX 0.8\n",
      "HANG SENG INDEX 0.8\n",
      "S&P/ASX 200 0.8\n",
      "SHENZHEN SE COMPOSITE INDEX 0.8\n",
      "NIKKEI 225 INDEX 0.8\n",
      "TOPIX STOCK PRICE INDEX 0.8\n",
      "SHANGHAI SE COMPOSITE INDEX 0.8\n",
      "{'Business_Finance': '0.983', 'Shenzhen': '0.2', 'Asia': '0.2', 'Shanghai': '0.2', 'Hangzhou Hikvision': '0.2', 'Japan': '0.2', 'United States': '0.2', 'Beijing': '0.2', 'Australia': '0.2', 'Washington': '0.2', 'China': '0.8', 'South Korea': '0.2', 'Mizuho Bank': '0.2', 'SenseTime Group': '0.2', 'J.P. Morgan': '0', 'Federal Government': '0.2', 'HANGZHOU HIKVISION': '0.2', 'Westpac': '0.2', 'Samsung': '0.2', 'Commonwealth Bank': '0.2', 'ANZ': '0.2', 'IFLYTEK': '0.2', 'Huawei': '0.2', 'Zhejiang Dahua Technology': '0.2', 'Reuters': '0', 'National Australia Bank': '0.2', 'U.S. Commerce Department': '0.2', 'Rahul Khare': '0.2', 'Vishnu Varathan': '0.2', '5G technology': '0.2', 'Oil prices': '0.2', 'KOREA SE KOSPI INDEX': '0.8', 'HANG SENG INDEX': '0.8', 'S&P/ASX 200': '0.8', 'SHENZHEN SE COMPOSITE INDEX': '0.8', 'NIKKEI 225 INDEX': '0.8', 'TOPIX STOCK PRICE INDEX': '0.8', 'SHANGHAI SE COMPOSITE INDEX': '0.8'}\n",
      "news_id article_20191008_045922\n",
      "matching_choices dict_keys(['Business_Finance', 'Shenzhen', 'Asia', 'Shanghai', 'Hangzhou Hikvision', 'Japan', 'United States', 'Beijing', 'Australia', 'Washington', 'China', 'South Korea', 'Mizuho Bank', 'SenseTime Group', 'J.P. Morgan', 'Federal Government', 'HANGZHOU HIKVISION', 'Westpac', 'Samsung', 'Commonwealth Bank', 'ANZ', 'IFLYTEK', 'Huawei', 'Zhejiang Dahua Technology', 'Reuters', 'National Australia Bank', 'U.S. Commerce Department', 'Rahul Khare', 'Vishnu Varathan', '5G technology', 'Oil prices', 'KOREA SE KOSPI INDEX', 'HANG SENG INDEX', 'S&P/ASX 200', 'SHENZHEN SE COMPOSITE INDEX', 'NIKKEI 225 INDEX', 'TOPIX STOCK PRICE INDEX', 'SHANGHAI SE COMPOSITE INDEX'])\n",
      "('Asia', 45)\n",
      "('Samsung', 51)\n",
      "('HANG SENG INDEX', 50)\n",
      "('ANZ', 60)\n",
      "('J.P. Morgan', 51)\n",
      "('Mizuho Bank', 86)\n",
      "0.86\n",
      "0.2\n",
      "0.17200000000000001\n",
      "Business_Finance 0.986\n",
      "Technology_Internet 0.541\n",
      "refinitiv 0.2\n",
      "Samsung Electronics 0.8\n",
      "CLSA 0\n",
      "Samsung Electronics 0.2\n",
      "Sanjeev Rana 0.2\n",
      "memory chips 0.2\n",
      "tech giant 0.2\n",
      "{'Business_Finance': '0.986', 'Technology_Internet': '0.541', 'refinitiv': '0.2', 'Samsung Electronics': '0.2', 'CLSA': '0', 'Sanjeev Rana': '0.2', 'memory chips': '0.2', 'tech giant': '0.2'}\n",
      "news_id article_20191008_045933\n",
      "matching_choices dict_keys(['Business_Finance', 'Technology_Internet', 'refinitiv', 'Samsung Electronics', 'CLSA', 'Sanjeev Rana', 'memory chips', 'tech giant'])\n",
      "('CLSA', 45)\n",
      "('CLSA', 49)\n",
      "('memory chips', 48)\n",
      "('Samsung Electronics', 46)\n",
      "('CLSA', 45)\n",
      "('Samsung Electronics', 36)\n",
      "0.0\n",
      "Business_Finance 1\n",
      "United States 0.2\n",
      "China 0.2\n",
      "RingCentral 0.2\n",
      "Trump administration 0.2\n",
      "New Relic 0.2\n",
      "Instagram 0\n",
      "White House 0.2\n",
      "Disney 0.5\n",
      "Avaya Holdings 0.5\n",
      "US Federal Reserve 0.2\n",
      "Costco Wholesale 0.2\n",
      "Facebook 0\n",
      "CEDAR FAIR 0.5\n",
      "Six Flags Entertainment 0.2\n",
      "Leidos Holdings 0.2\n",
      "Vlad Shmunis 0.2\n",
      "Jim Cramer Twitter 0.2\n",
      "Jim Cramer 0.8\n",
      "Bob Iger 0.2\n",
      "cloud communications 0.2\n",
      "established international partner network 0.2\n",
      "telecommunications gear 0.2\n",
      "cloud-based communications 0.2\n",
      "{'Business_Finance': '1', 'United States': '0.2', 'China': '0.2', 'RingCentral': '0.2', 'Trump administration': '0.2', 'New Relic': '0.2', 'Instagram': '0', 'White House': '0.2', 'Disney': '0.5', 'Avaya Holdings': '0.5', 'US Federal Reserve': '0.2', 'Costco Wholesale': '0.2', 'Facebook': '0', 'CEDAR FAIR': '0.5', 'Six Flags Entertainment': '0.2', 'Leidos Holdings': '0.2', 'Vlad Shmunis': '0.2', 'Jim Cramer Twitter': '0.2', 'Jim Cramer': '0.8', 'Bob Iger': '0.2', 'cloud communications': '0.2', 'established international partner network': '0.2', 'telecommunications gear': '0.2', 'cloud-based communications': '0.2'}\n",
      "news_id article_20191008_045945\n",
      "matching_choices dict_keys(['Business_Finance', 'United States', 'China', 'RingCentral', 'Trump administration', 'New Relic', 'Instagram', 'White House', 'Disney', 'Avaya Holdings', 'US Federal Reserve', 'Costco Wholesale', 'Facebook', 'CEDAR FAIR', 'Six Flags Entertainment', 'Leidos Holdings', 'Vlad Shmunis', 'Jim Cramer Twitter', 'Jim Cramer', 'Bob Iger', 'cloud communications', 'established international partner network', 'telecommunications gear', 'cloud-based communications'])\n",
      "('cloud communications', 53)\n",
      "('Vlad Shmunis', 52)\n",
      "('Six Flags Entertainment', 49)\n",
      "('Six Flags Entertainment', 47)\n",
      "('Jim Cramer', 51)\n",
      "('Instagram', 50)\n",
      "0.0\n"
     ]
    },
    {
     "name": "stdout",
     "output_type": "stream",
     "text": [
      "Business_Finance 0.573\n",
      "America 0.2\n",
      "Tennessee 0.2\n",
      "France 0.2\n",
      "Japan 0.8\n",
      "United States 0.8\n",
      "Canada 0.8\n",
      "Australia 0.2\n",
      "Pacific Rim 0.2\n",
      "China 0.2\n",
      "Mexico 0.2\n",
      "New Zealand 0.2\n",
      "Trans-Pacific Partnership 0.2\n",
      "California Rice Commission 0.2\n",
      "European Union 0.2\n",
      "Center for Strategic and International Studies in Washington 0.2\n",
      "Wine Institute 0.2\n",
      "Wine Institute 0.2\n",
      "Matthew Goodman 0.2\n",
      "Tim Johnson 0.2\n",
      "Donald Trump 0.2\n",
      "Shinzo Abe 0.8\n",
      "open internet rules 0.2\n",
      "e-commerce rules 0.2\n",
      "dairy products 0.2\n",
      "agricultural products 0.2\n",
      "propane gas 0.2\n",
      "Cloud computing 0.2\n",
      "financial technologies 0.2\n",
      "semiconductor manufacturing equipment 0.2\n",
      "{'Business_Finance': '0.573', 'America': '0.2', 'Tennessee': '0.2', 'France': '0.2', 'Japan': '0.8', 'United States': '0.8', 'Canada': '0.8', 'Australia': '0.2', 'Pacific Rim': '0.2', 'China': '0.2', 'Mexico': '0.2', 'New Zealand': '0.2', 'Trans-Pacific Partnership': '0.2', 'California Rice Commission': '0.2', 'European Union': '0.2', 'Center for Strategic and International Studies in Washington': '0.2', 'Wine Institute': '0.2', 'Matthew Goodman': '0.2', 'Tim Johnson': '0.2', 'Donald Trump': '0.2', 'Shinzo Abe': '0.8', 'open internet rules': '0.2', 'e-commerce rules': '0.2', 'dairy products': '0.2', 'agricultural products': '0.2', 'propane gas': '0.2', 'Cloud computing': '0.2', 'financial technologies': '0.2', 'semiconductor manufacturing equipment': '0.2'}\n",
      "news_id article_20191008_045955\n",
      "matching_choices dict_keys(['Business_Finance', 'America', 'Tennessee', 'France', 'Japan', 'United States', 'Canada', 'Australia', 'Pacific Rim', 'China', 'Mexico', 'New Zealand', 'Trans-Pacific Partnership', 'California Rice Commission', 'European Union', 'Center for Strategic and International Studies in Washington', 'Wine Institute', 'Matthew Goodman', 'Tim Johnson', 'Donald Trump', 'Shinzo Abe', 'open internet rules', 'e-commerce rules', 'dairy products', 'agricultural products', 'propane gas', 'Cloud computing', 'financial technologies', 'semiconductor manufacturing equipment'])\n",
      "('California Rice Commission', 90)\n",
      "0.9\n",
      "0.2\n",
      "('United States', 47)\n",
      "('America', 64)\n",
      "('Tim Johnson', 55)\n",
      "('America', 90)\n",
      "0.9\n",
      "0.2\n",
      "('propane gas', 47)\n",
      "0.36000000000000004\n",
      "New Relic 0.2\n",
      "Instagram 0\n",
      "SPOTIFY 0.2\n",
      "Walt Disney 0.5\n",
      "GW Pharmaceuticals 0.2\n",
      "Facebook 0\n",
      "Leidos Holdings 0.2\n",
      "Bob Iger 0.2\n",
      "Arnold Donald 0.2\n",
      "Jim Cramer Twitter 0.2\n",
      "{'New Relic': '0.2', 'Instagram': '0', 'SPOTIFY': '0.2', 'Walt Disney': '0.5', 'GW Pharmaceuticals': '0.2', 'Facebook': '0', 'Leidos Holdings': '0.2', 'Bob Iger': '0.2', 'Arnold Donald': '0.2', 'Jim Cramer Twitter': '0.2'}\n",
      "news_id article_20191008_050006\n",
      "matching_choices dict_keys(['New Relic', 'Instagram', 'SPOTIFY', 'Walt Disney', 'GW Pharmaceuticals', 'Facebook', 'Leidos Holdings', 'Bob Iger', 'Arnold Donald', 'Jim Cramer Twitter'])\n",
      "('GW Pharmaceuticals', 39)\n",
      "('Instagram', 45)\n",
      "('GW Pharmaceuticals', 45)\n",
      "('Arnold Donald', 42)\n",
      "('GW Pharmaceuticals', 45)\n",
      "('Instagram', 50)\n",
      "0.0\n",
      "Business_Finance 0.821\n",
      "Instagram 0\n",
      "Facebook 0\n",
      "Cedar Fair 0.8\n",
      "Six Flags Entertainment 0.8\n",
      "Jim Cramer 0.8\n",
      "Jim Cramer Twitter 0.2\n",
      "{'Business_Finance': '0.821', 'Instagram': '0', 'Facebook': '0', 'Cedar Fair': '0.8', 'Six Flags Entertainment': '0.8', 'Jim Cramer': '0.8', 'Jim Cramer Twitter': '0.2'}\n",
      "news_id article_20191008_050038\n",
      "matching_choices dict_keys(['Business_Finance', 'Instagram', 'Facebook', 'Cedar Fair', 'Six Flags Entertainment', 'Jim Cramer', 'Jim Cramer Twitter'])\n",
      "('Cedar Fair', 40)\n",
      "('Instagram', 45)\n",
      "('Six Flags Entertainment', 49)\n",
      "('Six Flags Entertainment', 47)\n",
      "('Jim Cramer', 51)\n",
      "('Instagram', 50)\n",
      "0.0\n",
      "Business_Finance 1\n",
      "New Jersey 0.2\n",
      "Miami 0.2\n",
      "China 0.2\n",
      "Newark 0.2\n",
      "Qiagen 0.2\n",
      "Pop Sugar 0.2\n",
      "ILLUMINA 0.5\n",
      "Group Nine Media 0.2\n",
      "HIKVISION 0.2\n",
      "Ambarella 0.2\n",
      "American Airlines 0.2\n",
      "U.S. Commerce Department 0.2\n",
      "Discovery 0.2\n",
      "Qiagen 0.2\n",
      "Thierry Bernard 0.2\n",
      "Roland Sackers 0.2\n",
      "digital publisher 0.2\n",
      "biotechnology 0.2\n",
      "women-focused publisher 0.2\n",
      "{'Business_Finance': '1', 'New Jersey': '0.2', 'Miami': '0.2', 'China': '0.2', 'Newark': '0.2', 'Qiagen': '0.2', 'Pop Sugar': '0.2', 'ILLUMINA': '0.5', 'Group Nine Media': '0.2', 'HIKVISION': '0.2', 'Ambarella': '0.2', 'American Airlines': '0.2', 'U.S. Commerce Department': '0.2', 'Discovery': '0.2', 'Thierry Bernard': '0.2', 'Roland Sackers': '0.2', 'digital publisher': '0.2', 'biotechnology': '0.2', 'women-focused publisher': '0.2'}\n",
      "news_id article_20191008_050048\n",
      "matching_choices dict_keys(['Business_Finance', 'New Jersey', 'Miami', 'China', 'Newark', 'Qiagen', 'Pop Sugar', 'ILLUMINA', 'Group Nine Media', 'HIKVISION', 'Ambarella', 'American Airlines', 'U.S. Commerce Department', 'Discovery', 'Thierry Bernard', 'Roland Sackers', 'digital publisher', 'biotechnology', 'women-focused publisher'])\n",
      "('Miami', 45)\n",
      "('Group Nine Media', 45)\n",
      "('American Airlines', 47)\n",
      "('Newark', 45)\n",
      "('American Airlines', 86)\n",
      "0.86\n",
      "0.2\n",
      "('Miami', 40)\n",
      "0.17200000000000001\n",
      "relevance_list [{'id': 'article_20191008_045842', 'relevance': 0.0}, {'id': 'article_20191008_045901', 'relevance': 0.0}, {'id': 'article_20191008_045912', 'relevance': 0.0}, {'id': 'article_20191008_045922', 'relevance': 0.17200000000000001}, {'id': 'article_20191008_045933', 'relevance': 0.0}, {'id': 'article_20191008_045945', 'relevance': 0.0}, {'id': 'article_20191008_045955', 'relevance': 0.36000000000000004}, {'id': 'article_20191008_050006', 'relevance': 0.0}, {'id': 'article_20191008_050038', 'relevance': 0.0}, {'id': 'article_20191008_050048', 'relevance': 0.17200000000000001}]\n",
      "[{'id': 'article_20191008_045955', 'relevance': 0.36000000000000004}, {'id': 'article_20191008_045922', 'relevance': 0.17200000000000001}, {'id': 'article_20191008_050048', 'relevance': 0.17200000000000001}, {'id': 'article_20191008_045842', 'relevance': 0.0}, {'id': 'article_20191008_045901', 'relevance': 0.0}, {'id': 'article_20191008_045912', 'relevance': 0.0}, {'id': 'article_20191008_045933', 'relevance': 0.0}, {'id': 'article_20191008_045945', 'relevance': 0.0}, {'id': 'article_20191008_050006', 'relevance': 0.0}, {'id': 'article_20191008_050038', 'relevance': 0.0}]\n"
     ]
    }
   ],
   "source": [
    "#testing function getRelevantNewsArticles \n",
    "relevance_list=getRelevantNewsArticles(news_articles[0:10], dict(cdata_f.ix[1]))\n",
    "print('relevance_list',relevance_list)\n",
    "#print(sorted(relevance_list, key = lambda x : x['relevance'],reverse=True))\n"
   ]
  },
  {
   "cell_type": "code",
   "execution_count": 33,
   "metadata": {},
   "outputs": [],
   "source": [
    "def getRelevantNewsArticles(news_articles,client_data):\n",
    "    client_tags=getClientProfile(client_data)\n",
    "    news_relevance_list=[]\n",
    "    \n",
    "    for news in news_articles:\n",
    "        news_relevance={}\n",
    "        news_relevance['id']=news['id']\n",
    "        news_tags=getNewstagswithRelevance(news['text'])\n",
    "        matching_choices=news_tags.keys()\n",
    "        print('news_id',news['id'])\n",
    "        print('matching_choices',matching_choices)\n",
    "        total_relevance_of_article=0.0\n",
    "        for tag in client_tags:\n",
    "    \n",
    "            match=process.extractOne(tag, matching_choices)\n",
    "            print(match)\n",
    "            if match[1]>70:\n",
    "                news_tag_relevance=float(news_tags[match[0]])\n",
    "                print(match[1]/100)\n",
    "                print(news_tag_relevance)\n",
    "                total_relevance_of_article=total_relevance_of_article+(match[1]/100)*(news_tag_relevance)\n",
    "           \n",
    "            \n",
    "        news_relevance['relevance']=total_relevance_of_article\n",
    "        news_relevance_list.append(news_relevance)\n",
    "        print(total_relevance_of_article)\n",
    "    return sorted(relevance_list, key = lambda x : x['relevance'],reverse=True)"
   ]
  },
  {
   "cell_type": "code",
   "execution_count": 15,
   "metadata": {},
   "outputs": [],
   "source": [
    "def getClientProfile(client_data):\n",
    "    client_tags=[]\n",
    "    for key in client_data.keys():\n",
    "        print(client_data[key])\n",
    "        client_tags.append(client_data[key])\n",
    "    return client_tags"
   ]
  },
  {
   "cell_type": "code",
   "execution_count": 16,
   "metadata": {},
   "outputs": [],
   "source": [
    "#captures all news tags and relevance in dict\n",
    "def getNewstagswithRelevance(data):\n",
    "    result=refinitiv.tag(url='https://api.thomsonreuters.com/permid/calais',api_key='1tuJRbkEEOJ5SyERevb9pk5oDDVjQ4AQ',content=data)\n",
    "    #bring all the details in one array\n",
    "    news_tags={}\n",
    "    for key in result.keys():\n",
    "        for val in result[key]:\n",
    "            if 'relevance' in val.keys():\n",
    "                print(val['name'],val['relevance'])\n",
    "                news_tags[val['name']]=val['relevance']\n",
    "            else:\n",
    "                print(val['name'],val['score'])\n",
    "                news_tags[val['name']]=val['score']\n",
    "\n",
    "    print(news_tags)\n",
    "    return news_tags"
   ]
  },
  {
   "cell_type": "code",
   "execution_count": 7,
   "metadata": {},
   "outputs": [],
   "source": [
    "#what if we get same relevance artilces?\n",
    "\n",
    "news_text_files = os.listdir(\"../../data/News/Text/\")\n",
    "news_json_files = os.listdir(\"../../data/News/JSON/\")"
   ]
  },
  {
   "cell_type": "code",
   "execution_count": 34,
   "metadata": {},
   "outputs": [
    {
     "ename": "FileNotFoundError",
     "evalue": "[Errno 2] No such file or directory: '../../data/News/demo_data/article_20191008_045842.txt'",
     "output_type": "error",
     "traceback": [
      "\u001b[1;31m---------------------------------------------------------------------------\u001b[0m",
      "\u001b[1;31mFileNotFoundError\u001b[0m                         Traceback (most recent call last)",
      "\u001b[1;32m<ipython-input-34-0ed9c898baff>\u001b[0m in \u001b[0;36m<module>\u001b[1;34m\u001b[0m\n\u001b[0;32m      2\u001b[0m \u001b[1;33m\u001b[0m\u001b[0m\n\u001b[0;32m      3\u001b[0m \u001b[1;32mfor\u001b[0m \u001b[0mf\u001b[0m \u001b[1;32min\u001b[0m \u001b[0mnews_text_files\u001b[0m\u001b[1;33m:\u001b[0m\u001b[1;33m\u001b[0m\u001b[1;33m\u001b[0m\u001b[0m\n\u001b[1;32m----> 4\u001b[1;33m     \u001b[0mnews_f\u001b[0m \u001b[1;33m=\u001b[0m \u001b[0mopen\u001b[0m\u001b[1;33m(\u001b[0m\u001b[1;34m\"../../data/News/demo_data/\"\u001b[0m \u001b[1;33m+\u001b[0m \u001b[0mf\u001b[0m\u001b[1;33m,\u001b[0m \u001b[1;34m\"r\"\u001b[0m\u001b[1;33m,\u001b[0m \u001b[0mencoding\u001b[0m\u001b[1;33m=\u001b[0m\u001b[1;34m\"utf-8\"\u001b[0m\u001b[1;33m)\u001b[0m\u001b[1;33m\u001b[0m\u001b[1;33m\u001b[0m\u001b[0m\n\u001b[0m\u001b[0;32m      5\u001b[0m     \u001b[0mnews\u001b[0m \u001b[1;33m=\u001b[0m \u001b[0mnews_f\u001b[0m\u001b[1;33m.\u001b[0m\u001b[0mread\u001b[0m\u001b[1;33m(\u001b[0m\u001b[1;33m)\u001b[0m\u001b[1;33m\u001b[0m\u001b[1;33m\u001b[0m\u001b[0m\n\u001b[0;32m      6\u001b[0m     \u001b[0mnews_f\u001b[0m\u001b[1;33m.\u001b[0m\u001b[0mclose\u001b[0m\u001b[1;33m(\u001b[0m\u001b[1;33m)\u001b[0m\u001b[1;33m\u001b[0m\u001b[1;33m\u001b[0m\u001b[0m\n",
      "\u001b[1;31mFileNotFoundError\u001b[0m: [Errno 2] No such file or directory: '../../data/News/demo_data/article_20191008_045842.txt'"
     ]
    }
   ],
   "source": [
    "news_articles = []\n",
    "\n",
    "for f in news_text_files:\n",
    "    news_f = open(\"../../data/News/demo_data/\" + f, \"r\", encoding=\"utf-8\")\n",
    "    news = news_f.read()\n",
    "    news_f.close()\n",
    "    news_articles.append({\"id\": f.split(\".\")[0], \"text\": news})"
   ]
  },
  {
   "cell_type": "code",
   "execution_count": 9,
   "metadata": {},
   "outputs": [],
   "source": [
    "client_data = read_excel(\"../../data/client_data/sample_clients.xlsx\")"
   ]
  },
  {
   "cell_type": "code",
   "execution_count": 10,
   "metadata": {},
   "outputs": [],
   "source": [
    "cdata_f = client_data[[\"residence\", \"top_1\", \"top_2\", \"top_3\", \"top_4\", \"top_5\"]]"
   ]
  },
  {
   "cell_type": "code",
   "execution_count": 21,
   "metadata": {},
   "outputs": [
    {
     "name": "stderr",
     "output_type": "stream",
     "text": [
      "C:\\ProgramData\\Anaconda3\\lib\\site-packages\\ipykernel_launcher.py:1: DeprecationWarning: \n",
      ".ix is deprecated. Please use\n",
      ".loc for label based indexing or\n",
      ".iloc for positional indexing\n",
      "\n",
      "See the documentation here:\n",
      "http://pandas.pydata.org/pandas-docs/stable/indexing.html#ix-indexer-is-deprecated\n",
      "  \"\"\"Entry point for launching an IPython kernel.\n"
     ]
    },
    {
     "data": {
      "text/plain": [
       "residence                    california\n",
       "top_1        wells fargo st muni BD INS\n",
       "top_2                     Amer cent INC\n",
       "top_3              JANUS HENDERSON INTL\n",
       "top_4        American gw fd americal f2\n",
       "top_5              bank deposit program\n",
       "Name: 1, dtype: object"
      ]
     },
     "execution_count": 21,
     "metadata": {},
     "output_type": "execute_result"
    }
   ],
   "source": [
    "cdata_f.ix[1]"
   ]
  },
  {
   "cell_type": "code",
   "execution_count": null,
   "metadata": {},
   "outputs": [],
   "source": [
    "Business_Finance', 'Shenzhen', 'Asia', 'Shanghai', 'Hangzhou Hikvision', 'Japan', 'United States', 'Beijing', 'Australia', 'Washington', 'China', 'South Korea', 'Mizuho Bank', 'SenseTime Group', 'J.P. Morgan', 'Federal Government', 'HANGZHOU HIKVISION', 'Westpac', 'Samsung', 'Commonwealth Bank', 'ANZ', 'IFLYTEK', 'Huawei', 'Zhejiang Dahua Technology', 'Reuters', 'National Australia Bank', 'U.S. Commerce Department', 'Rahul Khare', 'Vishnu Varathan', '5G technology', 'Oil prices', 'KOREA SE KOSPI INDEX', 'HANG SENG INDEX', 'S&P/ASX 200', 'SHENZHEN SE COMPOSITE INDEX', 'NIKKEI 225 INDEX', 'TOPIX STOCK PRICE INDEX', 'SHANGHAI SE COMPOSITE INDEX'])\n",
    "('Asia', 45)"
   ]
  },
  {
   "cell_type": "code",
   "execution_count": 23,
   "metadata": {},
   "outputs": [
    {
     "ename": "SyntaxError",
     "evalue": "invalid syntax (<ipython-input-23-427992ad2dc5>, line 1)",
     "output_type": "error",
     "traceback": [
      "\u001b[1;36m  File \u001b[1;32m\"<ipython-input-23-427992ad2dc5>\"\u001b[1;36m, line \u001b[1;32m1\u001b[0m\n\u001b[1;33m    [(article if article[\"id\"]==\"article_20191008_050048\") for article in news_articles]\u001b[0m\n\u001b[1;37m                                                         ^\u001b[0m\n\u001b[1;31mSyntaxError\u001b[0m\u001b[1;31m:\u001b[0m invalid syntax\n"
     ]
    }
   ],
   "source": [
    "\n",
    "[(article if article[\"id\"]==\"article_20191008_050048\") for article in news_articles]"
   ]
  },
  {
   "cell_type": "code",
   "execution_count": 26,
   "metadata": {
    "scrolled": true
   },
   "outputs": [
    {
     "name": "stdout",
     "output_type": "stream",
     "text": [
      "{'id': 'article_20191008_045922', 'text': 'Asia markets gained on Tuesday, with major indexes in Japan, South Korea, China and Hong Kong trading higher.\\nThe Nikkei 225 in Japan rose 1.03% while the Topix index added 0.82%. South Korea’s Kospi index was up 1.03% as Samsung shares gained 1.05%. The tech giant announced third-quarter guidance, saying its operating profit for the three months that ended in September is expected to more than halve from a year ago, but it is set to beat analysts’ expectations.\\nChinese markets returned to trade following a week-long public holiday: The Shanghai composite rose 0.54%, the Shenzhen composite added 0.85% and the Shenzhen component index was up 1.17%.\\nIn Hong Kong, the Hang Seng index rose 0.98%. Australia’s benchmark ASX 200 notched a 0.5% gain, with most sectors advancing. The country’s so-called Big Four banks gained as shares of National Australia Bank were up 0.82%, Commonwealth Bank gained 0.63% and Westpac shares retraced losses to trade up 0.23%.\\nThe session in Asia follows a muted performance on Wall Street overnight where stocks dipped slightly.\\n“Investors are very focused on the US-China trade talks and ongoing Brexit discussions in what is generally a quiet week for data,” Rahul Khare from ANZ Research said in a morning note. “The market continues to debate the degree of easing required from the Fed following the recent fall in unemployment but weakening activity indicators.”\\nHigh-level trade talks between the world’s two largest economies are due to start on Thursday, but reports said Chinese officials appear to be growing hesitant to pursue a broad trade deal with the United States. Deputy trade negotiators from both sides also began a new round of talks on Monday aimed at ending the prolonged trade war, where Washington and Beijing have imposed tariffs on billions of dollars worth of each other’s imports.\\nBut, new developments this week may potentially complicate the negotiations: The U.S. Commerce Department on Monday added 28 Chinese firms and public security bureaus to the so-called Entity List, a blacklist restricting their ability to do business with American companies. Many of those names added include Chinese tech companies such as SenseTime Group, video surveillance firms Hangzhou Hikvision and Shenzhen-listed Zhejiang Dahua Technology, and IFLYTEK.\\nZhejiang Dahua Technology shares were halted from trade pending announcement, Reuters reported, while IFLYTEK shares fell 1.66%.\\nThe growing dimensions of the U.S.-China disputes, which include security issues — such as Huawei and 5G technology — and trade, “set the stage for a prolonged conflict,” Vishnu Varathan, head of economics and strategy at Mizuho Bank, wrote in a morning note. “The means (and presumable) motives for acrimony in US-China relations are outpacing the options and ability to find solutions/compromises to arrive at a deal.”\\nAnalysts at J.P. Morgan said in a note they expect four possible scenarios could emerge from the trade negotiations.\\nFirst, an “ice-breaking meeting that will lead to a major deal” in the coming months; second, a “mini-deal” focusing on China’s purchase of U.S. products and some structural reforms while new tariffs get postponed indefinitely; third, a no-deal status quo where new tariffs come into play, but negotiations continue; and, finally, a break-up scenario, where there’s no deal and no further dialogue between the U.S. and China.\\nJ.P. Morgan analysts said they are expecting a no-deal status quo while “market investors also have high hopes for a mini-deal.”\\nAmerican tariffs on $250 billion worth of Chinese goods are scheduled to rise to 30% on Oct. 15.\\nIn the currency market, the dollar index, which measures the U.S. dollar against a basket of its peers, traded at 98.963, declining from levels near 99.600 in the previous week.\\nThe Japanese yen, which is seen as a safe-haven currency during times of market volatility, traded at 107.35 versus the dollar, strengthening from levels above 107.50 early last week. Meanwhile, the Australian dollar changed hands at $0.6746, climbing from an earlier low of $0.6726.\\nOil prices traded higher, with U.S. crude futures up 0.51% at $53.02 per barrel. Global benchmark Brent added 0.48% to $58.63.'}\n"
     ]
    }
   ],
   "source": [
    "for article in news_articles:\n",
    "    if (article[\"id\"]==\"article_20191008_045922\"):\n",
    "        print(article)"
   ]
  },
  {
   "cell_type": "code",
   "execution_count": null,
   "metadata": {},
   "outputs": [],
   "source": []
  }
 ],
 "metadata": {
  "kernelspec": {
   "display_name": "Python 3",
   "language": "python",
   "name": "python3"
  },
  "language_info": {
   "codemirror_mode": {
    "name": "ipython",
    "version": 3
   },
   "file_extension": ".py",
   "mimetype": "text/x-python",
   "name": "python",
   "nbconvert_exporter": "python",
   "pygments_lexer": "ipython3",
   "version": "3.7.3"
  }
 },
 "nbformat": 4,
 "nbformat_minor": 2
}

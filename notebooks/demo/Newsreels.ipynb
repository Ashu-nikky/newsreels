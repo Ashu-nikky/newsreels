{
 "cells": [
  {
   "cell_type": "code",
   "execution_count": 1,
   "metadata": {},
   "outputs": [],
   "source": [
    "import os"
   ]
  },
  {
   "cell_type": "code",
   "execution_count": 2,
   "metadata": {},
   "outputs": [],
   "source": [
    "import sys"
   ]
  },
  {
   "cell_type": "code",
   "execution_count": 3,
   "metadata": {},
   "outputs": [],
   "source": [
    "sys.path.append(\"../../newsreels/tagger\")"
   ]
  },
  {
   "cell_type": "code",
   "execution_count": 4,
   "metadata": {},
   "outputs": [],
   "source": [
    "import refinitiv"
   ]
  },
  {
   "cell_type": "code",
   "execution_count": 5,
   "metadata": {},
   "outputs": [],
   "source": [
    "news_articles_dir = \"../../data/News/\""
   ]
  },
  {
   "cell_type": "code",
   "execution_count": 6,
   "metadata": {},
   "outputs": [],
   "source": [
    "news_articles_files = os.listdir(news_articles_dir)"
   ]
  },
  {
   "cell_type": "code",
   "execution_count": 7,
   "metadata": {},
   "outputs": [],
   "source": [
    "news_articles = list()"
   ]
  },
  {
   "cell_type": "markdown",
   "metadata": {},
   "source": [
    "# News Articles - Data"
   ]
  },
  {
   "cell_type": "markdown",
   "metadata": {},
   "source": [
    "<h5> Sources - CNBC / Business Insider </h5>\n",
    "<h5> Library - NewsAPI - Python </h5>\n",
    "<h5> Scraping Technology stack - Selenium, Chrome and XPATH </h5>"
   ]
  },
  {
   "cell_type": "code",
   "execution_count": 14,
   "metadata": {},
   "outputs": [],
   "source": [
    "for f in news_articles_files:\n",
    "    if (\"txt\" in f):\n",
    "        news_f = open(news_articles_dir + f, \"r\", encoding=\"utf-8\")\n",
    "        news = news_f.read()\n",
    "        news_articles.append({\"id\": f.split(\".\")[0], \"text\": news})"
   ]
  },
  {
   "cell_type": "code",
   "execution_count": 15,
   "metadata": {},
   "outputs": [
    {
     "data": {
      "text/plain": [
       "[{'id': 'article_1',\n",
       "  'text': 'Verizon reported its second quarter earnings this morning, and while revenue fell short of analyst predictions, the company had strong profits and subscriber growth.\\n\\nVerizon reported consolidated revenue of $32.1 billion in Q2, down 0.4% year-over-year and lower than analyst estimates of $32.4 billion. However, it also reported adjusted earnings per share of $1.23, compared to analyst predictions of $1.20 (which was Verizon’s EPS a year ago).\\n\\nThe company saw significant growth in wireless subscribers, with a total net addition of 451,000 subscribers, including 420,000 net adds on the smartphone side and 245,000 on the phone side (compared to a net addition of 199,000 phone subscribers in Q2 2018).\\n\\nMeanwhile, the Fios internet business saw 34,000 net additions, with revenue growing 1.9% year-over-year.\\n\\nBreaking it down by business unit, Verizon Consumer revenue was $22.0 billion (flat year-over-year), Verizon Business revenue came in at $7.8 billion (down 1.1%) and Verizon Media (which owns TechCrunch) saw revenue of $1.8 billion, down 2.9%.\\n\\nThe earnings release also points to the carrier’s rollout of 5G, with a statement from CEO Hans Vestberg: “Verizon made history this quarter by becoming the first carrier in the world to launch 5G mobility. We are focused on optimizing our next-generation networks and enhancing the customer experience while we head into the second half of the year with great momentum.”\\n\\nIn an interview with CNBC, Vestberg predicted that half of the United States will have functioning 5G by 2020.\\n\\nAs of 11:16 am Eastern, Verizon shares were up 1.14% since the start of trading.\\n'},\n",
       " {'id': 'article_2',\n",
       "  'text': 'Wells Fargo’s ATMs are getting an upgrade. The bank announced today that more than 40 percent – or over 5,000 of its ATMs – will now allow customers to perform transactions without having to pull out their bank card. Instead, users can take advantage of NFC – aka the “tap and pay” technology that powers mobile wallet systems like Apple Pay, Android Pay, and Samsung Pay, as well as Wells Fargo’s own Wallet for Android app.\\n\\nThe bank had previously announced its plans to allow contactless ATM transactions earlier this year, but it initially rolled out one-time access code technology to allow for ATM access without a physical bank card. This worked in conjunction with the Wells Fargo Mobile Banking app, making Wells Fargo the first large U.S. bank to have a fleet of card-free ATMs, the company notes today.\\n\\nThat access code technology proved popular enough after its introduction this spring. Wells Fargo says it has seen nearly 3 million card-free transactions to date, thanks to its addition.\\n\\nNow, customers can initiate an NFC-based ATM transaction instead by holding their phone or a wearable device (like an Apple Watch) near the ATM terminal.\\n\\nThe NFC-ready ATMs will have a “contactless symbol” decal on the front, so you’ll know if the feature is supported. Then, customers will enter their PIN code as usual and complete their transaction.\\n\\nWith the launch of NFC-enabled transactions, the number of card-free transactions is likely to grow by quite a bit. Consumers today are already familiar with how tap-and-pay works thanks to NFC-based point-of-sale systems at checkout. Plus, mobile payments adoption may have also gotten a boost in the wake of the switchover to chip-and-PIN credit cards in the U.S., where these new chip card transactions often take much longer to process than the traditional swipe ever did. That makes mobile payments even more appealing.\\n\\nBecause mobile payments is already understood by many of Wells Fargo’s over 20 million mobile banking and mobile wallet customers, few will need much education as to how to take advantage of the NFC-enabled ATMs.\\n\\nThe bank says it plans to upgrade the remaining 8,000 or so ATMs by next year to support NFC transactions.\\n\\nWells Fargo isn’t the only bank prepping its systems for the contactless future. Bank of America also last year began offering NFC transactions at its ATMs, and Chase announced its plans here as well.\\n'},\n",
       " {'id': 'article_3',\n",
       "  'text': \"\\nEvery age has its issues. In early 19th century Vermont, banking was as hot a topic as any. Banks have become such a part of the economic fabric of our world that it is hard to imagine a time when people argued over whether they should even be allowed to exist. But Vermont political factions argued over just that, both sides believing that the outcome would shape the character of society.\\n\\nThe United States got its first national bank in 1791, which, coincidentally, was the year Vermont joined the union. Only after an intense political struggle did the pro-bank faction, led by Alexander Hamilton, prevail. Supporters believed the national bank was essential to help the country pay off Revolutionary War debts and provide the financial liquidity the nation would need to evolve from an agrarian society into a commercial one. \\nGet all of VTDigger's daily news.\\n\\n\\nOpponents, led by Thomas Jefferson, feared that by encouraging borrowing to promote manufacturing and trade, the bank would harm the country’s character. A pay-as-you-go economy was more compatible with virtue, they maintained. Instead of becoming commercial, the United States should remain agricultural, which they believed would promote an independent, virtuous citizenry. As Jefferson once wrote to a friend, “I hope we shall … crush in its birth the aristocracy of our moneyed corporations, which dare already to challenge our government to a trial of strength and bid defiance to the laws of our country.”\\n\\nThe arguments used during the national bank debate were repeated in Vermont in the early 1800s when it considered whether to form its own state bank. The banking question was forced upon Vermont by outside influences. Following the federal government’s lead, many states had created their own banks. As a result, notes from out-of-state banks, which acted as a kind of currency, began to circulate in Vermont. \\n\\nThese banknotes had definite advantages over the common barter system, in which people swapped goods and labor. Barter transactions often required complex negotiations before goods could be swapped. In contrast, the notes were paper surrogates for gold or silver held by the issuing banks. At a time when coins were the main form of currency but were in short supply, these notes made it simpler for Vermonters to buy and sell goods. \\n\\nThe disadvantages of paper money, however, were also clear. The notes were issued by distant banks of unknown solvency. Once you had accepted a note as part of a transaction, you had to find a way to get some value out of it. You could, of course, swap it with another willing party for goods or services. The problem was finding a person happy to make the exchange. The possibility that the bank would go bankrupt before the holder could convert the paper note into hard currency, usually gold or silver, meant that the notes traded at a discount. The farther they were used from the issuing bank, the less they were worth. Newspapers of the day even went so far as to print tables telling what the exchange rate was for promissory notes issued by various banks. \\n\\nAnother issue was counterfeiting. With notes circulating from so many banks, people were not intimately familiar with how certain bills were supposed to look, which made life easy for all but the least competent counterfeiters.\\n\\n“The only remedy which they could devise for this evil,” wrote Zadock Thompson in his 1842 “History of Vermont,” “was to establish banks within the state, which should furnish to the people a medium of their own, similar to that possessed by other states, and serve as a guard against the circulation of spurious bills and the bills of insolvent foreign banks.”\\nVTDigger is underwritten by:\\nEV - 300 x 250\\n\\nCreating a state bank wasn’t easy, however. Vermonters had considered forming a government-backed bank while Vermont was still an independent republic. In 1786, Vermont, like the original 13 states, was in an economic depression and farmers were amassing large debts. Their creditors had loaned them hard cash and expected to be repaid in kind. The farmers, however, had spent the money. With coins in short supply, they had no way to repay the loans. The Legislature stepped in, passing a law requiring creditors to accept repayment with goods or labor that had a value comparable to the loan. Most Vermonters were happy with the solution. In a public referendum, they rejected creating a bank that would have issued paper notes and thereby made money more available.\\n\\nThe idea of a state bank resurfaced in the early 1800s. The Legislature debated the issue during its 1803 session after citizens sought to have state banks chartered in Burlington and Windsor. \\n\\nThe bank found backers among merchants and others in the Connecticut River Valley. The area was connected by commerce to Boston and points south. A state bank would issue state-backed currency and credit and so would improve business prospects. Many in the valley, however, continued to oppose the banks on the philosophical grounds that surrendering to commerce would bring speculation to the state. In addition to harming the morals of the people, they argued, easy credit would create the great disparity of wealth that plagued Europe.\\n\\nAllying with the bank supporters in the valley were members of the new class of merchants who had recently settled the northern Champlain Valley and other towns near the Canadian border. They looked north to Canada for trading partners, and supported a state bank, because it would bring ready credit that would facilitate trade.\\n\\nThe bank became a reality in 1806 when the Legislature approved creation of a state bank. The initial branches were in Woodstock, which replaced Windsor after residents there turned against the idea of a state bank, and in Middlebury, which was a compromise choice to appease a faction that opposed giving a branch to the upstart community of Burlington. The next year, however, Burlington, along with Westminster, was awarded a branch.\\n\\nThe Vermont State Bank was a great success, at first. People poured into the bank to deposit the gold and silver that would underlie the paper currency. Soon, however, they were lining up to borrow far more money than they had deposited.\\n\\n\"},\n",
       " {'id': 'article_4',\n",
       "  'text': 'Vanguard Short Term Bond ETFs are funds that focus on the shorter maturity and duration scale of the domestic fixed-income market. These are generally bonds with maturities of less than seven years and can include corporates, Treasuries, agencies as well as other bonds like TIPS.\\n\\nClick on the tabs below to see more information on Vanguard Short Term Bond ETFs, including historical performance, dividends, holdings, expense ratios, technical indicators, analysts reports and more. Click on an ETF ticker or name to go to its detail page, for in-depth news, financial data and graphs. By default the list is ordered by descending total market capitalization. Note that ETFs are usually tagged by ETFdb analysts as more than one type; for example, an inverse gold ETF may be tagged as “inverse” and as “gold” and as “commodity”.\\n\\nThis is a list of all Vanguard Short Term Bond ETFs traded in the USA which are currently tagged by ETF Database. Please note that the list may not contain newly issued ETFs. If you’re looking for a more simplified way to browse and compare ETFs, you may want to visit our ETFdb Categories, which categorize every ETF in a single “best fit” category.\\n* Assets in thousands of U.S. Dollars. \\n\\nThis page includes historical return information for all Vanguard Short Term Bond ETFs listed on U.S. exchanges that are currently tracked by ETF Database.\\n\\nThe table below includes fund flow data for all U.S. listed Vanguard Short Term Bond ETFs. Total fund flow is the capital inflow into an ETF minus the capital outflow from the ETF for a particular time period.\\n\\nFund Flows in millions of U.S. Dollars.'},\n",
       " {'id': 'article_5',\n",
       "  'text': \"ooking at the underlying holdings of the ETFs in our coverage universe at ETF Channel, we have compared the trading price of each holding against the average analyst 12-month forward target price, and computed the weighted average implied analyst target price for the ETF itself. For the SPDR Portfolio S&P 500 Growth ETF (Symbol: SPYG), we found that the implied analyst target price for the ETF based upon its underlying holdings is $43.36 per unit.\\n\\nWith SPYG trading at a recent price near $39.43 per unit, that means that analysts see 9.98% upside for this ETF looking through to the average analyst targets of the underlying holdings. Three of SPYG's underlying holdings with notable upside to their analyst target prices are United Technologies Corp (Symbol: UTX), DaVita Inc (Symbol: DVA), and Constellation Brands Inc (Symbol: STZ). Although UTX has traded at a recent price of $137.66/share, the average analyst target is 12.69% higher at $155.12/share. Similarly, DVA has 10.93% upside from the recent share price of $61.30 if the average analyst target price of $68.00/share is reached, and analysts on average are expecting STZ to reach a target price of $228.07/share, which is 10.00% above the recent price of $207.33. Below is a twelve month price history chart comparing the stock performance of UTX, DVA, and STZ: \"}]"
      ]
     },
     "execution_count": 15,
     "metadata": {},
     "output_type": "execute_result"
    }
   ],
   "source": [
    "news_articles"
   ]
  },
  {
   "cell_type": "markdown",
   "metadata": {},
   "source": [
    "# Intelligent Tagging"
   ]
  },
  {
   "cell_type": "code",
   "execution_count": null,
   "metadata": {},
   "outputs": [],
   "source": []
  }
 ],
 "metadata": {
  "kernelspec": {
   "display_name": "Python 3",
   "language": "python",
   "name": "python3"
  },
  "language_info": {
   "codemirror_mode": {
    "name": "ipython",
    "version": 3
   },
   "file_extension": ".py",
   "mimetype": "text/x-python",
   "name": "python",
   "nbconvert_exporter": "python",
   "pygments_lexer": "ipython3",
   "version": "3.7.3"
  }
 },
 "nbformat": 4,
 "nbformat_minor": 2
}
